{
 "cells": [
  {
   "cell_type": "markdown",
   "id": "12740f84",
   "metadata": {},
   "source": [
    "# Исследование \"Аренда самокатов\""
   ]
  },
  {
   "cell_type": "markdown",
   "id": "d7a31b63",
   "metadata": {},
   "source": [
    "## Описание проекта\n",
    "Вы аналитик популярного сервиса аренды самокатов GoFast. Вам передали данные о некоторых пользователях из нескольких городов, а также об их поездках. Проанализируйте данные и проверьте некоторые гипотезы, которые могут помочь бизнесу вырасти. <br>\n",
    "Чтобы совершать поездки по городу, пользователи сервиса GoFast пользуются мобильным приложением. Сервисом можно пользоваться:\n",
    "- без подписки <br>\n",
    "    - абонентская плата отсутствует;\n",
    "    - стоимость одной минуты поездки — 8 рублей;\n",
    "    - стоимость старта (начала поездки) — 50 рублей;\n",
    "- с подпиской Ultra\n",
    "    - абонентская плата — 199 рублей в месяц;\n",
    "    - стоимость одной минуты поездки — 6 рублей;\n",
    "    - стоимость старта — бесплатно.\n",
    "\n",
    "## Описание данных\n",
    "В основных данных есть информация о пользователях, их поездках и подписках. Пользователи — **users_go.csv** <br>\n",
    "**user_id** – уникальный идентификатор пользователя <br>\n",
    "**name** – имя пользователя <br>\n",
    "**age** – возраст <br> \n",
    "**city** – город <br>\n",
    "**subscription_type** – тип подписки (free, ultra) <br>\n",
    "<br>\n",
    "Поездки — **rides_go.csv**<br>\n",
    "**user_id** — уникальный идентификатор пользователя<br>\n",
    "**distance** — расстояние, которое пользователь проехал в текущей сессии (в метрах)<br>\n",
    "**duration** — продолжительность сессии (в минутах) — время с того момента, как пользователь нажал кнопку «Начать поездку» до момента, как он нажал кнопку «Завершить поездку»<br>\n",
    "**date** — дата совершения поездки\n",
    "<br> <br>\n",
    "Подписки — **subscriptions_go.csv**<br>\n",
    "**subscription_type** — тип подписки<br>\n",
    "**minute_price** — стоимость одной минуты поездки по данной подписке<br>\n",
    "**start_ride_price** — стоимость начала поездки<br>\n",
    "**subscription_fee** — стоимость ежемесячного платежа<br>"
   ]
  },
  {
   "cell_type": "code",
   "execution_count": 1,
   "id": "72576667",
   "metadata": {},
   "outputs": [],
   "source": [
    "import pandas as pd #импорт библиотек\n",
    "import matplotlib.pyplot as plt\n",
    "import numpy as np\n",
    "from scipy import stats as st\n",
    "from scipy.stats import binom"
   ]
  },
  {
   "cell_type": "markdown",
   "id": "8ba64ede",
   "metadata": {},
   "source": [
    "### Откроем файлы в разных вариациях (на всякий случай)"
   ]
  },
  {
   "cell_type": "code",
   "execution_count": 2,
   "id": "958c8213",
   "metadata": {},
   "outputs": [
    {
     "name": "stdout",
     "output_type": "stream",
     "text": [
      "Файл успешно загружен с локального пути\n"
     ]
    },
    {
     "data": {
      "text/html": [
       "<div>\n",
       "<style scoped>\n",
       "    .dataframe tbody tr th:only-of-type {\n",
       "        vertical-align: middle;\n",
       "    }\n",
       "\n",
       "    .dataframe tbody tr th {\n",
       "        vertical-align: top;\n",
       "    }\n",
       "\n",
       "    .dataframe thead th {\n",
       "        text-align: right;\n",
       "    }\n",
       "</style>\n",
       "<table border=\"1\" class=\"dataframe\">\n",
       "  <thead>\n",
       "    <tr style=\"text-align: right;\">\n",
       "      <th></th>\n",
       "      <th>user_id</th>\n",
       "      <th>name</th>\n",
       "      <th>age</th>\n",
       "      <th>city</th>\n",
       "      <th>subscription_type</th>\n",
       "    </tr>\n",
       "  </thead>\n",
       "  <tbody>\n",
       "    <tr>\n",
       "      <th>0</th>\n",
       "      <td>1</td>\n",
       "      <td>Кира</td>\n",
       "      <td>22</td>\n",
       "      <td>Тюмень</td>\n",
       "      <td>ultra</td>\n",
       "    </tr>\n",
       "    <tr>\n",
       "      <th>1</th>\n",
       "      <td>2</td>\n",
       "      <td>Станислав</td>\n",
       "      <td>31</td>\n",
       "      <td>Омск</td>\n",
       "      <td>ultra</td>\n",
       "    </tr>\n",
       "    <tr>\n",
       "      <th>2</th>\n",
       "      <td>3</td>\n",
       "      <td>Алексей</td>\n",
       "      <td>20</td>\n",
       "      <td>Москва</td>\n",
       "      <td>ultra</td>\n",
       "    </tr>\n",
       "    <tr>\n",
       "      <th>3</th>\n",
       "      <td>4</td>\n",
       "      <td>Константин</td>\n",
       "      <td>26</td>\n",
       "      <td>Ростов-на-Дону</td>\n",
       "      <td>ultra</td>\n",
       "    </tr>\n",
       "    <tr>\n",
       "      <th>4</th>\n",
       "      <td>5</td>\n",
       "      <td>Адель</td>\n",
       "      <td>28</td>\n",
       "      <td>Омск</td>\n",
       "      <td>ultra</td>\n",
       "    </tr>\n",
       "  </tbody>\n",
       "</table>\n",
       "</div>"
      ],
      "text/plain": [
       "   user_id        name  age            city subscription_type\n",
       "0        1        Кира   22          Тюмень             ultra\n",
       "1        2   Станислав   31            Омск             ultra\n",
       "2        3     Алексей   20          Москва             ultra\n",
       "3        4  Константин   26  Ростов-на-Дону             ultra\n",
       "4        5       Адель   28            Омск             ultra"
      ]
     },
     "execution_count": 2,
     "metadata": {},
     "output_type": "execute_result"
    }
   ],
   "source": [
    "#путь к файлу\n",
    "local_path = 'users_go.csv' #локальный путь\n",
    "default_path = '/datasets/users_go.csv' #для проверки\n",
    "\n",
    "#попытка прочитать файл\n",
    "try:\n",
    "    user_data = pd.read_csv(default_path)\n",
    "    print('Файл успешно загружен с локального пути')\n",
    "except FileNotFoundError:\n",
    "    try:\n",
    "        user_data = pd.read_csv(local_path)\n",
    "        print('Файл успешно загружен с пути для проверок')\n",
    "    except FileNotFoundError:\n",
    "        print('Файл не найден ни по одному из путей')\n",
    "pd.set_option('display.max_columns', None)\n",
    "user_data.head()"
   ]
  },
  {
   "cell_type": "code",
   "execution_count": 3,
   "id": "7ca4b98c",
   "metadata": {},
   "outputs": [
    {
     "name": "stdout",
     "output_type": "stream",
     "text": [
      "Файл успешно загружен с локального пути\n"
     ]
    },
    {
     "data": {
      "text/html": [
       "<div>\n",
       "<style scoped>\n",
       "    .dataframe tbody tr th:only-of-type {\n",
       "        vertical-align: middle;\n",
       "    }\n",
       "\n",
       "    .dataframe tbody tr th {\n",
       "        vertical-align: top;\n",
       "    }\n",
       "\n",
       "    .dataframe thead th {\n",
       "        text-align: right;\n",
       "    }\n",
       "</style>\n",
       "<table border=\"1\" class=\"dataframe\">\n",
       "  <thead>\n",
       "    <tr style=\"text-align: right;\">\n",
       "      <th></th>\n",
       "      <th>user_id</th>\n",
       "      <th>distance</th>\n",
       "      <th>duration</th>\n",
       "      <th>date</th>\n",
       "    </tr>\n",
       "  </thead>\n",
       "  <tbody>\n",
       "    <tr>\n",
       "      <th>0</th>\n",
       "      <td>1</td>\n",
       "      <td>4409.919140</td>\n",
       "      <td>25.599769</td>\n",
       "      <td>2021-01-01</td>\n",
       "    </tr>\n",
       "    <tr>\n",
       "      <th>1</th>\n",
       "      <td>1</td>\n",
       "      <td>2617.592153</td>\n",
       "      <td>15.816871</td>\n",
       "      <td>2021-01-18</td>\n",
       "    </tr>\n",
       "    <tr>\n",
       "      <th>2</th>\n",
       "      <td>1</td>\n",
       "      <td>754.159807</td>\n",
       "      <td>6.232113</td>\n",
       "      <td>2021-04-20</td>\n",
       "    </tr>\n",
       "    <tr>\n",
       "      <th>3</th>\n",
       "      <td>1</td>\n",
       "      <td>2694.783254</td>\n",
       "      <td>18.511000</td>\n",
       "      <td>2021-08-11</td>\n",
       "    </tr>\n",
       "    <tr>\n",
       "      <th>4</th>\n",
       "      <td>1</td>\n",
       "      <td>4028.687306</td>\n",
       "      <td>26.265803</td>\n",
       "      <td>2021-08-28</td>\n",
       "    </tr>\n",
       "  </tbody>\n",
       "</table>\n",
       "</div>"
      ],
      "text/plain": [
       "   user_id     distance   duration        date\n",
       "0        1  4409.919140  25.599769  2021-01-01\n",
       "1        1  2617.592153  15.816871  2021-01-18\n",
       "2        1   754.159807   6.232113  2021-04-20\n",
       "3        1  2694.783254  18.511000  2021-08-11\n",
       "4        1  4028.687306  26.265803  2021-08-28"
      ]
     },
     "execution_count": 3,
     "metadata": {},
     "output_type": "execute_result"
    }
   ],
   "source": [
    "#путь к файлу\n",
    "local_path = 'rides_go.csv' #локальный путь\n",
    "default_path = '/datasets/rides_go.csv' #для проверки\n",
    "\n",
    "#попытка прочитать файл\n",
    "try:\n",
    "    rides_data = pd.read_csv(default_path)\n",
    "    print('Файл успешно загружен с локального пути')\n",
    "except FileNotFoundError:\n",
    "    try:\n",
    "        rides_data = pd.read_csv(local_path)\n",
    "        print('Файл успешно загружен с пути для проверок')\n",
    "    except FileNotFoundError:\n",
    "        print('Файл не найден ни по одному из путей')\n",
    "rides_data.head()"
   ]
  },
  {
   "cell_type": "code",
   "execution_count": 4,
   "id": "6eea6aed",
   "metadata": {},
   "outputs": [
    {
     "name": "stdout",
     "output_type": "stream",
     "text": [
      "Файл успешно загружен с локального пути\n"
     ]
    },
    {
     "data": {
      "text/html": [
       "<div>\n",
       "<style scoped>\n",
       "    .dataframe tbody tr th:only-of-type {\n",
       "        vertical-align: middle;\n",
       "    }\n",
       "\n",
       "    .dataframe tbody tr th {\n",
       "        vertical-align: top;\n",
       "    }\n",
       "\n",
       "    .dataframe thead th {\n",
       "        text-align: right;\n",
       "    }\n",
       "</style>\n",
       "<table border=\"1\" class=\"dataframe\">\n",
       "  <thead>\n",
       "    <tr style=\"text-align: right;\">\n",
       "      <th></th>\n",
       "      <th>subscription_type</th>\n",
       "      <th>minute_price</th>\n",
       "      <th>start_ride_price</th>\n",
       "      <th>subscription_fee</th>\n",
       "    </tr>\n",
       "  </thead>\n",
       "  <tbody>\n",
       "    <tr>\n",
       "      <th>0</th>\n",
       "      <td>free</td>\n",
       "      <td>8</td>\n",
       "      <td>50</td>\n",
       "      <td>0</td>\n",
       "    </tr>\n",
       "    <tr>\n",
       "      <th>1</th>\n",
       "      <td>ultra</td>\n",
       "      <td>6</td>\n",
       "      <td>0</td>\n",
       "      <td>199</td>\n",
       "    </tr>\n",
       "  </tbody>\n",
       "</table>\n",
       "</div>"
      ],
      "text/plain": [
       "  subscription_type  minute_price  start_ride_price  subscription_fee\n",
       "0              free             8                50                 0\n",
       "1             ultra             6                 0               199"
      ]
     },
     "execution_count": 4,
     "metadata": {},
     "output_type": "execute_result"
    }
   ],
   "source": [
    "#путь к файлу\n",
    "local_path = 'subscriptions_go.csv' #локальный путь\n",
    "default_path = '/datasets/subscriptions_go.csv' #для проверки\n",
    "\n",
    "#попытка прочитать файл\n",
    "try:\n",
    "    subscriptions_data = pd.read_csv(default_path)\n",
    "    print('Файл успешно загружен с локального пути')\n",
    "except FileNotFoundError:\n",
    "    try:\n",
    "        subscriptions_data = pd.read_csv(local_path)\n",
    "        print('Файл успешно загружен с пути для проверок')\n",
    "    except FileNotFoundError:\n",
    "        print('Файл не найден ни по одному из путей')\n",
    "subscriptions_data.head()"
   ]
  },
  {
   "cell_type": "markdown",
   "id": "417c8208",
   "metadata": {},
   "source": [
    "### Изучим общую информацию о каждом датафрейме"
   ]
  },
  {
   "cell_type": "code",
   "execution_count": 5,
   "id": "cafd59f5",
   "metadata": {},
   "outputs": [
    {
     "name": "stdout",
     "output_type": "stream",
     "text": [
      "<class 'pandas.core.frame.DataFrame'>\n",
      "RangeIndex: 1565 entries, 0 to 1564\n",
      "Data columns (total 5 columns):\n",
      " #   Column             Non-Null Count  Dtype \n",
      "---  ------             --------------  ----- \n",
      " 0   user_id            1565 non-null   int64 \n",
      " 1   name               1565 non-null   object\n",
      " 2   age                1565 non-null   int64 \n",
      " 3   city               1565 non-null   object\n",
      " 4   subscription_type  1565 non-null   object\n",
      "dtypes: int64(2), object(3)\n",
      "memory usage: 61.3+ KB\n"
     ]
    }
   ],
   "source": [
    "user_data.info()"
   ]
  },
  {
   "cell_type": "code",
   "execution_count": 6,
   "id": "e46e9bb1",
   "metadata": {},
   "outputs": [
    {
     "data": {
      "image/png": "[encoded data removed]",
      "text/plain": [
       "<Figure size 1080x360 with 2 Axes>"
      ]
     },
     "metadata": {
      "needs_background": "light"
     },
     "output_type": "display_data"
    }
   ],
   "source": [
    "user_data.hist(figsize=(15, 5)); #построим гистограмму для всех стоблцов датафрейма"
   ]
  },
  {
   "cell_type": "code",
   "execution_count": 7,
   "id": "2bb5c30a",
   "metadata": {},
   "outputs": [
    {
     "name": "stdout",
     "output_type": "stream",
     "text": [
      "<class 'pandas.core.frame.DataFrame'>\n",
      "RangeIndex: 18068 entries, 0 to 18067\n",
      "Data columns (total 4 columns):\n",
      " #   Column    Non-Null Count  Dtype  \n",
      "---  ------    --------------  -----  \n",
      " 0   user_id   18068 non-null  int64  \n",
      " 1   distance  18068 non-null  float64\n",
      " 2   duration  18068 non-null  float64\n",
      " 3   date      18068 non-null  object \n",
      "dtypes: float64(2), int64(1), object(1)\n",
      "memory usage: 564.8+ KB\n"
     ]
    }
   ],
   "source": [
    "rides_data.info()"
   ]
  },
  {
   "cell_type": "code",
   "execution_count": 8,
   "id": "ef02d6fa",
   "metadata": {},
   "outputs": [
    {
     "data": {
      "image/png": "[encoded data removed]",
      "text/plain": [
       "<Figure size 1080x360 with 4 Axes>"
      ]
     },
     "metadata": {
      "needs_background": "light"
     },
     "output_type": "display_data"
    }
   ],
   "source": [
    "rides_data.hist(figsize=(15, 5));"
   ]
  },
  {
   "cell_type": "code",
   "execution_count": 9,
   "id": "fb1b2dc2",
   "metadata": {},
   "outputs": [
    {
     "name": "stdout",
     "output_type": "stream",
     "text": [
      "<class 'pandas.core.frame.DataFrame'>\n",
      "RangeIndex: 2 entries, 0 to 1\n",
      "Data columns (total 4 columns):\n",
      " #   Column             Non-Null Count  Dtype \n",
      "---  ------             --------------  ----- \n",
      " 0   subscription_type  2 non-null      object\n",
      " 1   minute_price       2 non-null      int64 \n",
      " 2   start_ride_price   2 non-null      int64 \n",
      " 3   subscription_fee   2 non-null      int64 \n",
      "dtypes: int64(3), object(1)\n",
      "memory usage: 192.0+ bytes\n"
     ]
    }
   ],
   "source": [
    "subscriptions_data.info()"
   ]
  },
  {
   "cell_type": "code",
   "execution_count": 10,
   "id": "8b2217d6",
   "metadata": {},
   "outputs": [
    {
     "data": {
      "text/plain": [
       "31"
      ]
     },
     "execution_count": 10,
     "metadata": {},
     "output_type": "execute_result"
    }
   ],
   "source": [
    "user_data.duplicated().sum() #посчёт дубликатов в датасете"
   ]
  },
  {
   "cell_type": "code",
   "execution_count": 11,
   "id": "4206ac1f",
   "metadata": {},
   "outputs": [
    {
     "data": {
      "text/plain": [
       "0"
      ]
     },
     "execution_count": 11,
     "metadata": {},
     "output_type": "execute_result"
    }
   ],
   "source": [
    "rides_data.duplicated().sum() #посчёт дубликатов в датасете"
   ]
  },
  {
   "cell_type": "code",
   "execution_count": 12,
   "id": "3b474525",
   "metadata": {},
   "outputs": [
    {
     "data": {
      "text/plain": [
       "0"
      ]
     },
     "execution_count": 12,
     "metadata": {},
     "output_type": "execute_result"
    }
   ],
   "source": [
    "subscriptions_data.duplicated().sum() #посчёт дубликатов в датасете"
   ]
  },
  {
   "cell_type": "markdown",
   "id": "fba98222",
   "metadata": {},
   "source": [
    "#### Вывод по первому знакомству с датафреймами \n",
    "В датафрейме **user_data** представлена иформация о пользователях. Датафрейм представлен 1565 строками, индексы от 0 до 1564, пропущенных значений нет, 5 столбцов, явных дубликатов 31, данные визуализированы  <br> \n",
    "В датафрейме **rides_data** представлена иформация о поездках пользователей. Датафрейм представлен 18068 строками, индексы от 0 до 18067, пропущенных значений нет, 4 столбца, явных дубликатов нет, данные визуализированы <br>\n",
    "В датафрейме **subscriptions_data** представлена иформация о подписках пользователей. Датафрейм представлен 2 строками, индексы от 0 до 1, пропущенных значений нет, 4 столбца, явных дубликатов нет"
   ]
  },
  {
   "cell_type": "markdown",
   "id": "7f717a54",
   "metadata": {},
   "source": [
    "###  Предобработка данных"
   ]
  },
  {
   "cell_type": "code",
   "execution_count": 13,
   "id": "ad09b45d",
   "metadata": {},
   "outputs": [
    {
     "data": {
      "text/html": [
       "<div>\n",
       "<style scoped>\n",
       "    .dataframe tbody tr th:only-of-type {\n",
       "        vertical-align: middle;\n",
       "    }\n",
       "\n",
       "    .dataframe tbody tr th {\n",
       "        vertical-align: top;\n",
       "    }\n",
       "\n",
       "    .dataframe thead th {\n",
       "        text-align: right;\n",
       "    }\n",
       "</style>\n",
       "<table border=\"1\" class=\"dataframe\">\n",
       "  <thead>\n",
       "    <tr style=\"text-align: right;\">\n",
       "      <th></th>\n",
       "      <th>user_id</th>\n",
       "      <th>distance</th>\n",
       "      <th>duration</th>\n",
       "      <th>date</th>\n",
       "    </tr>\n",
       "  </thead>\n",
       "  <tbody>\n",
       "    <tr>\n",
       "      <th>0</th>\n",
       "      <td>1</td>\n",
       "      <td>4409.91914</td>\n",
       "      <td>25.599769</td>\n",
       "      <td>2021-01-01</td>\n",
       "    </tr>\n",
       "  </tbody>\n",
       "</table>\n",
       "</div>"
      ],
      "text/plain": [
       "   user_id    distance   duration        date\n",
       "0        1  4409.91914  25.599769  2021-01-01"
      ]
     },
     "execution_count": 13,
     "metadata": {},
     "output_type": "execute_result"
    }
   ],
   "source": [
    "rides_data.head(1)"
   ]
  },
  {
   "cell_type": "code",
   "execution_count": 14,
   "id": "5e584ee6",
   "metadata": {},
   "outputs": [
    {
     "data": {
      "text/plain": [
       "dtype('<M8[ns]')"
      ]
     },
     "execution_count": 14,
     "metadata": {},
     "output_type": "execute_result"
    }
   ],
   "source": [
    "rides_data['date'] = pd.to_datetime(rides_data['date'], format='%Y-%m-%d') #перевод в тип данных дататайм\n",
    "rides_data['date'].dtype #проверка типа"
   ]
  },
  {
   "cell_type": "code",
   "execution_count": 15,
   "id": "5364cdff",
   "metadata": {},
   "outputs": [
    {
     "data": {
      "text/html": [
       "<div>\n",
       "<style scoped>\n",
       "    .dataframe tbody tr th:only-of-type {\n",
       "        vertical-align: middle;\n",
       "    }\n",
       "\n",
       "    .dataframe tbody tr th {\n",
       "        vertical-align: top;\n",
       "    }\n",
       "\n",
       "    .dataframe thead th {\n",
       "        text-align: right;\n",
       "    }\n",
       "</style>\n",
       "<table border=\"1\" class=\"dataframe\">\n",
       "  <thead>\n",
       "    <tr style=\"text-align: right;\">\n",
       "      <th></th>\n",
       "      <th>user_id</th>\n",
       "      <th>distance</th>\n",
       "      <th>duration</th>\n",
       "      <th>date</th>\n",
       "      <th>month</th>\n",
       "    </tr>\n",
       "  </thead>\n",
       "  <tbody>\n",
       "    <tr>\n",
       "      <th>0</th>\n",
       "      <td>1</td>\n",
       "      <td>4409.91914</td>\n",
       "      <td>25.599769</td>\n",
       "      <td>2021-01-01</td>\n",
       "      <td>1</td>\n",
       "    </tr>\n",
       "  </tbody>\n",
       "</table>\n",
       "</div>"
      ],
      "text/plain": [
       "   user_id    distance   duration       date  month\n",
       "0        1  4409.91914  25.599769 2021-01-01      1"
      ]
     },
     "execution_count": 15,
     "metadata": {},
     "output_type": "execute_result"
    }
   ],
   "source": [
    "rides_data['month'] = rides_data['date'].dt.month #создание столбца с номером месяца\n",
    "rides_data.head(1) #вывод первой строки датафрейма"
   ]
  },
  {
   "cell_type": "code",
   "execution_count": 16,
   "id": "680dc1d7",
   "metadata": {},
   "outputs": [
    {
     "name": "stdout",
     "output_type": "stream",
     "text": [
      "<class 'pandas.core.frame.DataFrame'>\n",
      "RangeIndex: 1565 entries, 0 to 1564\n",
      "Data columns (total 5 columns):\n",
      " #   Column             Non-Null Count  Dtype \n",
      "---  ------             --------------  ----- \n",
      " 0   user_id            1565 non-null   int64 \n",
      " 1   name               1565 non-null   object\n",
      " 2   age                1565 non-null   int64 \n",
      " 3   city               1565 non-null   object\n",
      " 4   subscription_type  1565 non-null   object\n",
      "dtypes: int64(2), object(3)\n",
      "memory usage: 61.3+ KB\n"
     ]
    }
   ],
   "source": [
    "user_data.info()"
   ]
  },
  {
   "cell_type": "code",
   "execution_count": 17,
   "id": "30ef73b1",
   "metadata": {},
   "outputs": [
    {
     "data": {
      "text/html": [
       "<div>\n",
       "<style scoped>\n",
       "    .dataframe tbody tr th:only-of-type {\n",
       "        vertical-align: middle;\n",
       "    }\n",
       "\n",
       "    .dataframe tbody tr th {\n",
       "        vertical-align: top;\n",
       "    }\n",
       "\n",
       "    .dataframe thead th {\n",
       "        text-align: right;\n",
       "    }\n",
       "</style>\n",
       "<table border=\"1\" class=\"dataframe\">\n",
       "  <thead>\n",
       "    <tr style=\"text-align: right;\">\n",
       "      <th></th>\n",
       "      <th>user_id</th>\n",
       "      <th>name</th>\n",
       "      <th>age</th>\n",
       "      <th>city</th>\n",
       "      <th>subscription_type</th>\n",
       "    </tr>\n",
       "  </thead>\n",
       "  <tbody>\n",
       "    <tr>\n",
       "      <th>0</th>\n",
       "      <td>1</td>\n",
       "      <td>Кира</td>\n",
       "      <td>22</td>\n",
       "      <td>Тюмень</td>\n",
       "      <td>ultra</td>\n",
       "    </tr>\n",
       "    <tr>\n",
       "      <th>1</th>\n",
       "      <td>2</td>\n",
       "      <td>Станислав</td>\n",
       "      <td>31</td>\n",
       "      <td>Омск</td>\n",
       "      <td>ultra</td>\n",
       "    </tr>\n",
       "    <tr>\n",
       "      <th>2</th>\n",
       "      <td>3</td>\n",
       "      <td>Алексей</td>\n",
       "      <td>20</td>\n",
       "      <td>Москва</td>\n",
       "      <td>ultra</td>\n",
       "    </tr>\n",
       "    <tr>\n",
       "      <th>3</th>\n",
       "      <td>4</td>\n",
       "      <td>Константин</td>\n",
       "      <td>26</td>\n",
       "      <td>Ростов-на-Дону</td>\n",
       "      <td>ultra</td>\n",
       "    </tr>\n",
       "    <tr>\n",
       "      <th>4</th>\n",
       "      <td>5</td>\n",
       "      <td>Адель</td>\n",
       "      <td>28</td>\n",
       "      <td>Омск</td>\n",
       "      <td>ultra</td>\n",
       "    </tr>\n",
       "  </tbody>\n",
       "</table>\n",
       "</div>"
      ],
      "text/plain": [
       "   user_id        name  age            city subscription_type\n",
       "0        1        Кира   22          Тюмень             ultra\n",
       "1        2   Станислав   31            Омск             ultra\n",
       "2        3     Алексей   20          Москва             ultra\n",
       "3        4  Константин   26  Ростов-на-Дону             ultra\n",
       "4        5       Адель   28            Омск             ultra"
      ]
     },
     "execution_count": 17,
     "metadata": {},
     "output_type": "execute_result"
    }
   ],
   "source": [
    "user_data.drop_duplicates(keep='first').reset_index(drop=True).head() #удаление явных дубликатов"
   ]
  },
  {
   "cell_type": "code",
   "execution_count": 18,
   "id": "c525060f",
   "metadata": {
    "scrolled": true
   },
   "outputs": [
    {
     "data": {
      "text/plain": [
       "{'Агата',\n",
       " 'Аделина',\n",
       " 'Адель',\n",
       " 'Айдар',\n",
       " 'Александр',\n",
       " 'Александра',\n",
       " 'Алексей',\n",
       " 'Алина',\n",
       " 'Алиса',\n",
       " 'Алия',\n",
       " 'Алла',\n",
       " 'Альберт',\n",
       " 'Альбина',\n",
       " 'Алёна',\n",
       " 'Амалия',\n",
       " 'Амина',\n",
       " 'Амир',\n",
       " 'Анастасия',\n",
       " 'Анатолий',\n",
       " 'Ангелина',\n",
       " 'Андрей',\n",
       " 'Анжелика',\n",
       " 'Анна',\n",
       " 'Антон',\n",
       " 'Антонина',\n",
       " 'Ариана',\n",
       " 'Арина',\n",
       " 'Арсен',\n",
       " 'Арсений',\n",
       " 'Артемий',\n",
       " 'Артур',\n",
       " 'Артём',\n",
       " 'Богдан',\n",
       " 'Борис',\n",
       " 'Вадим',\n",
       " 'Валентина',\n",
       " 'Валерий',\n",
       " 'Валерия',\n",
       " 'Варвара',\n",
       " 'Василий',\n",
       " 'Василина',\n",
       " 'Василиса',\n",
       " 'Вера',\n",
       " 'Вероника',\n",
       " 'Виктор',\n",
       " 'Виктория',\n",
       " 'Виолетта',\n",
       " 'Виталий',\n",
       " 'Виталина',\n",
       " 'Влад',\n",
       " 'Влада',\n",
       " 'Владимир',\n",
       " 'Владислав',\n",
       " 'Владислава',\n",
       " 'Всеволод',\n",
       " 'Вячеслав',\n",
       " 'Галина',\n",
       " 'Георгий',\n",
       " 'Герман',\n",
       " 'Глеб',\n",
       " 'Гордей',\n",
       " 'Григорий',\n",
       " 'Давид',\n",
       " 'Дамир',\n",
       " 'Даниил',\n",
       " 'Данил',\n",
       " 'Данила',\n",
       " 'Даниэль',\n",
       " 'Дарина',\n",
       " 'Дарья',\n",
       " 'Демид',\n",
       " 'Денис',\n",
       " 'Диана',\n",
       " 'Дмитрий',\n",
       " 'Ева',\n",
       " 'Евгений',\n",
       " 'Евгения',\n",
       " 'Егор',\n",
       " 'Екатерина',\n",
       " 'Елена',\n",
       " 'Елизавета',\n",
       " 'Елисей',\n",
       " 'Есения',\n",
       " 'Жанна',\n",
       " 'Зарина',\n",
       " 'Захар',\n",
       " 'Злата',\n",
       " 'Иван',\n",
       " 'Игнат',\n",
       " 'Игорь',\n",
       " 'Ильдар',\n",
       " 'Илья',\n",
       " 'Инна',\n",
       " 'Ирина',\n",
       " 'Камилла',\n",
       " 'Карина',\n",
       " 'Каролина',\n",
       " 'Кира',\n",
       " 'Кирилл',\n",
       " 'Константин',\n",
       " 'Кристина',\n",
       " 'Ксения',\n",
       " 'Лариса',\n",
       " 'Лев',\n",
       " 'Леонид',\n",
       " 'Лиана',\n",
       " 'Лидия',\n",
       " 'Лилия',\n",
       " 'Любовь',\n",
       " 'Людмила',\n",
       " 'Мадина',\n",
       " 'Майя',\n",
       " 'Макар',\n",
       " 'Максим',\n",
       " 'Марат',\n",
       " 'Маргарита',\n",
       " 'Марина',\n",
       " 'Мария',\n",
       " 'Марк',\n",
       " 'Марсель',\n",
       " 'Матвей',\n",
       " 'Мелания',\n",
       " 'Милана',\n",
       " 'Милена',\n",
       " 'Мирон',\n",
       " 'Мирослав',\n",
       " 'Мирослава',\n",
       " 'Михаил',\n",
       " 'Назар',\n",
       " 'Наталия',\n",
       " 'Наталья',\n",
       " 'Наташа',\n",
       " 'Нелли',\n",
       " 'Ника',\n",
       " 'Никита',\n",
       " 'Николай',\n",
       " 'Нина',\n",
       " 'Одиссей',\n",
       " 'Оксана',\n",
       " 'Олег',\n",
       " 'Олеся',\n",
       " 'Ольга',\n",
       " 'Павел',\n",
       " 'Петр',\n",
       " 'Платон',\n",
       " 'Полина',\n",
       " 'Радмир',\n",
       " 'Рамиль',\n",
       " 'Регина',\n",
       " 'Роберт',\n",
       " 'Родион',\n",
       " 'Роман',\n",
       " 'Ростислав',\n",
       " 'Руслан',\n",
       " 'Рустам',\n",
       " 'Савелий',\n",
       " 'Самир',\n",
       " 'Самира',\n",
       " 'Светлана',\n",
       " 'Святогор',\n",
       " 'Святослав',\n",
       " 'Семен',\n",
       " 'Сергей',\n",
       " 'Снежана',\n",
       " 'София',\n",
       " 'Софья',\n",
       " 'Станислав',\n",
       " 'Степан',\n",
       " 'Стефания',\n",
       " 'Таисия',\n",
       " 'Тамара',\n",
       " 'Тамерлан',\n",
       " 'Татьяна',\n",
       " 'Тимофей',\n",
       " 'Тимур',\n",
       " 'Тихон',\n",
       " 'Ульяна',\n",
       " 'Федор',\n",
       " 'Эвелина',\n",
       " 'Эдуард',\n",
       " 'Элина',\n",
       " 'Эльвира',\n",
       " 'Эльмира',\n",
       " 'Эмилия',\n",
       " 'Эмиль',\n",
       " 'Юлиана',\n",
       " 'Юлия',\n",
       " 'Юрий',\n",
       " 'Ян',\n",
       " 'Яна',\n",
       " 'Яромир',\n",
       " 'Ярослав',\n",
       " 'Ярослава',\n",
       " 'Ясмина'}"
      ]
     },
     "metadata": {},
     "output_type": "display_data"
    },
    {
     "name": "stdout",
     "output_type": "stream",
     "text": [
      "Число уникальных значений столбца: 194\n"
     ]
    }
   ],
   "source": [
    "display(set(user_data['name'].unique()))\n",
    "uniq_count = user_data['name'].nunique()\n",
    "print(f'Число уникальных значений столбца: {uniq_count}')"
   ]
  },
  {
   "cell_type": "markdown",
   "id": "c4ee9f8b",
   "metadata": {},
   "source": [
    "*Неявных дубликатов замечено не было*"
   ]
  },
  {
   "cell_type": "code",
   "execution_count": 19,
   "id": "2f6e7191",
   "metadata": {},
   "outputs": [
    {
     "data": {
      "text/plain": [
       "{'Екатеринбург',\n",
       " 'Краснодар',\n",
       " 'Москва',\n",
       " 'Омск',\n",
       " 'Пятигорск',\n",
       " 'Ростов-на-Дону',\n",
       " 'Сочи',\n",
       " 'Тюмень'}"
      ]
     },
     "metadata": {},
     "output_type": "display_data"
    },
    {
     "name": "stdout",
     "output_type": "stream",
     "text": [
      "Число уникальных значений столбца: 8\n"
     ]
    }
   ],
   "source": [
    "display(set(user_data['city'].unique()))\n",
    "uniq_count_city = user_data['city'].nunique()\n",
    "print(f'Число уникальных значений столбца: {uniq_count_city}')"
   ]
  },
  {
   "cell_type": "markdown",
   "id": "91b3fc8b",
   "metadata": {},
   "source": [
    "*Неявных дубликатов замечено не было*"
   ]
  },
  {
   "cell_type": "code",
   "execution_count": 20,
   "id": "bfea08dc",
   "metadata": {},
   "outputs": [],
   "source": [
    "rides_data['distance'] = rides_data['distance'].round(2) #для удобства округлим значения до двух знаков после точки\n",
    "rides_data['duration'] = rides_data['duration'].round(2)"
   ]
  },
  {
   "cell_type": "markdown",
   "id": "e37dcf71",
   "metadata": {},
   "source": [
    "#### Вывод по Предобработке данных\n",
    "Была проведена Предобработка данных в трёх датафреймах. В **user_data** приведён столбец **\"date\"** к типу datetime и создан отдельный столбец для номера месяца. Также были удалены явные дубликаты, произведен поиск неявных дубликатов (таких не нашлось). В датафрейме **rides_data** округлены значения столбцов **distance**, **duration** до двух знаков после точки. Датафрейм **subscriptions_data** обладает небольшим объёмом информации, в предобработке не нуждается"
   ]
  },
  {
   "cell_type": "markdown",
   "id": "7324dbcf",
   "metadata": {},
   "source": [
    "### Исследовательский анализ данных\n",
    "Опишем и визуализируем общую информацию о пользователях и поездках"
   ]
  },
  {
   "cell_type": "code",
   "execution_count": 21,
   "id": "bdeddede",
   "metadata": {},
   "outputs": [
    {
     "data": {
      "image/png": "[encoded data removed]",
      "text/plain": [
       "<Figure size 504x360 with 1 Axes>"
      ]
     },
     "metadata": {
      "needs_background": "light"
     },
     "output_type": "display_data"
    }
   ],
   "source": [
    "user_data['city'].value_counts().reset_index().plot(\n",
    "    kind='bar',\n",
    "    figsize=(7,5),\n",
    "    xlabel='Названия городов',\n",
    "    ylabel='Количество воспользовавшихся пользователей',\n",
    "    title='Частота встречаемости городов',\n",
    "    grid=True)\n",
    "plt.show()"
   ]
  },
  {
   "cell_type": "code",
   "execution_count": 22,
   "id": "6d794add",
   "metadata": {},
   "outputs": [
    {
     "data": {
      "text/html": [
       "<div>\n",
       "<style scoped>\n",
       "    .dataframe tbody tr th:only-of-type {\n",
       "        vertical-align: middle;\n",
       "    }\n",
       "\n",
       "    .dataframe tbody tr th {\n",
       "        vertical-align: top;\n",
       "    }\n",
       "\n",
       "    .dataframe thead th {\n",
       "        text-align: right;\n",
       "    }\n",
       "</style>\n",
       "<table border=\"1\" class=\"dataframe\">\n",
       "  <thead>\n",
       "    <tr style=\"text-align: right;\">\n",
       "      <th></th>\n",
       "      <th>index</th>\n",
       "      <th>city</th>\n",
       "    </tr>\n",
       "  </thead>\n",
       "  <tbody>\n",
       "    <tr>\n",
       "      <th>0</th>\n",
       "      <td>Пятигорск</td>\n",
       "      <td>226</td>\n",
       "    </tr>\n",
       "    <tr>\n",
       "      <th>1</th>\n",
       "      <td>Екатеринбург</td>\n",
       "      <td>206</td>\n",
       "    </tr>\n",
       "    <tr>\n",
       "      <th>2</th>\n",
       "      <td>Ростов-на-Дону</td>\n",
       "      <td>202</td>\n",
       "    </tr>\n",
       "    <tr>\n",
       "      <th>3</th>\n",
       "      <td>Краснодар</td>\n",
       "      <td>196</td>\n",
       "    </tr>\n",
       "    <tr>\n",
       "      <th>4</th>\n",
       "      <td>Сочи</td>\n",
       "      <td>192</td>\n",
       "    </tr>\n",
       "    <tr>\n",
       "      <th>5</th>\n",
       "      <td>Омск</td>\n",
       "      <td>186</td>\n",
       "    </tr>\n",
       "    <tr>\n",
       "      <th>6</th>\n",
       "      <td>Тюмень</td>\n",
       "      <td>185</td>\n",
       "    </tr>\n",
       "    <tr>\n",
       "      <th>7</th>\n",
       "      <td>Москва</td>\n",
       "      <td>172</td>\n",
       "    </tr>\n",
       "  </tbody>\n",
       "</table>\n",
       "</div>"
      ],
      "text/plain": [
       "            index  city\n",
       "0       Пятигорск   226\n",
       "1    Екатеринбург   206\n",
       "2  Ростов-на-Дону   202\n",
       "3       Краснодар   196\n",
       "4            Сочи   192\n",
       "5            Омск   186\n",
       "6          Тюмень   185\n",
       "7          Москва   172"
      ]
     },
     "execution_count": 22,
     "metadata": {},
     "output_type": "execute_result"
    }
   ],
   "source": [
    "user_data['city'].value_counts().reset_index()"
   ]
  },
  {
   "cell_type": "markdown",
   "id": "a10b3344",
   "metadata": {},
   "source": [
    "*На столбчатой диаграмме **\"Частота встречаемости городов\"** заметно, что чаще всего люди пользуются самокатами в г. Пятигорск, а Москва занимает последнее место. Возможно, это связано с тем, что в Москве сильный поток транспорта, что не позволяет в полной мере ездить на самокатах. Также можно заметить, что в основном лидирующие позиции занимают южные города, где сезон проката самокатов несколько дольше, чем в других*"
   ]
  },
  {
   "cell_type": "code",
   "execution_count": 23,
   "id": "b979ae3d",
   "metadata": {},
   "outputs": [
    {
     "data": {
      "image/png": "[encoded data removed]",
      "text/plain": [
       "<Figure size 504x360 with 1 Axes>"
      ]
     },
     "metadata": {},
     "output_type": "display_data"
    }
   ],
   "source": [
    "user_data['subscription_type'].value_counts().plot(\n",
    "    kind='pie',\n",
    "    figsize=(7,5), \n",
    "    y='count',\n",
    "    autopct='%1.0f%%',\n",
    "    legend=True,\n",
    "    ylabel='Количество воспользовавшихся пользователей',\n",
    "    title='Cоотношение пользователей с подпиской и без подписки')\n",
    "plt.show() "
   ]
  },
  {
   "cell_type": "code",
   "execution_count": 24,
   "id": "d04e6b1b",
   "metadata": {},
   "outputs": [
    {
     "data": {
      "text/html": [
       "<div>\n",
       "<style scoped>\n",
       "    .dataframe tbody tr th:only-of-type {\n",
       "        vertical-align: middle;\n",
       "    }\n",
       "\n",
       "    .dataframe tbody tr th {\n",
       "        vertical-align: top;\n",
       "    }\n",
       "\n",
       "    .dataframe thead th {\n",
       "        text-align: right;\n",
       "    }\n",
       "</style>\n",
       "<table border=\"1\" class=\"dataframe\">\n",
       "  <thead>\n",
       "    <tr style=\"text-align: right;\">\n",
       "      <th></th>\n",
       "      <th>index</th>\n",
       "      <th>subscription_type</th>\n",
       "    </tr>\n",
       "  </thead>\n",
       "  <tbody>\n",
       "    <tr>\n",
       "      <th>0</th>\n",
       "      <td>free</td>\n",
       "      <td>846</td>\n",
       "    </tr>\n",
       "    <tr>\n",
       "      <th>1</th>\n",
       "      <td>ultra</td>\n",
       "      <td>719</td>\n",
       "    </tr>\n",
       "  </tbody>\n",
       "</table>\n",
       "</div>"
      ],
      "text/plain": [
       "   index  subscription_type\n",
       "0   free                846\n",
       "1  ultra                719"
      ]
     },
     "execution_count": 24,
     "metadata": {},
     "output_type": "execute_result"
    }
   ],
   "source": [
    "user_data['subscription_type'].value_counts().reset_index()"
   ]
  },
  {
   "cell_type": "markdown",
   "id": "cc7bb9a2",
   "metadata": {},
   "source": [
    "*На круговой диаграмме **\"Cоотношение пользователей с подпиской и без подписки\"** заметно, что 54% пользователей пользуются прокатом самокатов без подписки (free - бесплатно), а подпиской пользуются – 46% – это не половина от всего датасета, но близкое к нему значение*"
   ]
  },
  {
   "cell_type": "code",
   "execution_count": 25,
   "id": "09c0303c",
   "metadata": {},
   "outputs": [
    {
     "data": {
      "image/png": "[encoded data removed]",
      "text/plain": [
       "<Figure size 504x360 with 1 Axes>"
      ]
     },
     "metadata": {
      "needs_background": "light"
     },
     "output_type": "display_data"
    }
   ],
   "source": [
    "user_data['age'].value_counts().plot(\n",
    "    kind='bar',\n",
    "    figsize=(7,5),\n",
    "    xlabel='Возраст пользователей',\n",
    "    ylabel='Количество воспользовавшихся пользователей',\n",
    "    title='Возраст пользователей самокатами',\n",
    "    legend=True,\n",
    "    grid=True)\n",
    "plt.show()"
   ]
  },
  {
   "cell_type": "code",
   "execution_count": 26,
   "id": "6cc72796",
   "metadata": {},
   "outputs": [
    {
     "data": {
      "text/html": [
       "<div>\n",
       "<style scoped>\n",
       "    .dataframe tbody tr th:only-of-type {\n",
       "        vertical-align: middle;\n",
       "    }\n",
       "\n",
       "    .dataframe tbody tr th {\n",
       "        vertical-align: top;\n",
       "    }\n",
       "\n",
       "    .dataframe thead th {\n",
       "        text-align: right;\n",
       "    }\n",
       "</style>\n",
       "<table border=\"1\" class=\"dataframe\">\n",
       "  <thead>\n",
       "    <tr style=\"text-align: right;\">\n",
       "      <th></th>\n",
       "      <th>index</th>\n",
       "      <th>age</th>\n",
       "    </tr>\n",
       "  </thead>\n",
       "  <tbody>\n",
       "    <tr>\n",
       "      <th>0</th>\n",
       "      <td>25</td>\n",
       "      <td>149</td>\n",
       "    </tr>\n",
       "    <tr>\n",
       "      <th>1</th>\n",
       "      <td>26</td>\n",
       "      <td>133</td>\n",
       "    </tr>\n",
       "    <tr>\n",
       "      <th>2</th>\n",
       "      <td>23</td>\n",
       "      <td>133</td>\n",
       "    </tr>\n",
       "    <tr>\n",
       "      <th>3</th>\n",
       "      <td>24</td>\n",
       "      <td>132</td>\n",
       "    </tr>\n",
       "    <tr>\n",
       "      <th>4</th>\n",
       "      <td>27</td>\n",
       "      <td>124</td>\n",
       "    </tr>\n",
       "  </tbody>\n",
       "</table>\n",
       "</div>"
      ],
      "text/plain": [
       "   index  age\n",
       "0     25  149\n",
       "1     26  133\n",
       "2     23  133\n",
       "3     24  132\n",
       "4     27  124"
      ]
     },
     "execution_count": 26,
     "metadata": {},
     "output_type": "execute_result"
    }
   ],
   "source": [
    "user_data['age'].value_counts().reset_index().head()"
   ]
  },
  {
   "cell_type": "markdown",
   "id": "688e0df9",
   "metadata": {},
   "source": [
    "*На столбчатой диаграмме **\"Возраст пользователей самокатами\"** заметно, что чаще всего самокатами пользуются люди в возрасте 25 лет. Можно выявить, что возрастная категория 22-28 лет чаще всех арендуют самокат, что на практике действительно верно*"
   ]
  },
  {
   "cell_type": "code",
   "execution_count": 27,
   "id": "cde8adc0",
   "metadata": {},
   "outputs": [
    {
     "data": {
      "text/plain": [
       "count    18068.000000\n",
       "mean      3070.659992\n",
       "std       1116.831222\n",
       "min          0.860000\n",
       "25%       2543.227500\n",
       "50%       3133.610000\n",
       "75%       3776.220000\n",
       "max       7211.010000\n",
       "Name: distance, dtype: float64"
      ]
     },
     "execution_count": 27,
     "metadata": {},
     "output_type": "execute_result"
    }
   ],
   "source": [
    "rides_data['distance'].describe()"
   ]
  },
  {
   "cell_type": "code",
   "execution_count": 28,
   "id": "9715bc87",
   "metadata": {},
   "outputs": [
    {
     "data": {
      "image/png": "[encoded data removed]",
      "text/plain": [
       "<Figure size 576x360 with 1 Axes>"
      ]
     },
     "metadata": {
      "needs_background": "light"
     },
     "output_type": "display_data"
    }
   ],
   "source": [
    "rides_data['distance'].plot(\n",
    "    kind='hist',\n",
    "    bins=15,\n",
    "    figsize=(8,5),\n",
    "    xlabel='Расстояние в метрах',\n",
    "    ylabel='Количество воспользовавшихся пользователей',\n",
    "    title='Расстояние, которое пользователь преодолел за одну поездку',\n",
    "    grid=True)\n",
    "plt.show()"
   ]
  },
  {
   "cell_type": "markdown",
   "id": "b5a64e6d",
   "metadata": {},
   "source": [
    "*На гистограмме **\"Расстояние, которое пользователь преодолел за одну поездку\"** видно, что чаще всего пользователи преодолевают расстрояние в примерно 3 км, однако по рисунку виден относительно небольшой всплеск спроса на короткую дистанцию до 1 км*"
   ]
  },
  {
   "cell_type": "code",
   "execution_count": 29,
   "id": "7ed68ddc",
   "metadata": {},
   "outputs": [
    {
     "data": {
      "text/plain": [
       "count    18068.000000\n",
       "mean        17.805017\n",
       "std          6.091071\n",
       "min          0.500000\n",
       "25%         13.600000\n",
       "50%         17.680000\n",
       "75%         21.722500\n",
       "max         40.820000\n",
       "Name: duration, dtype: float64"
      ]
     },
     "execution_count": 29,
     "metadata": {},
     "output_type": "execute_result"
    }
   ],
   "source": [
    "rides_data['duration'].describe()"
   ]
  },
  {
   "cell_type": "code",
   "execution_count": 30,
   "id": "b6fd1851",
   "metadata": {},
   "outputs": [
    {
     "data": {
      "image/png": "[encoded data removed]",
      "text/plain": [
       "<Figure size 576x360 with 1 Axes>"
      ]
     },
     "metadata": {
      "needs_background": "light"
     },
     "output_type": "display_data"
    }
   ],
   "source": [
    "rides_data['duration'].plot(\n",
    "    kind='hist',\n",
    "    bins=15,\n",
    "    figsize=(8,5),\n",
    "    xlabel='Продолжительность поездки в минутах',\n",
    "    ylabel='Количество воспользовавшихся пользователей',\n",
    "    title='Продолжительность поездок',\n",
    "    grid=True)\n",
    "plt.show()"
   ]
  },
  {
   "cell_type": "markdown",
   "id": "dba224a2",
   "metadata": {},
   "source": [
    "*На гистограмме **\"Продолжительность поездок\"** видно, что чаще всего сессия поездки составляет примерно 17-18 минут*"
   ]
  },
  {
   "cell_type": "markdown",
   "id": "6002a00d",
   "metadata": {},
   "source": [
    "#### Выводы по Исследовательскому анализу даннных\n",
    "Был проведен Исследовательский анализ данных, который показал общую картину пользователя аренды самокатов. Более подробная информация представлена ниже:\n",
    "- *На столбчатой диаграмме **\"Частота встречаемости городов\"** заметно, что чаще всего люди пользуются самокатами в г. Пятигорск, а Москва занимает последнее место. Возможно, это связано с тем, что в Москве сильный поток транспорта, что не позволяет в полной мере ездить на самокатах. Также можно заметить, что в основном лидирующие позиции занимают южные города, где сезон проката самокатов несколько дольше, чем в других*\n",
    "- *На круговой диаграмме **\"Cоотношение пользователей с подпиской и без подписки\"** заметно, что 54% пользователей пользуются прокатом самокатов без подписки (free - бесплатно), а подпиской пользуются – 46% – это не половина от всего датасета, но близкое к нему значение*\n",
    "- *На столбчатой диаграмме **\"Возраст пользователей самокатами\"** заметно, что чаще всего самокатами пользуются люди в возрасте 25 лет. Можно выявить, что возрастная категория 22-28 лет чаще всех арендуют самокат, что на практике действительно верно*\n",
    "- *На гистограмме **\"Расстояние, которое пользователь преодолел за одну поездку\"** видно, что чаще всего пользователи преодолевают расстрояние в примерно 3 км, однако по рисунку виден относительно небольшой всплеск спроса на короткую дистанцию до 1 км*\n",
    "- *На гистограмме **\"Продолжительность поездок\"** видно, что чаще всего сессия поездки составляет примерно 17-18 минут*\n",
    "<br> <br> \n",
    "Портрет среднестатистического пользователя сервисом аренды самокатов следующий: человек из Пятигорска, с бесплатной подпиской, возраста 25 лет, который проехал 3 км за 17-18 минут. Скорее всего, такое большое время связано с тем, что люди катаются не для конкретного перемещения из одной точки в другую, а в целях прогулки на \"электрической машине\""
   ]
  },
  {
   "cell_type": "markdown",
   "id": "3bd56647",
   "metadata": {},
   "source": [
    "### Объединение данных"
   ]
  },
  {
   "cell_type": "code",
   "execution_count": 31,
   "id": "419cb28d",
   "metadata": {},
   "outputs": [
    {
     "data": {
      "text/plain": [
       "user_id              0\n",
       "name                 0\n",
       "age                  0\n",
       "city                 0\n",
       "subscription_type    0\n",
       "distance             0\n",
       "duration             0\n",
       "date                 0\n",
       "month                0\n",
       "minute_price         0\n",
       "start_ride_price     0\n",
       "subscription_fee     0\n",
       "dtype: int64"
      ]
     },
     "metadata": {},
     "output_type": "display_data"
    },
    {
     "data": {
      "text/html": [
       "<div>\n",
       "<style scoped>\n",
       "    .dataframe tbody tr th:only-of-type {\n",
       "        vertical-align: middle;\n",
       "    }\n",
       "\n",
       "    .dataframe tbody tr th {\n",
       "        vertical-align: top;\n",
       "    }\n",
       "\n",
       "    .dataframe thead th {\n",
       "        text-align: right;\n",
       "    }\n",
       "</style>\n",
       "<table border=\"1\" class=\"dataframe\">\n",
       "  <thead>\n",
       "    <tr style=\"text-align: right;\">\n",
       "      <th></th>\n",
       "      <th>user_id</th>\n",
       "      <th>name</th>\n",
       "      <th>age</th>\n",
       "      <th>city</th>\n",
       "      <th>subscription_type</th>\n",
       "      <th>distance</th>\n",
       "      <th>duration</th>\n",
       "      <th>date</th>\n",
       "      <th>month</th>\n",
       "      <th>minute_price</th>\n",
       "      <th>start_ride_price</th>\n",
       "      <th>subscription_fee</th>\n",
       "    </tr>\n",
       "  </thead>\n",
       "  <tbody>\n",
       "    <tr>\n",
       "      <th>0</th>\n",
       "      <td>1</td>\n",
       "      <td>Кира</td>\n",
       "      <td>22</td>\n",
       "      <td>Тюмень</td>\n",
       "      <td>ultra</td>\n",
       "      <td>4409.92</td>\n",
       "      <td>25.60</td>\n",
       "      <td>2021-01-01</td>\n",
       "      <td>1</td>\n",
       "      <td>6</td>\n",
       "      <td>0</td>\n",
       "      <td>199</td>\n",
       "    </tr>\n",
       "    <tr>\n",
       "      <th>1</th>\n",
       "      <td>1</td>\n",
       "      <td>Кира</td>\n",
       "      <td>22</td>\n",
       "      <td>Тюмень</td>\n",
       "      <td>ultra</td>\n",
       "      <td>2617.59</td>\n",
       "      <td>15.82</td>\n",
       "      <td>2021-01-18</td>\n",
       "      <td>1</td>\n",
       "      <td>6</td>\n",
       "      <td>0</td>\n",
       "      <td>199</td>\n",
       "    </tr>\n",
       "    <tr>\n",
       "      <th>2</th>\n",
       "      <td>1</td>\n",
       "      <td>Кира</td>\n",
       "      <td>22</td>\n",
       "      <td>Тюмень</td>\n",
       "      <td>ultra</td>\n",
       "      <td>754.16</td>\n",
       "      <td>6.23</td>\n",
       "      <td>2021-04-20</td>\n",
       "      <td>4</td>\n",
       "      <td>6</td>\n",
       "      <td>0</td>\n",
       "      <td>199</td>\n",
       "    </tr>\n",
       "    <tr>\n",
       "      <th>3</th>\n",
       "      <td>1</td>\n",
       "      <td>Кира</td>\n",
       "      <td>22</td>\n",
       "      <td>Тюмень</td>\n",
       "      <td>ultra</td>\n",
       "      <td>2694.78</td>\n",
       "      <td>18.51</td>\n",
       "      <td>2021-08-11</td>\n",
       "      <td>8</td>\n",
       "      <td>6</td>\n",
       "      <td>0</td>\n",
       "      <td>199</td>\n",
       "    </tr>\n",
       "    <tr>\n",
       "      <th>4</th>\n",
       "      <td>1</td>\n",
       "      <td>Кира</td>\n",
       "      <td>22</td>\n",
       "      <td>Тюмень</td>\n",
       "      <td>ultra</td>\n",
       "      <td>4028.69</td>\n",
       "      <td>26.27</td>\n",
       "      <td>2021-08-28</td>\n",
       "      <td>8</td>\n",
       "      <td>6</td>\n",
       "      <td>0</td>\n",
       "      <td>199</td>\n",
       "    </tr>\n",
       "  </tbody>\n",
       "</table>\n",
       "</div>"
      ],
      "text/plain": [
       "   user_id  name  age    city subscription_type  distance  duration  \\\n",
       "0        1  Кира   22  Тюмень             ultra   4409.92     25.60   \n",
       "1        1  Кира   22  Тюмень             ultra   2617.59     15.82   \n",
       "2        1  Кира   22  Тюмень             ultra    754.16      6.23   \n",
       "3        1  Кира   22  Тюмень             ultra   2694.78     18.51   \n",
       "4        1  Кира   22  Тюмень             ultra   4028.69     26.27   \n",
       "\n",
       "        date  month  minute_price  start_ride_price  subscription_fee  \n",
       "0 2021-01-01      1             6                 0               199  \n",
       "1 2021-01-18      1             6                 0               199  \n",
       "2 2021-04-20      4             6                 0               199  \n",
       "3 2021-08-11      8             6                 0               199  \n",
       "4 2021-08-28      8             6                 0               199  "
      ]
     },
     "execution_count": 31,
     "metadata": {},
     "output_type": "execute_result"
    }
   ],
   "source": [
    "user_rides_data = pd.merge(user_data, rides_data, on='user_id') #объединение данных пользователей и поездок\n",
    "full_data = pd.merge(user_rides_data, subscriptions_data, on='subscription_type') #объединение полученного датафрейма с данными о подписках\n",
    "display(full_data.isna().sum()) #проверка пропущенных значений после объединения столбцов\n",
    "full_data.head()"
   ]
  },
  {
   "cell_type": "code",
   "execution_count": 32,
   "id": "552c0552",
   "metadata": {},
   "outputs": [
    {
     "name": "stdout",
     "output_type": "stream",
     "text": [
      "Датафрейм c данными о пользователях без подписки:\n"
     ]
    },
    {
     "data": {
      "text/html": [
       "<div>\n",
       "<style scoped>\n",
       "    .dataframe tbody tr th:only-of-type {\n",
       "        vertical-align: middle;\n",
       "    }\n",
       "\n",
       "    .dataframe tbody tr th {\n",
       "        vertical-align: top;\n",
       "    }\n",
       "\n",
       "    .dataframe thead th {\n",
       "        text-align: right;\n",
       "    }\n",
       "</style>\n",
       "<table border=\"1\" class=\"dataframe\">\n",
       "  <thead>\n",
       "    <tr style=\"text-align: right;\">\n",
       "      <th></th>\n",
       "      <th>user_id</th>\n",
       "      <th>name</th>\n",
       "      <th>age</th>\n",
       "      <th>city</th>\n",
       "      <th>subscription_type</th>\n",
       "      <th>distance</th>\n",
       "      <th>duration</th>\n",
       "      <th>date</th>\n",
       "      <th>month</th>\n",
       "      <th>minute_price</th>\n",
       "      <th>start_ride_price</th>\n",
       "      <th>subscription_fee</th>\n",
       "    </tr>\n",
       "  </thead>\n",
       "  <tbody>\n",
       "    <tr>\n",
       "      <th>6672</th>\n",
       "      <td>700</td>\n",
       "      <td>Айдар</td>\n",
       "      <td>22</td>\n",
       "      <td>Омск</td>\n",
       "      <td>free</td>\n",
       "      <td>2515.69</td>\n",
       "      <td>14.94</td>\n",
       "      <td>2021-01-02</td>\n",
       "      <td>1</td>\n",
       "      <td>8</td>\n",
       "      <td>50</td>\n",
       "      <td>0</td>\n",
       "    </tr>\n",
       "    <tr>\n",
       "      <th>6673</th>\n",
       "      <td>700</td>\n",
       "      <td>Айдар</td>\n",
       "      <td>22</td>\n",
       "      <td>Омск</td>\n",
       "      <td>free</td>\n",
       "      <td>846.93</td>\n",
       "      <td>16.23</td>\n",
       "      <td>2021-02-01</td>\n",
       "      <td>2</td>\n",
       "      <td>8</td>\n",
       "      <td>50</td>\n",
       "      <td>0</td>\n",
       "    </tr>\n",
       "    <tr>\n",
       "      <th>6674</th>\n",
       "      <td>700</td>\n",
       "      <td>Айдар</td>\n",
       "      <td>22</td>\n",
       "      <td>Омск</td>\n",
       "      <td>free</td>\n",
       "      <td>4004.43</td>\n",
       "      <td>20.02</td>\n",
       "      <td>2021-02-04</td>\n",
       "      <td>2</td>\n",
       "      <td>8</td>\n",
       "      <td>50</td>\n",
       "      <td>0</td>\n",
       "    </tr>\n",
       "    <tr>\n",
       "      <th>6675</th>\n",
       "      <td>700</td>\n",
       "      <td>Айдар</td>\n",
       "      <td>22</td>\n",
       "      <td>Омск</td>\n",
       "      <td>free</td>\n",
       "      <td>1205.91</td>\n",
       "      <td>9.78</td>\n",
       "      <td>2021-02-10</td>\n",
       "      <td>2</td>\n",
       "      <td>8</td>\n",
       "      <td>50</td>\n",
       "      <td>0</td>\n",
       "    </tr>\n",
       "    <tr>\n",
       "      <th>6676</th>\n",
       "      <td>700</td>\n",
       "      <td>Айдар</td>\n",
       "      <td>22</td>\n",
       "      <td>Омск</td>\n",
       "      <td>free</td>\n",
       "      <td>3047.38</td>\n",
       "      <td>17.43</td>\n",
       "      <td>2021-02-14</td>\n",
       "      <td>2</td>\n",
       "      <td>8</td>\n",
       "      <td>50</td>\n",
       "      <td>0</td>\n",
       "    </tr>\n",
       "  </tbody>\n",
       "</table>\n",
       "</div>"
      ],
      "text/plain": [
       "      user_id   name  age  city subscription_type  distance  duration  \\\n",
       "6672      700  Айдар   22  Омск              free   2515.69     14.94   \n",
       "6673      700  Айдар   22  Омск              free    846.93     16.23   \n",
       "6674      700  Айдар   22  Омск              free   4004.43     20.02   \n",
       "6675      700  Айдар   22  Омск              free   1205.91      9.78   \n",
       "6676      700  Айдар   22  Омск              free   3047.38     17.43   \n",
       "\n",
       "           date  month  minute_price  start_ride_price  subscription_fee  \n",
       "6672 2021-01-02      1             8                50                 0  \n",
       "6673 2021-02-01      2             8                50                 0  \n",
       "6674 2021-02-04      2             8                50                 0  \n",
       "6675 2021-02-10      2             8                50                 0  \n",
       "6676 2021-02-14      2             8                50                 0  "
      ]
     },
     "metadata": {},
     "output_type": "display_data"
    },
    {
     "name": "stdout",
     "output_type": "stream",
     "text": [
      "Датафрейм с данными о пользователях с подпиской:\n"
     ]
    },
    {
     "data": {
      "text/html": [
       "<div>\n",
       "<style scoped>\n",
       "    .dataframe tbody tr th:only-of-type {\n",
       "        vertical-align: middle;\n",
       "    }\n",
       "\n",
       "    .dataframe tbody tr th {\n",
       "        vertical-align: top;\n",
       "    }\n",
       "\n",
       "    .dataframe thead th {\n",
       "        text-align: right;\n",
       "    }\n",
       "</style>\n",
       "<table border=\"1\" class=\"dataframe\">\n",
       "  <thead>\n",
       "    <tr style=\"text-align: right;\">\n",
       "      <th></th>\n",
       "      <th>user_id</th>\n",
       "      <th>name</th>\n",
       "      <th>age</th>\n",
       "      <th>city</th>\n",
       "      <th>subscription_type</th>\n",
       "      <th>distance</th>\n",
       "      <th>duration</th>\n",
       "      <th>date</th>\n",
       "      <th>month</th>\n",
       "      <th>minute_price</th>\n",
       "      <th>start_ride_price</th>\n",
       "      <th>subscription_fee</th>\n",
       "    </tr>\n",
       "  </thead>\n",
       "  <tbody>\n",
       "    <tr>\n",
       "      <th>0</th>\n",
       "      <td>1</td>\n",
       "      <td>Кира</td>\n",
       "      <td>22</td>\n",
       "      <td>Тюмень</td>\n",
       "      <td>ultra</td>\n",
       "      <td>4409.92</td>\n",
       "      <td>25.60</td>\n",
       "      <td>2021-01-01</td>\n",
       "      <td>1</td>\n",
       "      <td>6</td>\n",
       "      <td>0</td>\n",
       "      <td>199</td>\n",
       "    </tr>\n",
       "    <tr>\n",
       "      <th>1</th>\n",
       "      <td>1</td>\n",
       "      <td>Кира</td>\n",
       "      <td>22</td>\n",
       "      <td>Тюмень</td>\n",
       "      <td>ultra</td>\n",
       "      <td>2617.59</td>\n",
       "      <td>15.82</td>\n",
       "      <td>2021-01-18</td>\n",
       "      <td>1</td>\n",
       "      <td>6</td>\n",
       "      <td>0</td>\n",
       "      <td>199</td>\n",
       "    </tr>\n",
       "    <tr>\n",
       "      <th>2</th>\n",
       "      <td>1</td>\n",
       "      <td>Кира</td>\n",
       "      <td>22</td>\n",
       "      <td>Тюмень</td>\n",
       "      <td>ultra</td>\n",
       "      <td>754.16</td>\n",
       "      <td>6.23</td>\n",
       "      <td>2021-04-20</td>\n",
       "      <td>4</td>\n",
       "      <td>6</td>\n",
       "      <td>0</td>\n",
       "      <td>199</td>\n",
       "    </tr>\n",
       "    <tr>\n",
       "      <th>3</th>\n",
       "      <td>1</td>\n",
       "      <td>Кира</td>\n",
       "      <td>22</td>\n",
       "      <td>Тюмень</td>\n",
       "      <td>ultra</td>\n",
       "      <td>2694.78</td>\n",
       "      <td>18.51</td>\n",
       "      <td>2021-08-11</td>\n",
       "      <td>8</td>\n",
       "      <td>6</td>\n",
       "      <td>0</td>\n",
       "      <td>199</td>\n",
       "    </tr>\n",
       "    <tr>\n",
       "      <th>4</th>\n",
       "      <td>1</td>\n",
       "      <td>Кира</td>\n",
       "      <td>22</td>\n",
       "      <td>Тюмень</td>\n",
       "      <td>ultra</td>\n",
       "      <td>4028.69</td>\n",
       "      <td>26.27</td>\n",
       "      <td>2021-08-28</td>\n",
       "      <td>8</td>\n",
       "      <td>6</td>\n",
       "      <td>0</td>\n",
       "      <td>199</td>\n",
       "    </tr>\n",
       "  </tbody>\n",
       "</table>\n",
       "</div>"
      ],
      "text/plain": [
       "   user_id  name  age    city subscription_type  distance  duration  \\\n",
       "0        1  Кира   22  Тюмень             ultra   4409.92     25.60   \n",
       "1        1  Кира   22  Тюмень             ultra   2617.59     15.82   \n",
       "2        1  Кира   22  Тюмень             ultra    754.16      6.23   \n",
       "3        1  Кира   22  Тюмень             ultra   2694.78     18.51   \n",
       "4        1  Кира   22  Тюмень             ultra   4028.69     26.27   \n",
       "\n",
       "        date  month  minute_price  start_ride_price  subscription_fee  \n",
       "0 2021-01-01      1             6                 0               199  \n",
       "1 2021-01-18      1             6                 0               199  \n",
       "2 2021-04-20      4             6                 0               199  \n",
       "3 2021-08-11      8             6                 0               199  \n",
       "4 2021-08-28      8             6                 0               199  "
      ]
     },
     "execution_count": 32,
     "metadata": {},
     "output_type": "execute_result"
    }
   ],
   "source": [
    "data_free = full_data[full_data['subscription_type'] == 'free'] #срез только тех пользователей, у кого нет подписки\n",
    "data_ultra = full_data[full_data['subscription_type'] == 'ultra'] #срез только тех пользователей, у кого есть подписка\n",
    "print('Датафрейм c данными о пользователях без подписки:')\n",
    "display(data_free.head())\n",
    "print('Датафрейм с данными о пользователях с подпиской:')\n",
    "data_ultra.head()"
   ]
  },
  {
   "cell_type": "markdown",
   "id": "022e0fdd",
   "metadata": {},
   "source": [
    "*Визуализируем информацию о расстоянии и времени поездок для пользователей обеих категорий*"
   ]
  },
  {
   "cell_type": "code",
   "execution_count": 33,
   "id": "9d429081",
   "metadata": {},
   "outputs": [
    {
     "data": {
      "text/plain": [
       "count    11716.000000\n",
       "mean      3045.357338\n",
       "std       1246.269591\n",
       "min          0.860000\n",
       "25%       2366.995000\n",
       "50%       3114.665000\n",
       "75%       3903.765000\n",
       "max       7211.010000\n",
       "Name: distance, dtype: float64"
      ]
     },
     "execution_count": 33,
     "metadata": {},
     "output_type": "execute_result"
    }
   ],
   "source": [
    "data_free['distance'].describe() #вывод описательной статистики"
   ]
  },
  {
   "cell_type": "code",
   "execution_count": 34,
   "id": "05825584",
   "metadata": {},
   "outputs": [
    {
     "data": {
      "text/plain": [
       "count    6672.000000\n",
       "mean     3115.435009\n",
       "std       836.687033\n",
       "min       244.210000\n",
       "25%      2785.360000\n",
       "50%      3148.735000\n",
       "75%      3559.722500\n",
       "max      5699.770000\n",
       "Name: distance, dtype: float64"
      ]
     },
     "execution_count": 34,
     "metadata": {},
     "output_type": "execute_result"
    }
   ],
   "source": [
    "data_ultra['distance'].describe() #вывод описательной статистики"
   ]
  },
  {
   "cell_type": "code",
   "execution_count": 35,
   "id": "0f95120a",
   "metadata": {},
   "outputs": [
    {
     "data": {
      "image/png": "[encoded data removed]",
      "text/plain": [
       "<Figure size 576x360 with 1 Axes>"
      ]
     },
     "metadata": {
      "needs_background": "light"
     },
     "output_type": "display_data"
    },
    {
     "data": {
      "image/png": "[encoded data removed]",
      "text/plain": [
       "<Figure size 576x360 with 1 Axes>"
      ]
     },
     "metadata": {
      "needs_background": "light"
     },
     "output_type": "display_data"
    }
   ],
   "source": [
    "#для бесплатного тарифа\n",
    "data_free['distance'].plot(\n",
    "    kind='hist',\n",
    "    bins=15,\n",
    "    figsize=(8,5),\n",
    "    xlabel='Расстояние в метрах',\n",
    "    ylabel='Частота',\n",
    "    title='Расстояние поездок пользователей без подписки',\n",
    "    grid=True)\n",
    "plt.show()\n",
    "\n",
    "#для платной подписки\n",
    "data_ultra['distance'].plot(\n",
    "    kind='hist',\n",
    "    bins=15,\n",
    "    figsize=(8,5),\n",
    "    xlabel='Расстояние в метрах',\n",
    "    ylabel='Частота',\n",
    "    title='Расстояние поездок пользователей с подпиской',\n",
    "    grid=True)\n",
    "plt.show()"
   ]
  },
  {
   "cell_type": "code",
   "execution_count": 36,
   "id": "588a763c",
   "metadata": {},
   "outputs": [
    {
     "data": {
      "text/plain": [
       "count    11716.000000\n",
       "mean        17.394821\n",
       "std          6.326347\n",
       "min          0.500000\n",
       "25%         12.960000\n",
       "50%         17.340000\n",
       "75%         21.602500\n",
       "max         34.950000\n",
       "Name: duration, dtype: float64"
      ]
     },
     "execution_count": 36,
     "metadata": {},
     "output_type": "execute_result"
    }
   ],
   "source": [
    "data_free['duration'].describe() #вывод описательной статистики"
   ]
  },
  {
   "cell_type": "code",
   "execution_count": 37,
   "id": "b09360f1",
   "metadata": {},
   "outputs": [
    {
     "data": {
      "text/plain": [
       "count    6672.000000\n",
       "mean       18.531451\n",
       "std         5.572656\n",
       "min         3.760000\n",
       "25%        14.500000\n",
       "50%        18.180000\n",
       "75%        21.890000\n",
       "max        40.820000\n",
       "Name: duration, dtype: float64"
      ]
     },
     "execution_count": 37,
     "metadata": {},
     "output_type": "execute_result"
    }
   ],
   "source": [
    "data_ultra['duration'].describe() #вывод описательной статистики"
   ]
  },
  {
   "cell_type": "code",
   "execution_count": 38,
   "id": "fe19daec",
   "metadata": {},
   "outputs": [
    {
     "data": {
      "image/png": "[encoded data removed]",
      "text/plain": [
       "<Figure size 576x360 with 1 Axes>"
      ]
     },
     "metadata": {
      "needs_background": "light"
     },
     "output_type": "display_data"
    },
    {
     "data": {
      "image/png": "[encoded data removed]",
      "text/plain": [
       "<Figure size 576x360 with 1 Axes>"
      ]
     },
     "metadata": {
      "needs_background": "light"
     },
     "output_type": "display_data"
    }
   ],
   "source": [
    "#для бесплатного тарифа\n",
    "data_free['duration'].plot(\n",
    "    kind='hist',\n",
    "    bins=15,\n",
    "    figsize=(8,5),\n",
    "    xlabel='Время в минутах',\n",
    "    ylabel='Частота',\n",
    "    title='Время поездок пользователей без подписки',\n",
    "    grid=True)\n",
    "plt.show()\n",
    "\n",
    "#для платной подписки\n",
    "data_ultra['duration'].plot(\n",
    "    kind='hist',\n",
    "    bins=15,\n",
    "    figsize=(8,5),\n",
    "    xlabel='Время в минутах',\n",
    "    ylabel='Частота',\n",
    "    title='Время поездок пользователей с подпиской',\n",
    "    grid=True)\n",
    "plt.show()"
   ]
  },
  {
   "cell_type": "markdown",
   "id": "b0faffc7",
   "metadata": {},
   "source": [
    "#### Вывод по объединению и визуализации данных\n",
    "На данном шаге были объединены три датафрейма в один с сохранением всех данных, после чего в два отдельных датасета выделены пользователи, имеющие и не имеющие подписку. Также была приведена описательная статистика времени и дистанции поездки для каждой группы пользователей, визуализированы данные <br> Рассматривая гистограммы, связанные с расстояниями поездок, можно заметить, что медианное значение для людей с подпиской возрастает, а стандартное отклонение уменьшается – возможно, это связано с тем, что кататься на самокате в долгую перспективу выгоднее, чем на короткие дистанции. Также важно заметить, что самокаты были арендованы также на короткие дистанции, что создало ещё один небольшой пик\n",
    "<br> Рассматривая гистограммы, связанные со временем поездок, можно заметить, что медианное значение для людей с подпиской возрастает, как и максимальное время аренды, а стандартное отклонение так же уменьшается. Возможно, данная закономерность связана с тем, что с подпиской выгоднее ездить для пользователей"
   ]
  },
  {
   "cell_type": "markdown",
   "id": "afaac41a",
   "metadata": {},
   "source": [
    "### Подсчёт выручки"
   ]
  },
  {
   "cell_type": "code",
   "execution_count": 39,
   "id": "daaa5551",
   "metadata": {},
   "outputs": [],
   "source": [
    "full_data['duration'] = np.ceil(full_data['duration']) "
   ]
  },
  {
   "cell_type": "code",
   "execution_count": 40,
   "id": "070edc10",
   "metadata": {},
   "outputs": [
    {
     "data": {
      "text/html": [
       "<div>\n",
       "<style scoped>\n",
       "    .dataframe tbody tr th:only-of-type {\n",
       "        vertical-align: middle;\n",
       "    }\n",
       "\n",
       "    .dataframe tbody tr th {\n",
       "        vertical-align: top;\n",
       "    }\n",
       "\n",
       "    .dataframe thead th {\n",
       "        text-align: right;\n",
       "    }\n",
       "</style>\n",
       "<table border=\"1\" class=\"dataframe\">\n",
       "  <thead>\n",
       "    <tr style=\"text-align: right;\">\n",
       "      <th></th>\n",
       "      <th>user_id</th>\n",
       "      <th>name</th>\n",
       "      <th>age</th>\n",
       "      <th>city</th>\n",
       "      <th>subscription_type</th>\n",
       "      <th>distance</th>\n",
       "      <th>duration</th>\n",
       "      <th>date</th>\n",
       "      <th>month</th>\n",
       "      <th>minute_price</th>\n",
       "      <th>start_ride_price</th>\n",
       "      <th>subscription_fee</th>\n",
       "    </tr>\n",
       "  </thead>\n",
       "  <tbody>\n",
       "    <tr>\n",
       "      <th>0</th>\n",
       "      <td>1</td>\n",
       "      <td>Кира</td>\n",
       "      <td>22</td>\n",
       "      <td>Тюмень</td>\n",
       "      <td>ultra</td>\n",
       "      <td>4409.92</td>\n",
       "      <td>26.0</td>\n",
       "      <td>2021-01-01</td>\n",
       "      <td>1</td>\n",
       "      <td>6</td>\n",
       "      <td>0</td>\n",
       "      <td>199</td>\n",
       "    </tr>\n",
       "    <tr>\n",
       "      <th>1</th>\n",
       "      <td>1</td>\n",
       "      <td>Кира</td>\n",
       "      <td>22</td>\n",
       "      <td>Тюмень</td>\n",
       "      <td>ultra</td>\n",
       "      <td>2617.59</td>\n",
       "      <td>16.0</td>\n",
       "      <td>2021-01-18</td>\n",
       "      <td>1</td>\n",
       "      <td>6</td>\n",
       "      <td>0</td>\n",
       "      <td>199</td>\n",
       "    </tr>\n",
       "    <tr>\n",
       "      <th>2</th>\n",
       "      <td>1</td>\n",
       "      <td>Кира</td>\n",
       "      <td>22</td>\n",
       "      <td>Тюмень</td>\n",
       "      <td>ultra</td>\n",
       "      <td>754.16</td>\n",
       "      <td>7.0</td>\n",
       "      <td>2021-04-20</td>\n",
       "      <td>4</td>\n",
       "      <td>6</td>\n",
       "      <td>0</td>\n",
       "      <td>199</td>\n",
       "    </tr>\n",
       "    <tr>\n",
       "      <th>3</th>\n",
       "      <td>1</td>\n",
       "      <td>Кира</td>\n",
       "      <td>22</td>\n",
       "      <td>Тюмень</td>\n",
       "      <td>ultra</td>\n",
       "      <td>2694.78</td>\n",
       "      <td>19.0</td>\n",
       "      <td>2021-08-11</td>\n",
       "      <td>8</td>\n",
       "      <td>6</td>\n",
       "      <td>0</td>\n",
       "      <td>199</td>\n",
       "    </tr>\n",
       "    <tr>\n",
       "      <th>4</th>\n",
       "      <td>1</td>\n",
       "      <td>Кира</td>\n",
       "      <td>22</td>\n",
       "      <td>Тюмень</td>\n",
       "      <td>ultra</td>\n",
       "      <td>4028.69</td>\n",
       "      <td>27.0</td>\n",
       "      <td>2021-08-28</td>\n",
       "      <td>8</td>\n",
       "      <td>6</td>\n",
       "      <td>0</td>\n",
       "      <td>199</td>\n",
       "    </tr>\n",
       "  </tbody>\n",
       "</table>\n",
       "</div>"
      ],
      "text/plain": [
       "   user_id  name  age    city subscription_type  distance  duration  \\\n",
       "0        1  Кира   22  Тюмень             ultra   4409.92      26.0   \n",
       "1        1  Кира   22  Тюмень             ultra   2617.59      16.0   \n",
       "2        1  Кира   22  Тюмень             ultra    754.16       7.0   \n",
       "3        1  Кира   22  Тюмень             ultra   2694.78      19.0   \n",
       "4        1  Кира   22  Тюмень             ultra   4028.69      27.0   \n",
       "\n",
       "        date  month  minute_price  start_ride_price  subscription_fee  \n",
       "0 2021-01-01      1             6                 0               199  \n",
       "1 2021-01-18      1             6                 0               199  \n",
       "2 2021-04-20      4             6                 0               199  \n",
       "3 2021-08-11      8             6                 0               199  \n",
       "4 2021-08-28      8             6                 0               199  "
      ]
     },
     "execution_count": 40,
     "metadata": {},
     "output_type": "execute_result"
    }
   ],
   "source": [
    "full_data.head()"
   ]
  },
  {
   "cell_type": "code",
   "execution_count": 41,
   "id": "f599de81",
   "metadata": {},
   "outputs": [
    {
     "data": {
      "text/html": [
       "<div>\n",
       "<style scoped>\n",
       "    .dataframe tbody tr th:only-of-type {\n",
       "        vertical-align: middle;\n",
       "    }\n",
       "\n",
       "    .dataframe tbody tr th {\n",
       "        vertical-align: top;\n",
       "    }\n",
       "\n",
       "    .dataframe thead th {\n",
       "        text-align: right;\n",
       "    }\n",
       "</style>\n",
       "<table border=\"1\" class=\"dataframe\">\n",
       "  <thead>\n",
       "    <tr style=\"text-align: right;\">\n",
       "      <th></th>\n",
       "      <th>user_id</th>\n",
       "      <th>month</th>\n",
       "      <th>distance</th>\n",
       "      <th>duration</th>\n",
       "      <th>ride_count</th>\n",
       "    </tr>\n",
       "  </thead>\n",
       "  <tbody>\n",
       "    <tr>\n",
       "      <th>0</th>\n",
       "      <td>1</td>\n",
       "      <td>1</td>\n",
       "      <td>7027.51</td>\n",
       "      <td>42.0</td>\n",
       "      <td>2</td>\n",
       "    </tr>\n",
       "    <tr>\n",
       "      <th>1</th>\n",
       "      <td>1</td>\n",
       "      <td>4</td>\n",
       "      <td>754.16</td>\n",
       "      <td>7.0</td>\n",
       "      <td>1</td>\n",
       "    </tr>\n",
       "    <tr>\n",
       "      <th>2</th>\n",
       "      <td>1</td>\n",
       "      <td>8</td>\n",
       "      <td>6723.47</td>\n",
       "      <td>46.0</td>\n",
       "      <td>2</td>\n",
       "    </tr>\n",
       "    <tr>\n",
       "      <th>3</th>\n",
       "      <td>1</td>\n",
       "      <td>10</td>\n",
       "      <td>5809.91</td>\n",
       "      <td>32.0</td>\n",
       "      <td>2</td>\n",
       "    </tr>\n",
       "    <tr>\n",
       "      <th>4</th>\n",
       "      <td>1</td>\n",
       "      <td>11</td>\n",
       "      <td>7003.50</td>\n",
       "      <td>56.0</td>\n",
       "      <td>3</td>\n",
       "    </tr>\n",
       "    <tr>\n",
       "      <th>5</th>\n",
       "      <td>1</td>\n",
       "      <td>12</td>\n",
       "      <td>6751.63</td>\n",
       "      <td>28.0</td>\n",
       "      <td>2</td>\n",
       "    </tr>\n",
       "    <tr>\n",
       "      <th>6</th>\n",
       "      <td>2</td>\n",
       "      <td>3</td>\n",
       "      <td>10187.73</td>\n",
       "      <td>63.0</td>\n",
       "      <td>3</td>\n",
       "    </tr>\n",
       "    <tr>\n",
       "      <th>7</th>\n",
       "      <td>2</td>\n",
       "      <td>4</td>\n",
       "      <td>6164.39</td>\n",
       "      <td>40.0</td>\n",
       "      <td>2</td>\n",
       "    </tr>\n",
       "    <tr>\n",
       "      <th>8</th>\n",
       "      <td>2</td>\n",
       "      <td>6</td>\n",
       "      <td>3255.34</td>\n",
       "      <td>14.0</td>\n",
       "      <td>1</td>\n",
       "    </tr>\n",
       "    <tr>\n",
       "      <th>9</th>\n",
       "      <td>2</td>\n",
       "      <td>7</td>\n",
       "      <td>6780.73</td>\n",
       "      <td>48.0</td>\n",
       "      <td>2</td>\n",
       "    </tr>\n",
       "  </tbody>\n",
       "</table>\n",
       "</div>"
      ],
      "text/plain": [
       "   user_id  month  distance  duration  ride_count\n",
       "0        1      1   7027.51      42.0           2\n",
       "1        1      4    754.16       7.0           1\n",
       "2        1      8   6723.47      46.0           2\n",
       "3        1     10   5809.91      32.0           2\n",
       "4        1     11   7003.50      56.0           3\n",
       "5        1     12   6751.63      28.0           2\n",
       "6        2      3  10187.73      63.0           3\n",
       "7        2      4   6164.39      40.0           2\n",
       "8        2      6   3255.34      14.0           1\n",
       "9        2      7   6780.73      48.0           2"
      ]
     },
     "execution_count": 41,
     "metadata": {},
     "output_type": "execute_result"
    }
   ],
   "source": [
    "aggregated_data = full_data.groupby(['user_id', 'month']).agg({\n",
    "    'distance': 'sum',\n",
    "    'duration': 'sum',\n",
    "    'date': 'count'\n",
    "}).rename(columns={'date': 'ride_count'}).reset_index()\n",
    "aggregated_data.head(10)"
   ]
  },
  {
   "cell_type": "code",
   "execution_count": 42,
   "id": "652a4757",
   "metadata": {},
   "outputs": [
    {
     "data": {
      "text/html": [
       "<div>\n",
       "<style scoped>\n",
       "    .dataframe tbody tr th:only-of-type {\n",
       "        vertical-align: middle;\n",
       "    }\n",
       "\n",
       "    .dataframe tbody tr th {\n",
       "        vertical-align: top;\n",
       "    }\n",
       "\n",
       "    .dataframe thead th {\n",
       "        text-align: right;\n",
       "    }\n",
       "</style>\n",
       "<table border=\"1\" class=\"dataframe\">\n",
       "  <thead>\n",
       "    <tr style=\"text-align: right;\">\n",
       "      <th></th>\n",
       "      <th>user_id</th>\n",
       "      <th>month</th>\n",
       "      <th>distance</th>\n",
       "      <th>duration</th>\n",
       "      <th>ride_count</th>\n",
       "      <th>subscription_type</th>\n",
       "      <th>minute_price</th>\n",
       "      <th>start_ride_price</th>\n",
       "      <th>subscription_fee</th>\n",
       "    </tr>\n",
       "  </thead>\n",
       "  <tbody>\n",
       "    <tr>\n",
       "      <th>0</th>\n",
       "      <td>1</td>\n",
       "      <td>1</td>\n",
       "      <td>7027.51</td>\n",
       "      <td>42.0</td>\n",
       "      <td>2</td>\n",
       "      <td>ultra</td>\n",
       "      <td>6</td>\n",
       "      <td>0</td>\n",
       "      <td>199</td>\n",
       "    </tr>\n",
       "    <tr>\n",
       "      <th>1</th>\n",
       "      <td>1</td>\n",
       "      <td>4</td>\n",
       "      <td>754.16</td>\n",
       "      <td>7.0</td>\n",
       "      <td>1</td>\n",
       "      <td>ultra</td>\n",
       "      <td>6</td>\n",
       "      <td>0</td>\n",
       "      <td>199</td>\n",
       "    </tr>\n",
       "    <tr>\n",
       "      <th>2</th>\n",
       "      <td>1</td>\n",
       "      <td>8</td>\n",
       "      <td>6723.47</td>\n",
       "      <td>46.0</td>\n",
       "      <td>2</td>\n",
       "      <td>ultra</td>\n",
       "      <td>6</td>\n",
       "      <td>0</td>\n",
       "      <td>199</td>\n",
       "    </tr>\n",
       "    <tr>\n",
       "      <th>3</th>\n",
       "      <td>1</td>\n",
       "      <td>10</td>\n",
       "      <td>5809.91</td>\n",
       "      <td>32.0</td>\n",
       "      <td>2</td>\n",
       "      <td>ultra</td>\n",
       "      <td>6</td>\n",
       "      <td>0</td>\n",
       "      <td>199</td>\n",
       "    </tr>\n",
       "    <tr>\n",
       "      <th>4</th>\n",
       "      <td>1</td>\n",
       "      <td>11</td>\n",
       "      <td>7003.50</td>\n",
       "      <td>56.0</td>\n",
       "      <td>3</td>\n",
       "      <td>ultra</td>\n",
       "      <td>6</td>\n",
       "      <td>0</td>\n",
       "      <td>199</td>\n",
       "    </tr>\n",
       "  </tbody>\n",
       "</table>\n",
       "</div>"
      ],
      "text/plain": [
       "   user_id  month  distance  duration  ride_count subscription_type  \\\n",
       "0        1      1   7027.51      42.0           2             ultra   \n",
       "1        1      4    754.16       7.0           1             ultra   \n",
       "2        1      8   6723.47      46.0           2             ultra   \n",
       "3        1     10   5809.91      32.0           2             ultra   \n",
       "4        1     11   7003.50      56.0           3             ultra   \n",
       "\n",
       "   minute_price  start_ride_price  subscription_fee  \n",
       "0             6                 0               199  \n",
       "1             6                 0               199  \n",
       "2             6                 0               199  \n",
       "3             6                 0               199  \n",
       "4             6                 0               199  "
      ]
     },
     "execution_count": 42,
     "metadata": {},
     "output_type": "execute_result"
    }
   ],
   "source": [
    "#объединение с данными о подписках для получения условий оплаты\n",
    "aggregated_data = pd.merge(aggregated_data, user_data[['user_id', 'subscription_type']], on='user_id') #объединение агрегированного датасета с типом данных\n",
    "aggregated_data = pd.merge(aggregated_data, subscriptions_data, on='subscription_type') #объединение агрегированного датасета с ценами \n",
    "aggregated_data.head()"
   ]
  },
  {
   "cell_type": "code",
   "execution_count": 43,
   "id": "33f32faf",
   "metadata": {},
   "outputs": [
    {
     "data": {
      "text/html": [
       "<div>\n",
       "<style scoped>\n",
       "    .dataframe tbody tr th:only-of-type {\n",
       "        vertical-align: middle;\n",
       "    }\n",
       "\n",
       "    .dataframe tbody tr th {\n",
       "        vertical-align: top;\n",
       "    }\n",
       "\n",
       "    .dataframe thead th {\n",
       "        text-align: right;\n",
       "    }\n",
       "</style>\n",
       "<table border=\"1\" class=\"dataframe\">\n",
       "  <thead>\n",
       "    <tr style=\"text-align: right;\">\n",
       "      <th></th>\n",
       "      <th>user_id</th>\n",
       "      <th>month</th>\n",
       "      <th>distance</th>\n",
       "      <th>duration</th>\n",
       "      <th>ride_count</th>\n",
       "      <th>subscription_type</th>\n",
       "      <th>minute_price</th>\n",
       "      <th>start_ride_price</th>\n",
       "      <th>subscription_fee</th>\n",
       "      <th>revenue</th>\n",
       "    </tr>\n",
       "  </thead>\n",
       "  <tbody>\n",
       "    <tr>\n",
       "      <th>0</th>\n",
       "      <td>1</td>\n",
       "      <td>1</td>\n",
       "      <td>7027.51</td>\n",
       "      <td>42.0</td>\n",
       "      <td>2</td>\n",
       "      <td>ultra</td>\n",
       "      <td>6</td>\n",
       "      <td>0</td>\n",
       "      <td>199</td>\n",
       "      <td>451.0</td>\n",
       "    </tr>\n",
       "    <tr>\n",
       "      <th>1</th>\n",
       "      <td>1</td>\n",
       "      <td>4</td>\n",
       "      <td>754.16</td>\n",
       "      <td>7.0</td>\n",
       "      <td>1</td>\n",
       "      <td>ultra</td>\n",
       "      <td>6</td>\n",
       "      <td>0</td>\n",
       "      <td>199</td>\n",
       "      <td>241.0</td>\n",
       "    </tr>\n",
       "    <tr>\n",
       "      <th>2</th>\n",
       "      <td>1</td>\n",
       "      <td>8</td>\n",
       "      <td>6723.47</td>\n",
       "      <td>46.0</td>\n",
       "      <td>2</td>\n",
       "      <td>ultra</td>\n",
       "      <td>6</td>\n",
       "      <td>0</td>\n",
       "      <td>199</td>\n",
       "      <td>475.0</td>\n",
       "    </tr>\n",
       "    <tr>\n",
       "      <th>3</th>\n",
       "      <td>1</td>\n",
       "      <td>10</td>\n",
       "      <td>5809.91</td>\n",
       "      <td>32.0</td>\n",
       "      <td>2</td>\n",
       "      <td>ultra</td>\n",
       "      <td>6</td>\n",
       "      <td>0</td>\n",
       "      <td>199</td>\n",
       "      <td>391.0</td>\n",
       "    </tr>\n",
       "    <tr>\n",
       "      <th>4</th>\n",
       "      <td>1</td>\n",
       "      <td>11</td>\n",
       "      <td>7003.50</td>\n",
       "      <td>56.0</td>\n",
       "      <td>3</td>\n",
       "      <td>ultra</td>\n",
       "      <td>6</td>\n",
       "      <td>0</td>\n",
       "      <td>199</td>\n",
       "      <td>535.0</td>\n",
       "    </tr>\n",
       "  </tbody>\n",
       "</table>\n",
       "</div>"
      ],
      "text/plain": [
       "   user_id  month  distance  duration  ride_count subscription_type  \\\n",
       "0        1      1   7027.51      42.0           2             ultra   \n",
       "1        1      4    754.16       7.0           1             ultra   \n",
       "2        1      8   6723.47      46.0           2             ultra   \n",
       "3        1     10   5809.91      32.0           2             ultra   \n",
       "4        1     11   7003.50      56.0           3             ultra   \n",
       "\n",
       "   minute_price  start_ride_price  subscription_fee  revenue  \n",
       "0             6                 0               199    451.0  \n",
       "1             6                 0               199    241.0  \n",
       "2             6                 0               199    475.0  \n",
       "3             6                 0               199    391.0  \n",
       "4             6                 0               199    535.0  "
      ]
     },
     "metadata": {},
     "output_type": "display_data"
    },
    {
     "name": "stdout",
     "output_type": "stream",
     "text": [
      "Общая сумма выручки равна: 4047086.0 рублей\n"
     ]
    }
   ],
   "source": [
    "#подсчёт помесячной выручки\n",
    "aggregated_data['revenue'] = (\n",
    "    aggregated_data['start_ride_price'] * aggregated_data['ride_count'] +\n",
    "    aggregated_data['minute_price'] * aggregated_data['duration'] +\n",
    "    aggregated_data['subscription_fee'] ) #формула: (стоимость старта поездки ×  количество поездок) + \n",
    "display(aggregated_data.head())           # +(стоимость одной минуты поездки × общая продолжительность всех поездок в минутах) + стоимость подписки\n",
    "revenue_sum = aggregated_data['revenue'].sum()\n",
    "print(f'Общая сумма выручки равна: {revenue_sum} рублей')"
   ]
  },
  {
   "cell_type": "code",
   "execution_count": 44,
   "id": "54495bc3",
   "metadata": {},
   "outputs": [
    {
     "data": {
      "text/html": [
       "<div>\n",
       "<style scoped>\n",
       "    .dataframe tbody tr th:only-of-type {\n",
       "        vertical-align: middle;\n",
       "    }\n",
       "\n",
       "    .dataframe tbody tr th {\n",
       "        vertical-align: top;\n",
       "    }\n",
       "\n",
       "    .dataframe thead th {\n",
       "        text-align: right;\n",
       "    }\n",
       "</style>\n",
       "<table border=\"1\" class=\"dataframe\">\n",
       "  <thead>\n",
       "    <tr style=\"text-align: right;\">\n",
       "      <th></th>\n",
       "      <th></th>\n",
       "      <th>revenue</th>\n",
       "    </tr>\n",
       "    <tr>\n",
       "      <th>user_id</th>\n",
       "      <th>month</th>\n",
       "      <th></th>\n",
       "    </tr>\n",
       "  </thead>\n",
       "  <tbody>\n",
       "    <tr>\n",
       "      <th rowspan=\"6\" valign=\"top\">1</th>\n",
       "      <th>1</th>\n",
       "      <td>451.0</td>\n",
       "    </tr>\n",
       "    <tr>\n",
       "      <th>4</th>\n",
       "      <td>241.0</td>\n",
       "    </tr>\n",
       "    <tr>\n",
       "      <th>8</th>\n",
       "      <td>475.0</td>\n",
       "    </tr>\n",
       "    <tr>\n",
       "      <th>10</th>\n",
       "      <td>391.0</td>\n",
       "    </tr>\n",
       "    <tr>\n",
       "      <th>11</th>\n",
       "      <td>535.0</td>\n",
       "    </tr>\n",
       "    <tr>\n",
       "      <th>12</th>\n",
       "      <td>367.0</td>\n",
       "    </tr>\n",
       "    <tr>\n",
       "      <th rowspan=\"4\" valign=\"top\">2</th>\n",
       "      <th>3</th>\n",
       "      <td>577.0</td>\n",
       "    </tr>\n",
       "    <tr>\n",
       "      <th>4</th>\n",
       "      <td>439.0</td>\n",
       "    </tr>\n",
       "    <tr>\n",
       "      <th>6</th>\n",
       "      <td>283.0</td>\n",
       "    </tr>\n",
       "    <tr>\n",
       "      <th>7</th>\n",
       "      <td>487.0</td>\n",
       "    </tr>\n",
       "  </tbody>\n",
       "</table>\n",
       "</div>"
      ],
      "text/plain": [
       "               revenue\n",
       "user_id month         \n",
       "1       1        451.0\n",
       "        4        241.0\n",
       "        8        475.0\n",
       "        10       391.0\n",
       "        11       535.0\n",
       "        12       367.0\n",
       "2       3        577.0\n",
       "        4        439.0\n",
       "        6        283.0\n",
       "        7        487.0"
      ]
     },
     "execution_count": 44,
     "metadata": {},
     "output_type": "execute_result"
    }
   ],
   "source": [
    "aggregated_data.pivot_table(index=['user_id', 'month'], values='revenue', aggfunc='sum').head(10)"
   ]
  },
  {
   "cell_type": "markdown",
   "id": "24681310",
   "metadata": {},
   "source": [
    "#### Выводы по подсчёту выручки\n",
    "В процессе выполнения данной части Исследования были округлены значения всех продолжительностей поездок до \"потолка\" (следующего целого числа), создан датафрейм с агрегированными данными о поездках на основе датафрейма с объединёнными данными, найдено суммарное расстояние, количество поездок и суммарное время для каждого пользователя за каждый месяц в **aggregated_data**. Далее в данный датафрейм был добавлен столбец с помесячной выручкой, которую принёс каждый пользователь, где выручка была рассчитана по формуле: (стоимость старта поездки ×  количество поездок) + (стоимость одной минуты поездки × общая продолжительность всех поездок в минутах) + стоимость подписки. **Общая сумма выручки равна 4 047 086 рублей**. В конце данного шага представлена таблица с валовой выручкой за каждый месяц каждого пользователя"
   ]
  },
  {
   "cell_type": "markdown",
   "id": "5128c432",
   "metadata": {},
   "source": [
    "### Проверка гипотез\n",
    "#### Гипотеза №1\n",
    "H0: Средняя продолжительность поездок у пользователей с платной и бесплатной подпиской равна между собой <br>\n",
    "H1: Средняя продолжительность поездок у пользователей с платной подпиской больше, чем у пользователей с бесплатной"
   ]
  },
  {
   "cell_type": "code",
   "execution_count": 45,
   "id": "919d109a",
   "metadata": {},
   "outputs": [
    {
     "name": "stdout",
     "output_type": "stream",
     "text": [
      "p-значение: 1.616762454120566e-34\n",
      "Отвергаем нулевую гипотезу\n"
     ]
    }
   ],
   "source": [
    "alpha = .05\n",
    "results_1 = st.ttest_ind(data_ultra['duration'], data_free['duration'], alternative='greater')\n",
    "print('p-значение:', results_1.pvalue)\n",
    "\n",
    "if results_1.pvalue < alpha:\n",
    "    print('Отвергаем нулевую гипотезу')\n",
    "else:\n",
    "    print('Не получилось отвергнуть нулевую гипотезу')"
   ]
  },
  {
   "cell_type": "markdown",
   "id": "d3d109e4",
   "metadata": {},
   "source": [
    "#### Вывод по Гипотезе №1\n",
    "Отвержение нулевой гипотезы о равенстве средней продолжительности поездок у пользователей с платной и бесплатной подпиской даёт право полагать, что альтернативная правосторонняя гипотеза H1 верна, однако по графикам видно, что наоборот "
   ]
  },
  {
   "cell_type": "markdown",
   "id": "39557476",
   "metadata": {},
   "source": [
    "#### Гипотеза №2\n",
    "H0: Среднее расстояние поездки с платной подпиской равно 3130 метров <br>\n",
    "H1: Среднее расстояние поездки больше, чем 3130 метров"
   ]
  },
  {
   "cell_type": "code",
   "execution_count": 46,
   "id": "78e77f27",
   "metadata": {},
   "outputs": [
    {
     "name": "stdout",
     "output_type": "stream",
     "text": [
      "p-значение: 0.9224519050425992\n",
      "Не получилось отвергнуть нулевую гипотезу\n"
     ]
    }
   ],
   "source": [
    "alpha = .05\n",
    "sr_znach = 3130\n",
    "results_2 = st.ttest_1samp(data_ultra['distance'], sr_znach, alternative='greater')\n",
    "print('p-значение:', results_2.pvalue)\n",
    "\n",
    "if results_2.pvalue < alpha:\n",
    "    print('Отвергаем нулевую гипотезу')\n",
    "else:\n",
    "    print('Не получилось отвергнуть нулевую гипотезу')"
   ]
  },
  {
   "cell_type": "markdown",
   "id": "617791a2",
   "metadata": {},
   "source": [
    "##### Вывод по Гипотезе №2\n",
    "С высокой вероятностью не получилось опровергнуть нулевую гипотезу – это означает, что Гипотезу о том, что среднее расстояние поездки с платной подпиской равно 3130 метров отвергнуть нельзя, она имеет место быть"
   ]
  },
  {
   "cell_type": "markdown",
   "id": "7fb3add6",
   "metadata": {},
   "source": [
    "#### Гипотеза №3\n",
    "H0: Средняя помесячная выручка от пользователей с подпиской равна средней выручке от пользователей без подписки <br>\n",
    "H1: Средняя помесячная выручка от пользователей с подпиской выше, чем средняя выручка от пользователей без подписки"
   ]
  },
  {
   "cell_type": "code",
   "execution_count": 47,
   "id": "4123cb73",
   "metadata": {},
   "outputs": [
    {
     "data": {
      "text/plain": [
       "4658    170.0\n",
       "4659    962.0\n",
       "4660    202.0\n",
       "4661    178.0\n",
       "4662    332.0\n",
       "Name: revenue, dtype: float64"
      ]
     },
     "execution_count": 47,
     "metadata": {},
     "output_type": "execute_result"
    }
   ],
   "source": [
    "free_revenue = aggregated_data[aggregated_data['subscription_type'] == 'free']['revenue'] #средняя помесячная выручка от пользователей без подписки\n",
    "free_revenue.head()"
   ]
  },
  {
   "cell_type": "code",
   "execution_count": 48,
   "id": "a4f441ec",
   "metadata": {},
   "outputs": [
    {
     "data": {
      "text/plain": [
       "0    451.0\n",
       "1    241.0\n",
       "2    475.0\n",
       "3    391.0\n",
       "4    535.0\n",
       "Name: revenue, dtype: float64"
      ]
     },
     "execution_count": 48,
     "metadata": {},
     "output_type": "execute_result"
    }
   ],
   "source": [
    "ultra_revenue = aggregated_data[aggregated_data['subscription_type'] == 'ultra']['revenue'] #средняя помесячная выручка от пользователей с подпиской\n",
    "ultra_revenue.head()"
   ]
  },
  {
   "cell_type": "code",
   "execution_count": 49,
   "id": "2d8875b7",
   "metadata": {},
   "outputs": [
    {
     "name": "stdout",
     "output_type": "stream",
     "text": [
      "p-значение: 2.9289789752345053e-27\n",
      "Отвергаем нулевую теорию\n"
     ]
    }
   ],
   "source": [
    "alpha = .05\n",
    "results_3 = st.ttest_ind(ultra_revenue, free_revenue, alternative='greater')\n",
    "print('p-значение:', results_3.pvalue)\n",
    "\n",
    "if results_3.pvalue < alpha:\n",
    "    print('Отвергаем нулевую теорию')\n",
    "else:\n",
    "    print('Не получилось отвергнуть нулевую теорию')"
   ]
  },
  {
   "cell_type": "markdown",
   "id": "2928d919",
   "metadata": {},
   "source": [
    "##### Вывод по Гипотезе №3\n",
    "Отвергаем нулевую теорию – это означает, что не исключено (гипотеза не опровергнута), что средняя помесячная выручка от пользователей с подпиской выше, чем средняя выручка от пользователей без подписки на уровне значимости 0.05"
   ]
  },
  {
   "cell_type": "markdown",
   "id": "8b11644e",
   "metadata": {},
   "source": [
    "#### Вопрос №4\n",
    "Представьте такую ситуацию: техническая команда сервиса обновила сервера, с которыми взаимодействует мобильное приложение. Она надеется, что из-за этого количество обращений в техподдержку значимо снизилось. Некоторый файл содержит для каждого пользователя данные о количестве обращений до обновления и после него. Какой тест вам понадобился бы для проверки этой гипотезы?"
   ]
  },
  {
   "cell_type": "markdown",
   "id": "a0d35025",
   "metadata": {},
   "source": [
    "##### Ответ на вопрос №4\n",
    "H0: Среднее количество обращений до и после обновления равны между собой\n",
    "H1: Среднее количество обращений после обновления меньше, чем до обновления\n",
    "Мы анализируем одну генеральную совокупность, у которой произошли некоторые изменения. В данном случае выборки будут зависимыми (или парными), то есть переменная (или среднее количество обращений) измеряется дважды для одних и тех же объектов. **В таком случае применяется метод scipy.stats.ttest_rel()**. "
   ]
  },
  {
   "cell_type": "markdown",
   "id": "e5865fd4",
   "metadata": {},
   "source": [
    "#### Вывод по Гипотезам\n",
    "В данном шаге работы было выдвинуто три гипотезы и один вопрос, где ответы получились следующими:\n",
    "- **Гипотеза №1** <br>\n",
    "H0: Средняя продолжительность поездок у пользователей с платной и бесплатной подпиской равна между собой <br>\n",
    "H1: Средняя продолжительность поездок у пользователей с платной подпиской больше, чем у пользователей с бесплатной <br>\n",
    "***Вывод по Гипотезе №1:*** Отвержение нулевой гипотезы о равенстве средней продолжительности поездок у пользователей с платной и бесплатной подпиской даёт право полагать, что альтернативная правосторонняя гипотеза H1 верна, однако по графикам видно, что наоборот \n",
    "- **Гипотеза №2** <br>\n",
    "H0: Среднее расстояние поездки с платной подпиской равно 3130 метров <br>\n",
    "H1: Среднее расстояние поездки больше, чем 3130 метров <br>\n",
    "***Вывод по Гипотезе №2:*** С высокой вероятностью не получилось опровергнуть нулевую гипотезу – это означает, что Гипотезу о том, что среднее расстояние поездки с платной подпиской равно 3130 метров отвергнуть нельзя, она имеет место быть\n",
    "- **Гипотеза №3** <br>\n",
    "H0: Средняя помесячная выручка от пользователей с подпиской равна средней выручке от пользователей без подписки <br>\n",
    "H1: Средняя помесячная выручка от пользователей с подпиской выше, чем средняя выручка от пользователей без подписки <br>\n",
    "***Вывод по Гипотезе №3:*** Отвергаем нулевую теорию – это означает, что не исключено (гипотеза не опровергнута), что средняя помесячная выручка от пользователей с подпиской выше, чем средняя выручка от пользователей без подписки на уровне значимости 0.05\n",
    "- **Вопрос №4** <br>\n",
    "Представьте такую ситуацию: техническая команда сервиса обновила сервера, с которыми взаимодействует мобильное приложение. Она надеется, что из-за этого количество обращений в техподдержку значимо снизилось. Некоторый файл содержит для каждого пользователя данные о количестве обращений до обновления и после него. Какой тест вам понадобился бы для проверки этой гипотезы? <br>\n",
    "***Ответ на вопрос №4*** <br>\n",
    "H0: Среднее количество обращений до и после обновления равны между собой <br>\n",
    "H1: Среднее количество обращений после обновления меньше, чем до обновления <br>\n",
    "Мы анализируем одну генеральную совокупность, у которой произошли некоторые изменения. В данном случае выборки будут зависимыми (или парными), то есть переменная (или среднее количество обращений) измеряется дважды для одних и тех же объектов. **В таком случае применяется метод scipy.stats.ttest_rel()**. "
   ]
  },
  {
   "cell_type": "markdown",
   "id": "44785662",
   "metadata": {},
   "source": [
    "## Общий вывод\n",
    "Проведя Исследование про самокаты в рамках Статистического анализа данных было проведено несколько этапов: Загрузка данных, Предобработка данных, Исследовательский анализ данных, Объединение данных, Подсчёт выручки, а также Проверка гипотез. На каждом этапе были свои особенности и нюансы, которые впоследствии анализировались и обрабатывались. Более подробные выводы по каждому этапу Исследования представлены ниже:\n",
    "### Загрузка данных\n",
    "- В датафрейме **user_data** представлена иформация о пользователях. Датафрейм представлен 1565 строками, индексы от 0 до 1564, пропущенных значений нет, 5 столбцов, явных дубликатов 31, данные визуализированы \n",
    "- В датафрейме **rides_data** представлена иформация о поездках пользователей. Датафрейм представлен 18068 строками, индексы от 0 до 18067, пропущенных значений нет, 4 столбца, явных дубликатов нет, данные визуализированы\n",
    "- В датафрейме **subscriptions_data** представлена иформация о подписках пользователей. Датафрейм представлен 2 строками, индексы от 0 до 1, пропущенных значений нет, 4 столбца, явных дубликатов нет\n",
    "### Предобработка данных\n",
    "Была проведена Предобработка данных в трёх датафреймах. В **user_data** приведён столбец **\"date\"** к типу datetime и создан отдельный столбец для номера месяца. Также были удалены явные дубликаты, произведен поиск неявных дубликатов (таких не нашлось). В датафрейме **rides_data** округлены значения столбцов **distance**, **duration** до двух знаков после точки. Датафрейм **subscriptions_data** обладает небольшим объёмом данных, в предобработке не нуждается\n",
    "### Исследовательский анализ даннных\n",
    "Был проведен Исследовательский анализ данных, который показал общую картину пользователя аренды самокатов. Более подробная информация представлена ниже:\n",
    "- *На столбчатой диаграмме **\"Частота встречаемости городов\"** заметно, что чаще всего люди пользуются самокатами в г. Пятигорск, а Москва занимает последнее место. Возможно, это связано с тем, что в Москве сильный поток транспорта, что не позволяет в полной мере ездить на самокатах. Также можно заметить, что в основном лидирующие позиции занимают южные города, где сезон проката самокатов несколько дольше, чем в других*\n",
    "- *На круговой диаграмме **\"Cоотношение пользователей с подпиской и без подписки\"** заметно, что 54% пользователей пользуются прокатом самокатов без подписки (free - бесплатно), а подпиской пользуются – 46% – это не половина от всего датасета, но близкое к нему значение*\n",
    "- *На столбчатой диаграмме **\"Возраст пользователей самокатами\"** заметно, что чаще всего самокатами пользуются люди в возрасте 25 лет. Можно выявить, что возрастная категория 22-28 лет чаще всех арендуют самокат, что на практике действительно верно*\n",
    "- *На гистограмме **\"Расстояние, которое пользователь преодолел за одну поездку\"** видно, что чаще всего пользователи преодолевают расстрояние в примерно 3 км, однако по рисунку виден относительно небольшой всплеск спроса на короткую дистанцию до 1 км*\n",
    "- *На гистограмме **\"Продолжительность поездок\"** видно, что чаще всего сессия поездки составляет примерно 17-18 минут*\n",
    "<br> <br>\n",
    "Портрет среднестатистического пользователя сервисом аренды самокатов следующий: человек из Пятигорска, с бесплатной подпиской, возраста 25 лет, который проехал 3 км за 17-18 минут. Скорее всего, такое большое время связано с тем, что люди катаются не для конкретного перемещения из одной точки в другую, а в целях прогулки на \"электрической машине\"\n",
    "### Объединение и визуализация данных\n",
    "- На данном шаге были объединены три датафрейма в один с сохранением всех данных, после чего в два отдельных датасета выделены пользователи, имеющие и не имеющие подписку. Также была приведена описательная статистика времени и дистанции поездки для каждой группы пользователей, визуализированы данные - Рассматривая гистограммы, связанные с расстояниями поездок, можно заметить, что медианное значение для людей с подпиской возрастает, а стандартное отклонение уменьшается – возможно, это связано с тем, что кататься на самокате в долгую перспективу выгоднее, чем на короткие дистанции. Также важно заметить, что самокаты были арендованы также на короткие дистанции, что создало ещё один небольшой пик\n",
    "- Рассматривая гистограммы, связанные со временем поездок, можно заметить, что медианное значение для людей с подпиской возрастает, как и максимальное время аренды, а стандартное отклонение так же уменьшается. Возможно, данная закономерность связана с тем, что с подпиской выгоднее ездить для пользователей\n",
    "### Подсчёт выручки\n",
    "В процессе выполнения данной части Исследования были округлены значения всех продолжительностей поездок до \"потолка\" (следующего целого числа), создан датафрейм с агрегированными данными о поездках на основе датафрейма с объединёнными данными, найдено суммарное расстояние, количество поездок и суммарное время для каждого пользователя за каждый месяц в **aggregated_data**. Далее в данный датафрейм был добавлен столбец с помесячной выручкой, которую принёс каждый пользователь, где выручка была рассчитана по формуле: (стоимость старта поездки ×  количество поездок) + (стоимость одной минуты поездки × общая продолжительность всех поездок в минутах) + стоимость подписки. **Общая сумма выручки равна 4 047 086 рублей**. В конце данного шага представлена таблица с валовой выручкой за каждый месяц каждого пользователя\n",
    "### Гипотезы\n",
    "В данном шаге работы было выдвинуто три гипотезы и один вопрос, где ответы получились следующими:\n",
    "- **Гипотеза №1** <br>\n",
    "H0: Средняя продолжительность поездок у пользователей с платной и бесплатной подпиской равна между собой <br>\n",
    "H1: Средняя продолжительность поездок у пользователей с платной подпиской больше, чем у пользователей с бесплатной <br>\n",
    "***Вывод по Гипотезе №1:*** Отвержение нулевой гипотезы о равенстве средней продолжительности поездок у пользователей с платной и бесплатной подпиской даёт право полагать, что альтернативная правосторонняя гипотеза H1 верна, однако по графикам видно, что наоборот \n",
    "- **Гипотеза №2** <br>\n",
    "H0: Среднее расстояние поездки с платной подпиской равно 3130 метров <br>\n",
    "H1: Среднее расстояние поездки больше, чем 3130 метров <br>\n",
    "***Вывод по Гипотезе №2:*** С высокой вероятностью не получилось опровергнуть нулевую гипотезу – это означает, что Гипотезу о том, что среднее расстояние поездки с платной подпиской равно 3130 метров отвергнуть нельзя, она имеет место быть\n",
    "- **Гипотеза №3** <br>\n",
    "H0: Средняя помесячная выручка от пользователей с подпиской равна средней выручке от пользователей без подписки <br>\n",
    "H1: Средняя помесячная выручка от пользователей с подпиской выше, чем средняя выручка от пользователей без подписки <br>\n",
    "***Вывод по Гипотезе №3:*** Отвергаем нулевую теорию – это означает, что не исключено (гипотеза не опровергнута), что средняя помесячная выручка от пользователей с подпиской выше, чем средняя выручка от пользователей без подписки на уровне значимости 0.05\n",
    "- **Вопрос №4** <br>\n",
    "Представьте такую ситуацию: техническая команда сервиса обновила сервера, с которыми взаимодействует мобильное приложение. Она надеется, что из-за этого количество обращений в техподдержку значимо снизилось. Некоторый файл содержит для каждого пользователя данные о количестве обращений до обновления и после него. Какой тест вам понадобился бы для проверки этой гипотезы? <br>\n",
    "***Ответ на вопрос №4*** <br>\n",
    "H0: Среднее количество обращений до и после обновления равны между собой <br>\n",
    "H1: Среднее количество обращений после обновления меньше, чем до обновления <br>\n",
    "Мы анализируем одну генеральную совокупность, у которой произошли некоторые изменения. В данном случае выборки будут зависимыми (или парными), то есть переменная (или среднее количество обращений) измеряется дважды для одних и тех же объектов. **В таком случае применяется метод scipy.stats.ttest_rel()**. "
   ]
  }
 ],
 "metadata": {
  "ExecuteTimeLog": [
   {
    "duration": 4,
    "start_time": "2024-07-12T19:15:40.094Z"
   },
   {
    "duration": 1085,
    "start_time": "2024-07-12T19:16:07.383Z"
   },
   {
    "duration": 3,
    "start_time": "2024-07-12T19:16:43.406Z"
   },
   {
    "duration": 44,
    "start_time": "2024-07-12T19:17:01.051Z"
   },
   {
    "duration": 44,
    "start_time": "2024-07-12T19:17:10.275Z"
   },
   {
    "duration": 31,
    "start_time": "2024-07-12T19:17:17.327Z"
   },
   {
    "duration": 11,
    "start_time": "2024-07-12T19:17:32.730Z"
   },
   {
    "duration": 283,
    "start_time": "2024-07-12T19:17:39.863Z"
   },
   {
    "duration": 12,
    "start_time": "2024-07-12T19:17:47.513Z"
   },
   {
    "duration": 363,
    "start_time": "2024-07-12T19:17:57.303Z"
   },
   {
    "duration": 10,
    "start_time": "2024-07-12T19:18:04.193Z"
   },
   {
    "duration": 6,
    "start_time": "2024-07-12T19:18:15.312Z"
   },
   {
    "duration": 10,
    "start_time": "2024-07-12T19:18:20.003Z"
   },
   {
    "duration": 4,
    "start_time": "2024-07-12T19:18:25.320Z"
   },
   {
    "duration": 3,
    "start_time": "2024-07-12T19:18:41.860Z"
   },
   {
    "duration": 8,
    "start_time": "2024-07-12T19:18:50.336Z"
   },
   {
    "duration": 10,
    "start_time": "2024-07-12T19:18:56.578Z"
   },
   {
    "duration": 13,
    "start_time": "2024-07-12T19:19:02.541Z"
   },
   {
    "duration": 14,
    "start_time": "2024-07-12T19:19:08.729Z"
   },
   {
    "duration": 10,
    "start_time": "2024-07-12T19:19:15.496Z"
   },
   {
    "duration": 10,
    "start_time": "2024-07-12T19:19:21.729Z"
   },
   {
    "duration": 7,
    "start_time": "2024-07-12T19:19:39.600Z"
   },
   {
    "duration": 4,
    "start_time": "2024-07-12T19:19:55.536Z"
   },
   {
    "duration": 54,
    "start_time": "2024-07-12T19:20:14.308Z"
   },
   {
    "duration": 151,
    "start_time": "2024-07-12T19:20:22.216Z"
   },
   {
    "duration": 9,
    "start_time": "2024-07-12T19:20:31.397Z"
   },
   {
    "duration": 132,
    "start_time": "2024-07-12T19:21:41.466Z"
   },
   {
    "duration": 10,
    "start_time": "2024-07-12T19:21:47.968Z"
   },
   {
    "duration": 273,
    "start_time": "2024-07-12T19:22:01.111Z"
   },
   {
    "duration": 9,
    "start_time": "2024-07-12T19:22:09.658Z"
   },
   {
    "duration": 12,
    "start_time": "2024-07-12T19:22:23.988Z"
   },
   {
    "duration": 155,
    "start_time": "2024-07-12T19:22:29.221Z"
   },
   {
    "duration": 10,
    "start_time": "2024-07-12T19:22:46.364Z"
   },
   {
    "duration": 142,
    "start_time": "2024-07-12T19:22:52.511Z"
   },
   {
    "duration": 78,
    "start_time": "2024-07-12T19:23:00.024Z"
   },
   {
    "duration": 3,
    "start_time": "2024-07-12T19:23:20.310Z"
   },
   {
    "duration": 31,
    "start_time": "2024-07-12T19:23:28.566Z"
   },
   {
    "duration": 40,
    "start_time": "2024-07-12T19:23:44.946Z"
   },
   {
    "duration": 8,
    "start_time": "2024-07-12T19:24:08.670Z"
   },
   {
    "duration": 9,
    "start_time": "2024-07-12T19:24:15.624Z"
   },
   {
    "duration": 366,
    "start_time": "2024-07-12T19:24:20.090Z"
   },
   {
    "duration": 11,
    "start_time": "2024-07-12T19:24:30.683Z"
   },
   {
    "duration": 11,
    "start_time": "2024-07-12T19:24:36.039Z"
   },
   {
    "duration": 319,
    "start_time": "2024-07-12T19:24:43.038Z"
   },
   {
    "duration": 3,
    "start_time": "2024-07-12T19:25:08.730Z"
   },
   {
    "duration": 11,
    "start_time": "2024-07-12T19:25:19.460Z"
   },
   {
    "duration": 18,
    "start_time": "2024-07-12T19:25:27.899Z"
   },
   {
    "duration": 18,
    "start_time": "2024-07-12T19:25:35.123Z"
   },
   {
    "duration": 20,
    "start_time": "2024-07-12T19:25:41.892Z"
   },
   {
    "duration": 18,
    "start_time": "2024-07-12T19:25:50.684Z"
   },
   {
    "duration": 59,
    "start_time": "2024-07-12T19:26:14.739Z"
   },
   {
    "duration": 5,
    "start_time": "2024-07-12T19:26:20.387Z"
   },
   {
    "duration": 5,
    "start_time": "2024-07-12T19:27:13.679Z"
   }
  ],
  "kernelspec": {
   "display_name": "Python [conda env:base] *",
   "language": "python",
   "name": "conda-base-py"
  },
  "language_info": {
   "codemirror_mode": {
    "name": "ipython",
    "version": 3
   },
   "file_extension": ".py",
   "mimetype": "text/x-python",
   "name": "python",
   "nbconvert_exporter": "python",
   "pygments_lexer": "ipython3",
   "version": "3.11.10"
  },
  "toc": {
   "base_numbering": 1,
   "nav_menu": {},
   "number_sections": true,
   "sideBar": true,
   "skip_h1_title": true,
   "title_cell": "Table of Contents",
   "title_sidebar": "Contents",
   "toc_cell": false,
   "toc_position": {},
   "toc_section_display": true,
   "toc_window_display": false
  }
 },
 "nbformat": 4,
 "nbformat_minor": 5
}
