{
 "cells": [
  {
   "cell_type": "markdown",
   "metadata": {},
   "source": [
    "# Проект по SQL"
   ]
  },
  {
   "cell_type": "markdown",
   "metadata": {},
   "source": [
    "## Описание проекта\n",
    "Коронавирус застал мир врасплох, изменив привычный порядок вещей. На какое-то время жители городов перестали выходить на улицу, посещать кафе и торговые центры. Зато стало больше времени для книг. Это заметили стартаперы — и бросились создавать приложения для тех, кто любит читать. <br>\n",
    "Ваша компания решила быть на волне и купила крупный сервис для чтения книг по подписке. Ваша первая задача как аналитика — проанализировать базу данных. <br>\n",
    "В ней — информация о книгах, издательствах, авторах, а также пользовательские обзоры книг. Эти данные помогут сформулировать ценностное предложение для нового продукта. "
   ]
  },
  {
   "cell_type": "markdown",
   "metadata": {},
   "source": [
    "## Цель проекта\n",
    "Проанализировать базу данных сервиса чтения книг, чтобы сформулировать ценностное предложение для нового продукта"
   ]
  },
  {
   "cell_type": "markdown",
   "metadata": {},
   "source": [
    "## Задачи проекта\n",
    "1. Посчитайте, сколько книг вышло после 1 января 2000 года;\n",
    "2. Для каждой книги посчитайте количество обзоров и среднюю оценку;\n",
    "3. Определите издательство, которое выпустило наибольшее число книг толще 50 страниц — так вы исключите из анализа брошюры;\n",
    "4. Определите автора с самой высокой средней оценкой книг — учитывайте только книги с 50 и более оценками;\n",
    "5. Посчитайте среднее количество обзоров от пользователей, которые поставили больше 48 оценок."
   ]
  },
  {
   "cell_type": "markdown",
   "metadata": {},
   "source": [
    "## Описание данных"
   ]
  },
  {
   "cell_type": "markdown",
   "metadata": {},
   "source": [
    "### Таблица `books`\n",
    "Содержит данные о книгах:\n",
    "- `book_id` — идентификатор книги;\n",
    "- `author_id` — идентификатор автора;\n",
    "- `title` — название книги;\n",
    "- `num_pages` — количество страниц;\n",
    "- `publication_date` — дата публикации книги;\n",
    "- `publisher_id` — идентификатор издателя.\n",
    "\n",
    "### Таблица `authors`\n",
    "Содержит данные об авторах:\n",
    "- `author_id` — идентификатор автора;\n",
    "- `author` — имя автора.\n",
    "\n",
    "### Таблица `publishers`\n",
    "Содержит данные об издательствах:\n",
    "- `publisher_id` — идентификатор издательства;\n",
    "- `publisher` — название издательства.\n",
    "\n",
    "### Таблица `ratings`\n",
    "Содержит данные о пользовательских оценках книг:\n",
    "- `rating_id` — идентификатор оценки;\n",
    "- `book_id` — идентификатор книги;\n",
    "- `username` — имя пользователя, оставившего оценку;\n",
    "- `rating` — оценка книги.\n",
    "\n",
    "### Таблица `reviews`\n",
    "Содержит данные о пользовательских обзорах:\n",
    "- `review_id` — идентификатор обзора;\n",
    "- `book_id` — идентификатор книги;\n",
    "- `username` — имя автора обзора;\n",
    "- `text` — текст обзора."
   ]
  },
  {
   "cell_type": "markdown",
   "metadata": {},
   "source": [
    "## Выполнение проекта"
   ]
  },
  {
   "cell_type": "markdown",
   "metadata": {},
   "source": [
    "### Импорт библиотек и установка связи"
   ]
  },
  {
   "cell_type": "code",
   "execution_count": 9,
   "metadata": {},
   "outputs": [],
   "source": [
    "# импортируем библиотеки\n",
    "import pandas as pd\n",
    "from sqlalchemy import text, create_engine"
   ]
  },
  {
   "cell_type": "code",
   "execution_count": 10,
   "metadata": {},
   "outputs": [],
   "source": [
    "# устанавливаем параметры\n",
    "db_config = {'user': 'praktikum_student', # имя пользователя\n",
    "'pwd': 'Sdf4$2;d-d30pp', # пароль\n",
    "'host': 'rc1b-wcoijxj3yxfsf3fs.mdb.yandexcloud.net',\n",
    "'port': 6432, # порт подключения\n",
    "'db': 'data-analyst-final-project-db'} # название базы данных\n",
    "connection_string = 'postgresql://{user}:{pwd}@{host}:{port}/{db}'.format(**db_config)\n",
    "# сохраняем коннектор\n",
    "engine = create_engine(connection_string, connect_args={'sslmode':'require'})"
   ]
  },
  {
   "cell_type": "markdown",
   "metadata": {},
   "source": [
    "### Установка функции для удобства вывода таблиц"
   ]
  },
  {
   "cell_type": "code",
   "execution_count": 12,
   "metadata": {},
   "outputs": [],
   "source": [
    "def run_query(query: str) -> pd.DataFrame:\n",
    "    with engine.connect() as con:\n",
    "        return pd.read_sql(sql=text(query), con=con)"
   ]
  },
  {
   "cell_type": "markdown",
   "metadata": {},
   "source": [
    "### 1. Посчитайте, сколько книг вышло после 1 января 2000 года"
   ]
  },
  {
   "cell_type": "code",
   "execution_count": 14,
   "metadata": {},
   "outputs": [
    {
     "data": {
      "text/html": [
       "<div>\n",
       "<style scoped>\n",
       "    .dataframe tbody tr th:only-of-type {\n",
       "        vertical-align: middle;\n",
       "    }\n",
       "\n",
       "    .dataframe tbody tr th {\n",
       "        vertical-align: top;\n",
       "    }\n",
       "\n",
       "    .dataframe thead th {\n",
       "        text-align: right;\n",
       "    }\n",
       "</style>\n",
       "<table border=\"1\" class=\"dataframe\">\n",
       "  <thead>\n",
       "    <tr style=\"text-align: right;\">\n",
       "      <th></th>\n",
       "      <th>count</th>\n",
       "    </tr>\n",
       "  </thead>\n",
       "  <tbody>\n",
       "    <tr>\n",
       "      <th>0</th>\n",
       "      <td>819</td>\n",
       "    </tr>\n",
       "  </tbody>\n",
       "</table>\n",
       "</div>"
      ],
      "text/plain": [
       "   count\n",
       "0    819"
      ]
     },
     "execution_count": 14,
     "metadata": {},
     "output_type": "execute_result"
    }
   ],
   "source": [
    "query_1 = \"\"\"\n",
    "    SELECT COUNT(*)\n",
    "    FROM books\n",
    "    WHERE publication_date > '2000-01-01';\n",
    "\"\"\"\n",
    "result_1 = run_query(query_1)\n",
    "result_1"
   ]
  },
  {
   "cell_type": "markdown",
   "metadata": {},
   "source": [
    "#### Вывод по пункту \"1. Посчитайте, сколько книг вышло после 1 января 2000 года\"\n",
    "После 1 января 2000 года вышло **819 книг**"
   ]
  },
  {
   "cell_type": "markdown",
   "metadata": {},
   "source": [
    "### 2. Для каждой книги посчитайте количество обзоров и среднюю оценку"
   ]
  },
  {
   "cell_type": "code",
   "execution_count": 17,
   "metadata": {},
   "outputs": [
    {
     "data": {
      "text/html": [
       "<div>\n",
       "<style scoped>\n",
       "    .dataframe tbody tr th:only-of-type {\n",
       "        vertical-align: middle;\n",
       "    }\n",
       "\n",
       "    .dataframe tbody tr th {\n",
       "        vertical-align: top;\n",
       "    }\n",
       "\n",
       "    .dataframe thead th {\n",
       "        text-align: right;\n",
       "    }\n",
       "</style>\n",
       "<table border=\"1\" class=\"dataframe\">\n",
       "  <thead>\n",
       "    <tr style=\"text-align: right;\">\n",
       "      <th></th>\n",
       "      <th>book_id</th>\n",
       "      <th>title</th>\n",
       "      <th>review_count</th>\n",
       "      <th>average_rating</th>\n",
       "    </tr>\n",
       "  </thead>\n",
       "  <tbody>\n",
       "    <tr>\n",
       "      <th>0</th>\n",
       "      <td>1</td>\n",
       "      <td>'Salem's Lot</td>\n",
       "      <td>2</td>\n",
       "      <td>3.666667</td>\n",
       "    </tr>\n",
       "    <tr>\n",
       "      <th>1</th>\n",
       "      <td>2</td>\n",
       "      <td>1 000 Places to See Before You Die</td>\n",
       "      <td>1</td>\n",
       "      <td>2.500000</td>\n",
       "    </tr>\n",
       "    <tr>\n",
       "      <th>2</th>\n",
       "      <td>3</td>\n",
       "      <td>13 Little Blue Envelopes (Little Blue Envelope...</td>\n",
       "      <td>3</td>\n",
       "      <td>4.666667</td>\n",
       "    </tr>\n",
       "    <tr>\n",
       "      <th>3</th>\n",
       "      <td>4</td>\n",
       "      <td>1491: New Revelations of the Americas Before C...</td>\n",
       "      <td>2</td>\n",
       "      <td>4.500000</td>\n",
       "    </tr>\n",
       "    <tr>\n",
       "      <th>4</th>\n",
       "      <td>5</td>\n",
       "      <td>1776</td>\n",
       "      <td>4</td>\n",
       "      <td>4.000000</td>\n",
       "    </tr>\n",
       "    <tr>\n",
       "      <th>...</th>\n",
       "      <td>...</td>\n",
       "      <td>...</td>\n",
       "      <td>...</td>\n",
       "      <td>...</td>\n",
       "    </tr>\n",
       "    <tr>\n",
       "      <th>995</th>\n",
       "      <td>996</td>\n",
       "      <td>Wyrd Sisters (Discworld  #6; Witches #2)</td>\n",
       "      <td>3</td>\n",
       "      <td>3.666667</td>\n",
       "    </tr>\n",
       "    <tr>\n",
       "      <th>996</th>\n",
       "      <td>997</td>\n",
       "      <td>Xenocide (Ender's Saga  #3)</td>\n",
       "      <td>3</td>\n",
       "      <td>3.400000</td>\n",
       "    </tr>\n",
       "    <tr>\n",
       "      <th>997</th>\n",
       "      <td>998</td>\n",
       "      <td>Year of Wonders</td>\n",
       "      <td>4</td>\n",
       "      <td>3.200000</td>\n",
       "    </tr>\n",
       "    <tr>\n",
       "      <th>998</th>\n",
       "      <td>999</td>\n",
       "      <td>You Suck (A Love Story  #2)</td>\n",
       "      <td>2</td>\n",
       "      <td>4.500000</td>\n",
       "    </tr>\n",
       "    <tr>\n",
       "      <th>999</th>\n",
       "      <td>1000</td>\n",
       "      <td>Zen and the Art of Motorcycle Maintenance: An ...</td>\n",
       "      <td>4</td>\n",
       "      <td>3.833333</td>\n",
       "    </tr>\n",
       "  </tbody>\n",
       "</table>\n",
       "<p>1000 rows × 4 columns</p>\n",
       "</div>"
      ],
      "text/plain": [
       "     book_id                                              title  review_count  \\\n",
       "0          1                                       'Salem's Lot             2   \n",
       "1          2                 1 000 Places to See Before You Die             1   \n",
       "2          3  13 Little Blue Envelopes (Little Blue Envelope...             3   \n",
       "3          4  1491: New Revelations of the Americas Before C...             2   \n",
       "4          5                                               1776             4   \n",
       "..       ...                                                ...           ...   \n",
       "995      996           Wyrd Sisters (Discworld  #6; Witches #2)             3   \n",
       "996      997                        Xenocide (Ender's Saga  #3)             3   \n",
       "997      998                                    Year of Wonders             4   \n",
       "998      999                        You Suck (A Love Story  #2)             2   \n",
       "999     1000  Zen and the Art of Motorcycle Maintenance: An ...             4   \n",
       "\n",
       "     average_rating  \n",
       "0          3.666667  \n",
       "1          2.500000  \n",
       "2          4.666667  \n",
       "3          4.500000  \n",
       "4          4.000000  \n",
       "..              ...  \n",
       "995        3.666667  \n",
       "996        3.400000  \n",
       "997        3.200000  \n",
       "998        4.500000  \n",
       "999        3.833333  \n",
       "\n",
       "[1000 rows x 4 columns]"
      ]
     },
     "execution_count": 17,
     "metadata": {},
     "output_type": "execute_result"
    }
   ],
   "source": [
    "query_2 = \"\"\"\n",
    "    SELECT \n",
    "        b.book_id,\n",
    "        b.title,\n",
    "        COUNT(DISTINCT r.review_id) AS review_count,\n",
    "        AVG(rt.rating) AS average_rating\n",
    "    FROM books b\n",
    "    LEFT JOIN reviews r ON b.book_id = r.book_id\n",
    "    LEFT JOIN ratings rt ON b.book_id = rt.book_id\n",
    "    GROUP BY b.book_id, b.title;\n",
    "\"\"\"\n",
    "result_2 = run_query(query_2)\n",
    "result_2"
   ]
  },
  {
   "cell_type": "markdown",
   "metadata": {},
   "source": [
    "#### Вывод для пункта \"2. Для каждой книги посчитайте количество обзоров и среднюю оценку\"\n",
    "Для каждой книги были посчитайты количество обзоров и средняя оценка, столбцы названы как полагается"
   ]
  },
  {
   "cell_type": "markdown",
   "metadata": {},
   "source": [
    "### 3. Определите издательство, которое выпустило наибольшее число книг толще 50 страниц — так вы исключите из анализа брошюры"
   ]
  },
  {
   "cell_type": "code",
   "execution_count": 20,
   "metadata": {},
   "outputs": [
    {
     "data": {
      "text/html": [
       "<div>\n",
       "<style scoped>\n",
       "    .dataframe tbody tr th:only-of-type {\n",
       "        vertical-align: middle;\n",
       "    }\n",
       "\n",
       "    .dataframe tbody tr th {\n",
       "        vertical-align: top;\n",
       "    }\n",
       "\n",
       "    .dataframe thead th {\n",
       "        text-align: right;\n",
       "    }\n",
       "</style>\n",
       "<table border=\"1\" class=\"dataframe\">\n",
       "  <thead>\n",
       "    <tr style=\"text-align: right;\">\n",
       "      <th></th>\n",
       "      <th>publisher</th>\n",
       "      <th>book_count</th>\n",
       "    </tr>\n",
       "  </thead>\n",
       "  <tbody>\n",
       "    <tr>\n",
       "      <th>0</th>\n",
       "      <td>Penguin Books</td>\n",
       "      <td>42</td>\n",
       "    </tr>\n",
       "  </tbody>\n",
       "</table>\n",
       "</div>"
      ],
      "text/plain": [
       "       publisher  book_count\n",
       "0  Penguin Books          42"
      ]
     },
     "execution_count": 20,
     "metadata": {},
     "output_type": "execute_result"
    }
   ],
   "source": [
    "query_3 = \"\"\"\n",
    "    SELECT \n",
    "        p.publisher,\n",
    "        COUNT(*) AS book_count\n",
    "    FROM books b\n",
    "    JOIN publishers p ON b.publisher_id = p.publisher_id\n",
    "    WHERE b.num_pages > 50\n",
    "    GROUP BY p.publisher\n",
    "    ORDER BY book_count DESC\n",
    "    LIMIT 1;\n",
    "\"\"\"\n",
    "result_3 = run_query(query_3)\n",
    "result_3"
   ]
  },
  {
   "cell_type": "markdown",
   "metadata": {},
   "source": [
    "#### Вывод по пункту \"3. Определите издательство, которое выпустило наибольшее число книг толще 50 страниц — так вы исключите из анализа брошюры\"\n",
    "Издательство `\"Penguin Books\"` наибольшее число книг толще 50 страниц – всего данное издательство выпустило **42** такие **книги**. На втором месте находится издательство `\"Vintage\"`, выпустив **31 книгу**, тройку лидеров завершает издательство `\"Grand Central Publishing\"` – **25 книг**"
   ]
  },
  {
   "cell_type": "markdown",
   "metadata": {},
   "source": [
    "### 4. Определите автора с самой высокой средней оценкой книг — учитывайте только книги с 50 и более оценками"
   ]
  },
  {
   "cell_type": "code",
   "execution_count": 23,
   "metadata": {},
   "outputs": [
    {
     "data": {
      "text/html": [
       "<div>\n",
       "<style scoped>\n",
       "    .dataframe tbody tr th:only-of-type {\n",
       "        vertical-align: middle;\n",
       "    }\n",
       "\n",
       "    .dataframe tbody tr th {\n",
       "        vertical-align: top;\n",
       "    }\n",
       "\n",
       "    .dataframe thead th {\n",
       "        text-align: right;\n",
       "    }\n",
       "</style>\n",
       "<table border=\"1\" class=\"dataframe\">\n",
       "  <thead>\n",
       "    <tr style=\"text-align: right;\">\n",
       "      <th></th>\n",
       "      <th>author</th>\n",
       "      <th>average_rating</th>\n",
       "    </tr>\n",
       "  </thead>\n",
       "  <tbody>\n",
       "    <tr>\n",
       "      <th>0</th>\n",
       "      <td>J.K. Rowling/Mary GrandPré</td>\n",
       "      <td>4.287</td>\n",
       "    </tr>\n",
       "  </tbody>\n",
       "</table>\n",
       "</div>"
      ],
      "text/plain": [
       "                       author  average_rating\n",
       "0  J.K. Rowling/Mary GrandPré           4.287"
      ]
     },
     "execution_count": 23,
     "metadata": {},
     "output_type": "execute_result"
    }
   ],
   "source": [
    "query_4 = \"\"\"\n",
    "    WITH books_with_50_ratings AS (\n",
    "        SELECT \n",
    "            b.book_id,\n",
    "            b.author_id\n",
    "        FROM books b\n",
    "        JOIN ratings rt ON b.book_id = rt.book_id\n",
    "        GROUP BY b.book_id, b.author_id\n",
    "        HAVING COUNT(rt.rating) >= 50\n",
    "    )\n",
    "    SELECT \n",
    "        a.author,\n",
    "        ROUND(AVG(rt.rating), 3) AS average_rating\n",
    "    FROM books_with_50_ratings bw\n",
    "    JOIN authors a ON bw.author_id = a.author_id\n",
    "    JOIN ratings rt ON bw.book_id = rt.book_id\n",
    "    GROUP BY a.author\n",
    "    ORDER BY average_rating DESC\n",
    "    LIMIT 1;\n",
    "\"\"\"\n",
    "result_4 = run_query(query_4)\n",
    "result_4\n"
   ]
  },
  {
   "cell_type": "markdown",
   "metadata": {},
   "source": [
    "#### Вывод по пункту \"4. Определите автора с самой высокой средней оценкой книг — учитывайте только книги с 50 и более оценками\"\n",
    "Автором с самой высокой средней оценкой книг, учитывая только книги с 50 и более оценками, является **`J.K. Rowling/Mary GrandPré`**"
   ]
  },
  {
   "cell_type": "markdown",
   "metadata": {},
   "source": [
    "### 5. Посчитайте среднее количество обзоров от пользователей, которые поставили больше 48 оценок"
   ]
  },
  {
   "cell_type": "code",
   "execution_count": 26,
   "metadata": {},
   "outputs": [
    {
     "data": {
      "text/html": [
       "<div>\n",
       "<style scoped>\n",
       "    .dataframe tbody tr th:only-of-type {\n",
       "        vertical-align: middle;\n",
       "    }\n",
       "\n",
       "    .dataframe tbody tr th {\n",
       "        vertical-align: top;\n",
       "    }\n",
       "\n",
       "    .dataframe thead th {\n",
       "        text-align: right;\n",
       "    }\n",
       "</style>\n",
       "<table border=\"1\" class=\"dataframe\">\n",
       "  <thead>\n",
       "    <tr style=\"text-align: right;\">\n",
       "      <th></th>\n",
       "      <th>avg_reviews_per_user</th>\n",
       "    </tr>\n",
       "  </thead>\n",
       "  <tbody>\n",
       "    <tr>\n",
       "      <th>0</th>\n",
       "      <td>24.0</td>\n",
       "    </tr>\n",
       "  </tbody>\n",
       "</table>\n",
       "</div>"
      ],
      "text/plain": [
       "   avg_reviews_per_user\n",
       "0                  24.0"
      ]
     },
     "execution_count": 26,
     "metadata": {},
     "output_type": "execute_result"
    }
   ],
   "source": [
    "query_5 = \"\"\"\n",
    "    WITH user_rating_count AS (\n",
    "        SELECT \n",
    "            username,\n",
    "            COUNT(*) AS rating_count\n",
    "        FROM ratings\n",
    "        GROUP BY username\n",
    "        HAVING COUNT(*) > 48\n",
    "    )\n",
    "    SELECT AVG(review_count) AS avg_reviews_per_user\n",
    "    FROM (\n",
    "        SELECT \n",
    "            urc.username,\n",
    "            COUNT(r.review_id) AS review_count\n",
    "        FROM user_rating_count urc\n",
    "        LEFT JOIN reviews r ON urc.username = r.username\n",
    "        GROUP BY urc.username\n",
    "    ) AS user_reviews;\n",
    "\"\"\"\n",
    "result_5 = run_query(query_5)\n",
    "result_5"
   ]
  },
  {
   "cell_type": "markdown",
   "metadata": {},
   "source": [
    "#### Вывод по пункту \"5. Посчитайте среднее количество обзоров от пользователей, которые поставили больше 48 оценок\"\n",
    "Пользователи, которые поставили больше 48 оценок, в среднем совершают **24 обзора**"
   ]
  },
  {
   "cell_type": "markdown",
   "metadata": {},
   "source": [
    "## Общий вывод\n",
    "### Вывод по пункту \"1. Посчитайте, сколько книг вышло после 1 января 2000 года\"\n",
    "После 1 января 2000 года вышло **819 книг**\n",
    "\n",
    "### Вывод для пункта \"2. Для каждой книги посчитайте количество обзоров и среднюю оценку\"\n",
    "Для каждой книги были посчитайты количество обзоров и средняя оценка, столбцы названы как полагается\n",
    "\n",
    "### Вывод по пункту \"3. Определите издательство, которое выпустило наибольшее число книг толще 50 страниц — так вы исключите из анализа брошюры\"\n",
    "Издательство `\"Penguin Books\"` наибольшее число книг толще 50 страниц – всего данное издательство выпустило **42** такие **книги**. На втором месте находится издательство `\"Vintage\"`, выпустив **31 книгу**, тройку лидеров завершает издательство `\"Grand Central Publishing\"` – **25 книг**\n",
    "\n",
    "### Вывод по пункту \"4. Определите автора с самой высокой средней оценкой книг — учитывайте только книги с 50 и более оценками\"\n",
    "Автором с самой высокой средней оценкой книг, учитывая только книги с 50 и более оценками, является **`J.K. Rowling/Mary GrandPré`**\n",
    "\n",
    "### Вывод по пункту \"5. Посчитайте среднее количество обзоров от пользователей, которые поставили больше 48 оценок\"\n",
    "Пользователи, которые поставили больше 48 оценок, в среднем совершают **24 обзора**\n",
    "\n",
    "### Общая рекомендация\n",
    "Можно запустить сервис для книголюбов, предлагающий подборки книг от лучших издательств, таких как **`Penguin Books`** (по возможности ещё **`Vintage`**, **`Grand Central Publishing`**), и авторов с высокими оценками, например, **`J.K. Rowling/Mary GrandPré`** (как топ-1 автор среди книг с 50 и более оценками). Необходимо уделить внимание активным пользователям, предоставляя персонализированные рекомендации и возможности для обмена мнениями, исключая брошюры и фокусируясь на полноценных изданиях, так как после 1 января 2000 года вышло **819 книг**"
   ]
  }
 ],
 "metadata": {
  "ExecuteTimeLog": [
   {
    "duration": 566,
    "start_time": "2024-12-11T21:04:52.813Z"
   },
   {
    "duration": 12336,
    "start_time": "2024-12-11T21:07:43.123Z"
   },
   {
    "duration": 240,
    "start_time": "2024-12-11T21:08:05.652Z"
   },
   {
    "duration": 4,
    "start_time": "2024-12-11T21:09:52.713Z"
   },
   {
    "duration": 547,
    "start_time": "2024-12-11T21:09:59.083Z"
   },
   {
    "duration": 9981,
    "start_time": "2024-12-11T21:09:59.632Z"
   },
   {
    "duration": 4,
    "start_time": "2024-12-11T21:31:08.442Z"
   },
   {
    "duration": 256,
    "start_time": "2024-12-11T21:32:21.362Z"
   },
   {
    "duration": 89,
    "start_time": "2024-12-11T21:35:18.422Z"
   },
   {
    "duration": 1518,
    "start_time": "2024-12-11T21:37:27.842Z"
   },
   {
    "duration": 87,
    "start_time": "2024-12-11T21:38:02.154Z"
   },
   {
    "duration": 1413,
    "start_time": "2024-12-11T21:38:14.161Z"
   },
   {
    "duration": 1257,
    "start_time": "2024-12-11T21:38:21.412Z"
   },
   {
    "duration": 4,
    "start_time": "2024-12-11T21:38:37.062Z"
   },
   {
    "duration": 4,
    "start_time": "2024-12-11T21:38:48.965Z"
   },
   {
    "duration": 10,
    "start_time": "2024-12-11T21:39:02.271Z"
   },
   {
    "duration": 4,
    "start_time": "2024-12-11T21:39:07.432Z"
   },
   {
    "duration": 7,
    "start_time": "2024-12-11T21:39:15.391Z"
   },
   {
    "duration": 4,
    "start_time": "2024-12-11T21:39:20.742Z"
   },
   {
    "duration": 4,
    "start_time": "2024-12-11T21:39:23.242Z"
   },
   {
    "duration": 52,
    "start_time": "2024-12-11T21:42:50.411Z"
   },
   {
    "duration": 51,
    "start_time": "2024-12-11T21:44:42.901Z"
   },
   {
    "duration": 55,
    "start_time": "2024-12-11T21:49:17.432Z"
   },
   {
    "duration": 53,
    "start_time": "2024-12-11T21:54:14.371Z"
   },
   {
    "duration": 443,
    "start_time": "2024-12-12T12:16:43.558Z"
   },
   {
    "duration": 12415,
    "start_time": "2024-12-12T12:16:44.003Z"
   },
   {
    "duration": 4,
    "start_time": "2024-12-12T12:16:56.419Z"
   },
   {
    "duration": 50,
    "start_time": "2024-12-12T12:16:56.425Z"
   },
   {
    "duration": 26,
    "start_time": "2024-12-12T12:16:56.477Z"
   },
   {
    "duration": 9,
    "start_time": "2024-12-12T12:16:56.504Z"
   },
   {
    "duration": 12,
    "start_time": "2024-12-12T12:16:56.515Z"
   },
   {
    "duration": 29,
    "start_time": "2024-12-12T12:16:56.528Z"
   },
   {
    "duration": 10,
    "start_time": "2024-12-12T12:16:56.558Z"
   },
   {
    "duration": 14,
    "start_time": "2024-12-12T12:18:16.285Z"
   },
   {
    "duration": 13,
    "start_time": "2024-12-12T12:18:26.620Z"
   },
   {
    "duration": 488,
    "start_time": "2024-12-12T12:19:24.997Z"
   },
   {
    "duration": 12790,
    "start_time": "2024-12-12T12:19:25.487Z"
   },
   {
    "duration": 3,
    "start_time": "2024-12-12T12:19:38.279Z"
   },
   {
    "duration": 70,
    "start_time": "2024-12-12T12:19:38.284Z"
   },
   {
    "duration": 26,
    "start_time": "2024-12-12T12:19:38.356Z"
   },
   {
    "duration": 10,
    "start_time": "2024-12-12T12:19:38.384Z"
   },
   {
    "duration": 13,
    "start_time": "2024-12-12T12:19:38.395Z"
   },
   {
    "duration": 10,
    "start_time": "2024-12-12T12:19:38.409Z"
   },
   {
    "duration": 10,
    "start_time": "2024-12-12T12:19:49.816Z"
   },
   {
    "duration": 528,
    "start_time": "2024-12-12T12:19:56.987Z"
   },
   {
    "duration": 12399,
    "start_time": "2024-12-12T12:19:57.517Z"
   },
   {
    "duration": 3,
    "start_time": "2024-12-12T12:20:09.917Z"
   },
   {
    "duration": 63,
    "start_time": "2024-12-12T12:20:09.922Z"
   },
   {
    "duration": 28,
    "start_time": "2024-12-12T12:20:09.987Z"
   },
   {
    "duration": 29,
    "start_time": "2024-12-12T12:20:10.016Z"
   },
   {
    "duration": 25,
    "start_time": "2024-12-12T12:20:10.046Z"
   },
   {
    "duration": 25,
    "start_time": "2024-12-12T12:20:10.072Z"
   },
   {
    "duration": 422,
    "start_time": "2024-12-12T12:20:39.828Z"
   },
   {
    "duration": 503,
    "start_time": "2024-12-12T12:20:54.394Z"
   },
   {
    "duration": 12796,
    "start_time": "2024-12-12T12:20:54.899Z"
   },
   {
    "duration": 3,
    "start_time": "2024-12-12T12:21:07.696Z"
   },
   {
    "duration": 87,
    "start_time": "2024-12-12T12:21:07.700Z"
   },
   {
    "duration": 24,
    "start_time": "2024-12-12T12:21:07.789Z"
   },
   {
    "duration": 9,
    "start_time": "2024-12-12T12:21:07.814Z"
   },
   {
    "duration": 15,
    "start_time": "2024-12-12T12:21:07.824Z"
   },
   {
    "duration": 11,
    "start_time": "2024-12-12T12:21:07.840Z"
   }
  ],
  "kernelspec": {
   "display_name": "Python [conda env:base] *",
   "language": "python",
   "name": "conda-base-py"
  },
  "language_info": {
   "codemirror_mode": {
    "name": "ipython",
    "version": 3
   },
   "file_extension": ".py",
   "mimetype": "text/x-python",
   "name": "python",
   "nbconvert_exporter": "python",
   "pygments_lexer": "ipython3",
   "version": "3.11.10"
  },
  "toc": {
   "base_numbering": "1",
   "nav_menu": {},
   "number_sections": false,
   "sideBar": true,
   "skip_h1_title": true,
   "title_cell": "Table of Contents",
   "title_sidebar": "Contents",
   "toc_cell": false,
   "toc_position": {},
   "toc_section_display": true,
   "toc_window_display": true
  }
 },
 "nbformat": 4,
 "nbformat_minor": 4
}
