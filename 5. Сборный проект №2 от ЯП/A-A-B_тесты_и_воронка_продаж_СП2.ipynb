{
 "cells": [
  {
   "cell_type": "markdown",
   "id": "2e7676f6-bf66-4b59-817b-05c55d4630cb",
   "metadata": {},
   "source": [
    "# Проект по A/A/B тестам и воронке продаж стратапа продуктов питания"
   ]
  },
  {
   "cell_type": "markdown",
   "id": "4d59a875-0ed3-4bde-bb8d-917cd0bcb9e0",
   "metadata": {},
   "source": [
    "## Описание проекта\n",
    "Вы работаете в стартапе, который продаёт продукты питания. Нужно разобраться, как ведут себя пользователи вашего мобильного приложения. \n",
    "Изучите воронку продаж. Узнайте, как пользователи доходят до покупки. Сколько пользователей доходит до покупки, а сколько — «застревает» на предыдущих шагах? На каких именно? <br>\n",
    "После этого исследуйте результаты A/A/B-эксперимента. Дизайнеры захотели поменять шрифты во всём приложении, а менеджеры испугались, что пользователям будет непривычно. Договорились принять решение по результатам A/A/B-теста. Пользователей разбили на 3 группы: 2 контрольные со старыми шрифтами и одну экспериментальную — с новыми. Выясните, какой шрифт лучше.<br>\n",
    "Создание двух групп A вместо одной имеет определённые преимущества. Если две контрольные группы окажутся равны, вы можете быть уверены в точности проведенного тестирования. Если же между значениями A и A будут существенные различия, это поможет обнаружить факторы, которые привели к искажению результатов. Сравнение контрольных групп также помогает понять, сколько времени и данных потребуется для дальнейших тестов.<br>\n",
    "В случае общей аналитики и A/A/B-эксперимента работайте с одними и теми же данными. В реальных проектах всегда идут эксперименты. Аналитики исследуют качество работы приложения по общим данным, не учитывая принадлежность пользователей к экспериментам.<br>\n",
    "\n",
    "## Описание данных\n",
    "Каждая запись в логе — это действие пользователя, или событие. <br>\n",
    "`EventName` — название события;<br>\n",
    "`DeviceIDHash` — уникальный идентификатор пользователя;<br>\n",
    "`EventTimestamp` — время события;<br>\n",
    "`ExpId` — номер эксперимента: 246 и 247 — контрольные группы, а 248 — экспериментальная.<br>\n",
    "\n",
    "## Инструкция по выполнению проекта\n",
    "### Шаг 1. Откройте файл с данными и изучите общую информацию\n",
    "- Путь к файлу: `/datasets/logs_exp.csv`\n",
    "\n",
    "### Шаг 2. Подготовьте данные\n",
    "- Замените названия столбцов на удобные для вас;\n",
    "- Проверьте пропуски и типы данных. Откорректируйте, если нужно;\n",
    "- Добавьте столбец даты и времени, а также отдельный столбец дат;\n",
    "\n",
    "### Шаг 3. Изучите и проверьте данные\n",
    "- Сколько всего событий в логе?\n",
    "- Сколько всего пользователей в логе?\n",
    "- Сколько в среднем событий приходится на пользователя?\n",
    "- Данными за какой период вы располагаете? Найдите максимальную и минимальную дату. Изучите, как меняется количество данных: постройте столбчатую диаграмму, которая отобразит количество событий в зависимости от времени в разрезе групп. Можно ли быть уверенным, что у вас одинаково полные данные за весь период? Технически в логи новых дней по некоторым пользователям могут «доезжать» события из прошлого — это может «перекашивать данные». Определите, с какого момента данные полные и отбросьте более старые. Данными за какой период времени вы располагаете на самом деле?\n",
    "- Много ли событий и пользователей вы потеряли, отбросив старые данные?\n",
    "- Проверьте, что у вас есть пользователи из всех трёх экспериментальных групп.\n",
    "\n",
    "### Шаг 4. Изучите воронку событий\n",
    "- Посмотрите, какие события есть в логах, как часто они встречаются. Отсортируйте события по частоте.\n",
    "- Посчитайте, сколько пользователей совершали каждое из этих событий. Отсортируйте события по числу пользователей. Посчитайте долю пользователей, которые хоть раз совершали событие.\n",
    "- Предположите, в каком порядке происходят события. Все ли они выстраиваются в последовательную цепочку? Их не нужно учитывать при расчёте воронки.\n",
    "- По воронке событий посчитайте, какая доля пользователей проходит на следующий шаг воронки (от числа пользователей на предыдущем). То есть для последовательности событий A → B → C посчитайте отношение числа пользователей с событием B к количеству пользователей с событием A, а также отношение числа пользователей с событием C к количеству пользователей с событием B.\n",
    "- На каком шаге теряете больше всего пользователей?\n",
    "- Какая доля пользователей доходит от первого события до оплаты?\n",
    "\n",
    "### Шаг 5. Изучите результаты эксперимента\n",
    "- Сколько пользователей в каждой экспериментальной группе?\n",
    "- Есть 2 контрольные группы для А/А-эксперимента, чтобы проверить корректность всех механизмов и расчётов. Проверьте, находят ли статистические критерии разницу между выборками 246 и 247.\n",
    "- Выберите самое популярное событие. Посчитайте число пользователей, совершивших это событие в каждой из контрольных групп. Посчитайте долю пользователей, совершивших это событие. Проверьте, будет ли отличие между группами статистически достоверным. Проделайте то же самое для всех других событий (удобно обернуть проверку в отдельную функцию). Можно ли сказать, что разбиение на группы работает корректно?\n",
    "- Аналогично поступите с группой с изменённым шрифтом. Сравните результаты с каждой из контрольных групп в отдельности по каждому событию. Сравните результаты с объединённой контрольной группой. Какие выводы из эксперимента можно сделать?\n",
    "- Какой уровень значимости вы выбрали при проверке статистических гипотез выше? Посчитайте, сколько проверок статистических гипотез вы сделали. При уровне значимости 0.1 в 10% случаев можно ошибочно отклонить нулевую гипотезу при условии, что она верна. Какой уровень значимости стоит применить? Если вы хотите изменить его, проделайте предыдущие пункты и проверьте свои выводы."
   ]
  },
  {
   "cell_type": "code",
   "execution_count": 3,
   "id": "6afaaa56-fa91-4bf8-8933-16b30616371c",
   "metadata": {
    "tags": []
   },
   "outputs": [],
   "source": [
    "import numpy as np\n",
    "import pandas as pd\n",
    "import math as mth\n",
    "import seaborn as sns\n",
    "from matplotlib import pyplot as plt\n",
    "import scipy.stats as stats\n",
    "import datetime as dt"
   ]
  },
  {
   "cell_type": "markdown",
   "id": "f4910000-f7e4-48a8-a3d2-86b1bcb61733",
   "metadata": {},
   "source": [
    "### Шаг 1. Откройте файл с данными и изучите общую информацию"
   ]
  },
  {
   "cell_type": "code",
   "execution_count": 5,
   "id": "662bb053-64f1-4d7a-92e3-1fe6d686b2df",
   "metadata": {
    "tags": []
   },
   "outputs": [],
   "source": [
    "try:\n",
    "    data = pd.read_csv('logs_exp.csv', sep='\\t')\n",
    "except:\n",
    "    data = pd.read_csv('/datasets/logs_exp.csv', sep='\\t')"
   ]
  },
  {
   "cell_type": "code",
   "execution_count": 6,
   "id": "b3a5ebe2-9614-4a89-b6ab-a1d9bc35c494",
   "metadata": {
    "tags": []
   },
   "outputs": [
    {
     "data": {
      "text/html": [
       "<div>\n",
       "<style scoped>\n",
       "    .dataframe tbody tr th:only-of-type {\n",
       "        vertical-align: middle;\n",
       "    }\n",
       "\n",
       "    .dataframe tbody tr th {\n",
       "        vertical-align: top;\n",
       "    }\n",
       "\n",
       "    .dataframe thead th {\n",
       "        text-align: right;\n",
       "    }\n",
       "</style>\n",
       "<table border=\"1\" class=\"dataframe\">\n",
       "  <thead>\n",
       "    <tr style=\"text-align: right;\">\n",
       "      <th></th>\n",
       "      <th>EventName</th>\n",
       "      <th>DeviceIDHash</th>\n",
       "      <th>EventTimestamp</th>\n",
       "      <th>ExpId</th>\n",
       "    </tr>\n",
       "  </thead>\n",
       "  <tbody>\n",
       "    <tr>\n",
       "      <th>0</th>\n",
       "      <td>MainScreenAppear</td>\n",
       "      <td>4575588528974610257</td>\n",
       "      <td>1564029816</td>\n",
       "      <td>246</td>\n",
       "    </tr>\n",
       "    <tr>\n",
       "      <th>1</th>\n",
       "      <td>MainScreenAppear</td>\n",
       "      <td>7416695313311560658</td>\n",
       "      <td>1564053102</td>\n",
       "      <td>246</td>\n",
       "    </tr>\n",
       "    <tr>\n",
       "      <th>2</th>\n",
       "      <td>PaymentScreenSuccessful</td>\n",
       "      <td>3518123091307005509</td>\n",
       "      <td>1564054127</td>\n",
       "      <td>248</td>\n",
       "    </tr>\n",
       "    <tr>\n",
       "      <th>3</th>\n",
       "      <td>CartScreenAppear</td>\n",
       "      <td>3518123091307005509</td>\n",
       "      <td>1564054127</td>\n",
       "      <td>248</td>\n",
       "    </tr>\n",
       "    <tr>\n",
       "      <th>4</th>\n",
       "      <td>PaymentScreenSuccessful</td>\n",
       "      <td>6217807653094995999</td>\n",
       "      <td>1564055322</td>\n",
       "      <td>248</td>\n",
       "    </tr>\n",
       "  </tbody>\n",
       "</table>\n",
       "</div>"
      ],
      "text/plain": [
       "                 EventName         DeviceIDHash  EventTimestamp  ExpId\n",
       "0         MainScreenAppear  4575588528974610257      1564029816    246\n",
       "1         MainScreenAppear  7416695313311560658      1564053102    246\n",
       "2  PaymentScreenSuccessful  3518123091307005509      1564054127    248\n",
       "3         CartScreenAppear  3518123091307005509      1564054127    248\n",
       "4  PaymentScreenSuccessful  6217807653094995999      1564055322    248"
      ]
     },
     "execution_count": 6,
     "metadata": {},
     "output_type": "execute_result"
    }
   ],
   "source": [
    "data.head()"
   ]
  },
  {
   "cell_type": "code",
   "execution_count": 7,
   "id": "dc58f64a-9219-41c5-b624-927ce614f4bf",
   "metadata": {
    "tags": []
   },
   "outputs": [],
   "source": [
    "pd.set_option('display.max_columns', None) #max отображение столбцов\n",
    "pd.set_option('max_colwidth', 555) #полное отображение записей в датасете"
   ]
  },
  {
   "cell_type": "code",
   "execution_count": 8,
   "id": "d127cb53-85ac-4c66-8bf4-bf7f9a91deef",
   "metadata": {
    "tags": []
   },
   "outputs": [
    {
     "name": "stdout",
     "output_type": "stream",
     "text": [
      "<class 'pandas.core.frame.DataFrame'>\n",
      "RangeIndex: 244126 entries, 0 to 244125\n",
      "Data columns (total 4 columns):\n",
      " #   Column          Non-Null Count   Dtype \n",
      "---  ------          --------------   ----- \n",
      " 0   EventName       244126 non-null  object\n",
      " 1   DeviceIDHash    244126 non-null  int64 \n",
      " 2   EventTimestamp  244126 non-null  int64 \n",
      " 3   ExpId           244126 non-null  int64 \n",
      "dtypes: int64(3), object(1)\n",
      "memory usage: 7.5+ MB\n"
     ]
    }
   ],
   "source": [
    "data.info()"
   ]
  },
  {
   "cell_type": "markdown",
   "id": "b38fb36b-c65b-4efd-948f-3605efd93666",
   "metadata": {},
   "source": [
    "#### Вывод \"Шаг 1. Откройте файл с данными и изучите общую информацию\"\n",
    "Датафрейм представлен 4 столбцами, 244126 записей, пропусков нет. Необходимо для начала выполнить Предобработку данных"
   ]
  },
  {
   "cell_type": "markdown",
   "id": "bf1251fd-10ae-4b68-aaf6-83e05b5fc4ec",
   "metadata": {},
   "source": [
    "### Шаг 2. Подготовьте данные"
   ]
  },
  {
   "cell_type": "code",
   "execution_count": 11,
   "id": "d3f48b49-0a99-4680-8c20-0c0ea818c058",
   "metadata": {
    "tags": []
   },
   "outputs": [
    {
     "data": {
      "text/html": [
       "<div>\n",
       "<style scoped>\n",
       "    .dataframe tbody tr th:only-of-type {\n",
       "        vertical-align: middle;\n",
       "    }\n",
       "\n",
       "    .dataframe tbody tr th {\n",
       "        vertical-align: top;\n",
       "    }\n",
       "\n",
       "    .dataframe thead th {\n",
       "        text-align: right;\n",
       "    }\n",
       "</style>\n",
       "<table border=\"1\" class=\"dataframe\">\n",
       "  <thead>\n",
       "    <tr style=\"text-align: right;\">\n",
       "      <th></th>\n",
       "      <th>EventName</th>\n",
       "      <th>DeviceIDHash</th>\n",
       "      <th>EventTimestamp</th>\n",
       "      <th>ExpId</th>\n",
       "    </tr>\n",
       "  </thead>\n",
       "  <tbody>\n",
       "    <tr>\n",
       "      <th>0</th>\n",
       "      <td>MainScreenAppear</td>\n",
       "      <td>4575588528974610257</td>\n",
       "      <td>1564029816</td>\n",
       "      <td>246</td>\n",
       "    </tr>\n",
       "    <tr>\n",
       "      <th>1</th>\n",
       "      <td>MainScreenAppear</td>\n",
       "      <td>7416695313311560658</td>\n",
       "      <td>1564053102</td>\n",
       "      <td>246</td>\n",
       "    </tr>\n",
       "    <tr>\n",
       "      <th>2</th>\n",
       "      <td>PaymentScreenSuccessful</td>\n",
       "      <td>3518123091307005509</td>\n",
       "      <td>1564054127</td>\n",
       "      <td>248</td>\n",
       "    </tr>\n",
       "    <tr>\n",
       "      <th>3</th>\n",
       "      <td>CartScreenAppear</td>\n",
       "      <td>3518123091307005509</td>\n",
       "      <td>1564054127</td>\n",
       "      <td>248</td>\n",
       "    </tr>\n",
       "    <tr>\n",
       "      <th>4</th>\n",
       "      <td>PaymentScreenSuccessful</td>\n",
       "      <td>6217807653094995999</td>\n",
       "      <td>1564055322</td>\n",
       "      <td>248</td>\n",
       "    </tr>\n",
       "  </tbody>\n",
       "</table>\n",
       "</div>"
      ],
      "text/plain": [
       "                 EventName         DeviceIDHash  EventTimestamp  ExpId\n",
       "0         MainScreenAppear  4575588528974610257      1564029816    246\n",
       "1         MainScreenAppear  7416695313311560658      1564053102    246\n",
       "2  PaymentScreenSuccessful  3518123091307005509      1564054127    248\n",
       "3         CartScreenAppear  3518123091307005509      1564054127    248\n",
       "4  PaymentScreenSuccessful  6217807653094995999      1564055322    248"
      ]
     },
     "execution_count": 11,
     "metadata": {},
     "output_type": "execute_result"
    }
   ],
   "source": [
    "data.head()"
   ]
  },
  {
   "cell_type": "markdown",
   "id": "6bde8fc7-09a3-41b0-8491-8d5aee929b16",
   "metadata": {},
   "source": [
    "#### Изменим названия столбцов"
   ]
  },
  {
   "cell_type": "code",
   "execution_count": 13,
   "id": "cadbc25b-0770-4cc9-8bbc-09b92cb3794b",
   "metadata": {
    "tags": []
   },
   "outputs": [],
   "source": [
    "data = data.rename(columns={'EventName': 'event_name', 'DeviceIDHash': 'user_id', 'EventTimestamp': 'event_date_time', 'ExpId': 'group'})"
   ]
  },
  {
   "cell_type": "code",
   "execution_count": 14,
   "id": "75853b84-1bad-427b-825e-07f65d7e895f",
   "metadata": {
    "tags": []
   },
   "outputs": [
    {
     "data": {
      "text/html": [
       "<div>\n",
       "<style scoped>\n",
       "    .dataframe tbody tr th:only-of-type {\n",
       "        vertical-align: middle;\n",
       "    }\n",
       "\n",
       "    .dataframe tbody tr th {\n",
       "        vertical-align: top;\n",
       "    }\n",
       "\n",
       "    .dataframe thead th {\n",
       "        text-align: right;\n",
       "    }\n",
       "</style>\n",
       "<table border=\"1\" class=\"dataframe\">\n",
       "  <thead>\n",
       "    <tr style=\"text-align: right;\">\n",
       "      <th></th>\n",
       "      <th>event_name</th>\n",
       "      <th>user_id</th>\n",
       "      <th>event_date_time</th>\n",
       "      <th>group</th>\n",
       "    </tr>\n",
       "  </thead>\n",
       "  <tbody>\n",
       "    <tr>\n",
       "      <th>0</th>\n",
       "      <td>MainScreenAppear</td>\n",
       "      <td>4575588528974610257</td>\n",
       "      <td>1564029816</td>\n",
       "      <td>246</td>\n",
       "    </tr>\n",
       "  </tbody>\n",
       "</table>\n",
       "</div>"
      ],
      "text/plain": [
       "         event_name              user_id  event_date_time  group\n",
       "0  MainScreenAppear  4575588528974610257       1564029816    246"
      ]
     },
     "execution_count": 14,
     "metadata": {},
     "output_type": "execute_result"
    }
   ],
   "source": [
    "data.head(1)"
   ]
  },
  {
   "cell_type": "markdown",
   "id": "f5f4498f-05f1-434a-92aa-25547ffb673d",
   "metadata": {},
   "source": [
    "#### Проверим пропуски и типы данных. Добавьте столбец даты и времени, а также отдельный столбец дат"
   ]
  },
  {
   "cell_type": "code",
   "execution_count": 16,
   "id": "7a352ce2-7e61-45fa-adb0-b455b0838ee2",
   "metadata": {
    "tags": []
   },
   "outputs": [
    {
     "data": {
      "text/plain": [
       "event_name         0\n",
       "user_id            0\n",
       "event_date_time    0\n",
       "group              0\n",
       "dtype: int64"
      ]
     },
     "execution_count": 16,
     "metadata": {},
     "output_type": "execute_result"
    }
   ],
   "source": [
    "data.isna().sum() #вновь убедились, что пропусков нет"
   ]
  },
  {
   "cell_type": "code",
   "execution_count": 17,
   "id": "76c016e7-17c5-441f-8887-7f77c89d2aa3",
   "metadata": {
    "tags": []
   },
   "outputs": [
    {
     "name": "stdout",
     "output_type": "stream",
     "text": [
      "<class 'pandas.core.frame.DataFrame'>\n",
      "RangeIndex: 244126 entries, 0 to 244125\n",
      "Data columns (total 4 columns):\n",
      " #   Column           Non-Null Count   Dtype \n",
      "---  ------           --------------   ----- \n",
      " 0   event_name       244126 non-null  object\n",
      " 1   user_id          244126 non-null  int64 \n",
      " 2   event_date_time  244126 non-null  int64 \n",
      " 3   group            244126 non-null  int64 \n",
      "dtypes: int64(3), object(1)\n",
      "memory usage: 7.5+ MB\n"
     ]
    }
   ],
   "source": [
    "data.info()"
   ]
  },
  {
   "cell_type": "markdown",
   "id": "8386d396-70fe-45c7-bf9a-bb6d8c85705d",
   "metadata": {},
   "source": [
    "Необходимо изменить тип данных совершения события на дататайм"
   ]
  },
  {
   "cell_type": "code",
   "execution_count": 19,
   "id": "fefce313-9bab-40f2-940c-5a61cd4e368f",
   "metadata": {
    "tags": []
   },
   "outputs": [
    {
     "data": {
      "text/html": [
       "<div>\n",
       "<style scoped>\n",
       "    .dataframe tbody tr th:only-of-type {\n",
       "        vertical-align: middle;\n",
       "    }\n",
       "\n",
       "    .dataframe tbody tr th {\n",
       "        vertical-align: top;\n",
       "    }\n",
       "\n",
       "    .dataframe thead th {\n",
       "        text-align: right;\n",
       "    }\n",
       "</style>\n",
       "<table border=\"1\" class=\"dataframe\">\n",
       "  <thead>\n",
       "    <tr style=\"text-align: right;\">\n",
       "      <th></th>\n",
       "      <th>event_name</th>\n",
       "      <th>user_id</th>\n",
       "      <th>event_date_time</th>\n",
       "      <th>group</th>\n",
       "    </tr>\n",
       "  </thead>\n",
       "  <tbody>\n",
       "    <tr>\n",
       "      <th>0</th>\n",
       "      <td>MainScreenAppear</td>\n",
       "      <td>4575588528974610257</td>\n",
       "      <td>2019-07-25 04:43:36</td>\n",
       "      <td>246</td>\n",
       "    </tr>\n",
       "  </tbody>\n",
       "</table>\n",
       "</div>"
      ],
      "text/plain": [
       "         event_name              user_id     event_date_time  group\n",
       "0  MainScreenAppear  4575588528974610257 2019-07-25 04:43:36    246"
      ]
     },
     "execution_count": 19,
     "metadata": {},
     "output_type": "execute_result"
    }
   ],
   "source": [
    "data['event_date_time'] = pd.to_datetime(data['event_date_time'], unit='s')\n",
    "data.head(1)"
   ]
  },
  {
   "cell_type": "markdown",
   "id": "f6b0679c-aa7f-4fb6-a54b-fe35554b45f8",
   "metadata": {},
   "source": [
    "Добавим столбец только с датой"
   ]
  },
  {
   "cell_type": "code",
   "execution_count": 21,
   "id": "82675bf1-3d99-4416-b8e3-53f30e5ff2e6",
   "metadata": {
    "tags": []
   },
   "outputs": [
    {
     "data": {
      "text/html": [
       "<div>\n",
       "<style scoped>\n",
       "    .dataframe tbody tr th:only-of-type {\n",
       "        vertical-align: middle;\n",
       "    }\n",
       "\n",
       "    .dataframe tbody tr th {\n",
       "        vertical-align: top;\n",
       "    }\n",
       "\n",
       "    .dataframe thead th {\n",
       "        text-align: right;\n",
       "    }\n",
       "</style>\n",
       "<table border=\"1\" class=\"dataframe\">\n",
       "  <thead>\n",
       "    <tr style=\"text-align: right;\">\n",
       "      <th></th>\n",
       "      <th>event_name</th>\n",
       "      <th>user_id</th>\n",
       "      <th>event_date_time</th>\n",
       "      <th>group</th>\n",
       "      <th>date</th>\n",
       "    </tr>\n",
       "  </thead>\n",
       "  <tbody>\n",
       "    <tr>\n",
       "      <th>0</th>\n",
       "      <td>MainScreenAppear</td>\n",
       "      <td>4575588528974610257</td>\n",
       "      <td>2019-07-25 04:43:36</td>\n",
       "      <td>246</td>\n",
       "      <td>2019-07-25</td>\n",
       "    </tr>\n",
       "  </tbody>\n",
       "</table>\n",
       "</div>"
      ],
      "text/plain": [
       "         event_name              user_id     event_date_time  group  \\\n",
       "0  MainScreenAppear  4575588528974610257 2019-07-25 04:43:36    246   \n",
       "\n",
       "         date  \n",
       "0  2019-07-25  "
      ]
     },
     "execution_count": 21,
     "metadata": {},
     "output_type": "execute_result"
    }
   ],
   "source": [
    "data['date'] = data['event_date_time'].dt.date\n",
    "data.head(1)"
   ]
  },
  {
   "cell_type": "code",
   "execution_count": 22,
   "id": "057fb0fb-4f9c-4b4a-8bc7-27a943f74eb0",
   "metadata": {
    "tags": []
   },
   "outputs": [
    {
     "name": "stdout",
     "output_type": "stream",
     "text": [
      "<class 'pandas.core.frame.DataFrame'>\n",
      "RangeIndex: 244126 entries, 0 to 244125\n",
      "Data columns (total 5 columns):\n",
      " #   Column           Non-Null Count   Dtype         \n",
      "---  ------           --------------   -----         \n",
      " 0   event_name       244126 non-null  object        \n",
      " 1   user_id          244126 non-null  int64         \n",
      " 2   event_date_time  244126 non-null  datetime64[ns]\n",
      " 3   group            244126 non-null  int64         \n",
      " 4   date             244126 non-null  datetime64[ns]\n",
      "dtypes: datetime64[ns](2), int64(2), object(1)\n",
      "memory usage: 9.3+ MB\n"
     ]
    }
   ],
   "source": [
    "data['date'] = pd.to_datetime(data['date'])\n",
    "data.info()"
   ]
  },
  {
   "cell_type": "markdown",
   "id": "72098fad-9aa5-49bd-8523-9f43543669d4",
   "metadata": {},
   "source": [
    "#### Проверим на дубликаты"
   ]
  },
  {
   "cell_type": "code",
   "execution_count": 24,
   "id": "cac89bcb-0089-4092-ac99-115a455edce8",
   "metadata": {
    "tags": []
   },
   "outputs": [
    {
     "data": {
      "text/plain": [
       "413"
      ]
     },
     "execution_count": 24,
     "metadata": {},
     "output_type": "execute_result"
    }
   ],
   "source": [
    "data.duplicated().sum()"
   ]
  },
  {
   "cell_type": "markdown",
   "id": "6e6a6c41-a1a0-4ad9-8402-0e50171a0633",
   "metadata": {},
   "source": [
    "Удалим явные дубликаты, которые будут в дальнейшем искажать данные"
   ]
  },
  {
   "cell_type": "code",
   "execution_count": 26,
   "id": "a77c0e04-1f89-4a78-8a72-20e381724c6b",
   "metadata": {
    "scrolled": true,
    "tags": []
   },
   "outputs": [
    {
     "data": {
      "text/html": [
       "<div>\n",
       "<style scoped>\n",
       "    .dataframe tbody tr th:only-of-type {\n",
       "        vertical-align: middle;\n",
       "    }\n",
       "\n",
       "    .dataframe tbody tr th {\n",
       "        vertical-align: top;\n",
       "    }\n",
       "\n",
       "    .dataframe thead th {\n",
       "        text-align: right;\n",
       "    }\n",
       "</style>\n",
       "<table border=\"1\" class=\"dataframe\">\n",
       "  <thead>\n",
       "    <tr style=\"text-align: right;\">\n",
       "      <th></th>\n",
       "      <th>event_name</th>\n",
       "      <th>user_id</th>\n",
       "      <th>event_date_time</th>\n",
       "      <th>group</th>\n",
       "      <th>date</th>\n",
       "    </tr>\n",
       "  </thead>\n",
       "  <tbody>\n",
       "    <tr>\n",
       "      <th>0</th>\n",
       "      <td>MainScreenAppear</td>\n",
       "      <td>4575588528974610257</td>\n",
       "      <td>2019-07-25 04:43:36</td>\n",
       "      <td>246</td>\n",
       "      <td>2019-07-25</td>\n",
       "    </tr>\n",
       "    <tr>\n",
       "      <th>1</th>\n",
       "      <td>MainScreenAppear</td>\n",
       "      <td>7416695313311560658</td>\n",
       "      <td>2019-07-25 11:11:42</td>\n",
       "      <td>246</td>\n",
       "      <td>2019-07-25</td>\n",
       "    </tr>\n",
       "    <tr>\n",
       "      <th>2</th>\n",
       "      <td>PaymentScreenSuccessful</td>\n",
       "      <td>3518123091307005509</td>\n",
       "      <td>2019-07-25 11:28:47</td>\n",
       "      <td>248</td>\n",
       "      <td>2019-07-25</td>\n",
       "    </tr>\n",
       "    <tr>\n",
       "      <th>3</th>\n",
       "      <td>CartScreenAppear</td>\n",
       "      <td>3518123091307005509</td>\n",
       "      <td>2019-07-25 11:28:47</td>\n",
       "      <td>248</td>\n",
       "      <td>2019-07-25</td>\n",
       "    </tr>\n",
       "    <tr>\n",
       "      <th>4</th>\n",
       "      <td>PaymentScreenSuccessful</td>\n",
       "      <td>6217807653094995999</td>\n",
       "      <td>2019-07-25 11:48:42</td>\n",
       "      <td>248</td>\n",
       "      <td>2019-07-25</td>\n",
       "    </tr>\n",
       "  </tbody>\n",
       "</table>\n",
       "</div>"
      ],
      "text/plain": [
       "                event_name              user_id     event_date_time  group  \\\n",
       "0         MainScreenAppear  4575588528974610257 2019-07-25 04:43:36    246   \n",
       "1         MainScreenAppear  7416695313311560658 2019-07-25 11:11:42    246   \n",
       "2  PaymentScreenSuccessful  3518123091307005509 2019-07-25 11:28:47    248   \n",
       "3         CartScreenAppear  3518123091307005509 2019-07-25 11:28:47    248   \n",
       "4  PaymentScreenSuccessful  6217807653094995999 2019-07-25 11:48:42    248   \n",
       "\n",
       "        date  \n",
       "0 2019-07-25  \n",
       "1 2019-07-25  \n",
       "2 2019-07-25  \n",
       "3 2019-07-25  \n",
       "4 2019-07-25  "
      ]
     },
     "execution_count": 26,
     "metadata": {},
     "output_type": "execute_result"
    }
   ],
   "source": [
    "data = data.drop_duplicates().reset_index(drop=True)\n",
    "data.head()"
   ]
  },
  {
   "cell_type": "code",
   "execution_count": 27,
   "id": "9fc911ae-e127-422a-bdb6-833731b7f238",
   "metadata": {
    "tags": []
   },
   "outputs": [
    {
     "data": {
      "text/plain": [
       "array(['MainScreenAppear', 'PaymentScreenSuccessful', 'CartScreenAppear',\n",
       "       'OffersScreenAppear', 'Tutorial'], dtype=object)"
      ]
     },
     "execution_count": 27,
     "metadata": {},
     "output_type": "execute_result"
    }
   ],
   "source": [
    "data['event_name'].unique() #все хорошо здесь"
   ]
  },
  {
   "cell_type": "code",
   "execution_count": 28,
   "id": "8a7f24a1-928c-492f-ad93-e61e36638d3f",
   "metadata": {
    "tags": []
   },
   "outputs": [
    {
     "data": {
      "text/plain": [
       "array([246, 248, 247], dtype=int64)"
      ]
     },
     "execution_count": 28,
     "metadata": {},
     "output_type": "execute_result"
    }
   ],
   "source": [
    "data['group'].unique() #все хорошо здесь"
   ]
  },
  {
   "cell_type": "code",
   "execution_count": 29,
   "id": "7e20dbe7-2f58-4610-be54-05485cfda236",
   "metadata": {
    "tags": []
   },
   "outputs": [
    {
     "data": {
      "text/plain": [
       "group\n",
       "248    85582\n",
       "246    80181\n",
       "247    77950\n",
       "Name: count, dtype: int64"
      ]
     },
     "execution_count": 29,
     "metadata": {},
     "output_type": "execute_result"
    }
   ],
   "source": [
    "data['group'].value_counts()"
   ]
  },
  {
   "cell_type": "markdown",
   "id": "9e67eb30-24f2-4f49-89bf-48b03b4a7c5d",
   "metadata": {},
   "source": [
    "Проверим, есть ли такие пользователи, которые попали в обе группы"
   ]
  },
  {
   "cell_type": "code",
   "execution_count": 31,
   "id": "d960275a-ed91-4815-8e51-a9997b9996eb",
   "metadata": {
    "tags": []
   },
   "outputs": [],
   "source": [
    "check_a = data[data['group'] == 246] #датафрейм группы А\n",
    "group_a = check_a['user_id'].unique() #уникальные пользователи группы\n",
    "\n",
    "check_aa = data[data['group'] == 247]\n",
    "group_aa = check_aa['user_id'].unique()\n",
    "\n",
    "check_b = data[data['group'] == 248]\n",
    "group_b = check_b['user_id'].unique()"
   ]
  },
  {
   "cell_type": "code",
   "execution_count": 32,
   "id": "b42e3579-7160-4905-928e-1679490a66eb",
   "metadata": {
    "tags": []
   },
   "outputs": [
    {
     "data": {
      "text/plain": [
       "0"
      ]
     },
     "execution_count": 32,
     "metadata": {},
     "output_type": "execute_result"
    }
   ],
   "source": [
    "common_ids = [] #пустой лист\n",
    "for user_id in group_a: #цикл для проверки одинаковых id в разных группах: А и В\n",
    "    if user_id in group_b:\n",
    "        common_ids.append(user_id)\n",
    "len(common_ids) #количество одинаковых id пользователей в разных группах"
   ]
  },
  {
   "cell_type": "code",
   "execution_count": 33,
   "id": "7c0f2e9e-ad07-49d4-aea5-fc20ffdfca4e",
   "metadata": {
    "tags": []
   },
   "outputs": [
    {
     "data": {
      "text/plain": [
       "0"
      ]
     },
     "execution_count": 33,
     "metadata": {},
     "output_type": "execute_result"
    }
   ],
   "source": [
    "common_ids = [] #пустой лист\n",
    "for user_id in group_aa: #цикл для проверки одинаковых id в разных группах: AА и В\n",
    "    if user_id in group_b:\n",
    "        common_ids.append(user_id)\n",
    "len(common_ids) #количество одинаковых id пользователей в разных группах"
   ]
  },
  {
   "cell_type": "markdown",
   "id": "41c8cffc-dcea-4b31-a885-f61a607d2fb3",
   "metadata": {},
   "source": [
    "#### Вывод \"Шаг 2. Подготовьте данные\"\n",
    "В ходе Предобработки и подготовки данных были осуществлены следующие действия:\n",
    "- изменены названия столбцов, записаны в правильном варианте\n",
    "- изменен тип данных столбца с датой и временем на правильный, добавлен отдельный столбец только с датой\n",
    "- проверены явные и неявные дубликаты. Явные удалены (их было 413), неявные отсутствуют\n",
    "- проверены уникальные пользователи, которые совпадают в тесте групп A (246) и B (248), AA (247) и B (248) – повторяющихся нет, это отличный знак, тк данные искажаться не будут"
   ]
  },
  {
   "cell_type": "markdown",
   "id": "152fca92-6c6b-491e-bcc5-b2056a31133e",
   "metadata": {},
   "source": [
    "### Шаг 3. Изучите и проверьте данные"
   ]
  },
  {
   "cell_type": "markdown",
   "id": "50baf267-0a9b-4a93-aded-51b824cb63cc",
   "metadata": {},
   "source": [
    "#### Сколько всего событий в логе?"
   ]
  },
  {
   "cell_type": "code",
   "execution_count": 37,
   "id": "5f8db4fb-49a7-4fcd-bdf4-3e27c480d5b1",
   "metadata": {
    "tags": []
   },
   "outputs": [
    {
     "data": {
      "text/plain": [
       "243713"
      ]
     },
     "execution_count": 37,
     "metadata": {},
     "output_type": "execute_result"
    }
   ],
   "source": [
    "event_count_old = data['event_name'].count()\n",
    "event_count_old"
   ]
  },
  {
   "cell_type": "code",
   "execution_count": 38,
   "id": "5d28025c-911b-4da0-9463-635ec8a51962",
   "metadata": {
    "tags": []
   },
   "outputs": [
    {
     "data": {
      "text/plain": [
       "event_name\n",
       "MainScreenAppear           119101\n",
       "OffersScreenAppear          46808\n",
       "CartScreenAppear            42668\n",
       "PaymentScreenSuccessful     34118\n",
       "Tutorial                     1018\n",
       "Name: count, dtype: int64"
      ]
     },
     "execution_count": 38,
     "metadata": {},
     "output_type": "execute_result"
    }
   ],
   "source": [
    "data['event_name'].value_counts()"
   ]
  },
  {
   "cell_type": "markdown",
   "id": "450144df-c0e5-4c9e-9d80-bd949f4f1f7b",
   "metadata": {},
   "source": [
    "**В логе всего 243713 событий. Количество людей, дошедших до определенного события указано выше**"
   ]
  },
  {
   "cell_type": "markdown",
   "id": "9f4d458c-48ce-4e57-ac98-820831d9554e",
   "metadata": {},
   "source": [
    "#### Сколько всего пользователей в логе?"
   ]
  },
  {
   "cell_type": "code",
   "execution_count": 41,
   "id": "838a0d34-9d8b-4032-8792-cde307a4dc1f",
   "metadata": {
    "tags": []
   },
   "outputs": [
    {
     "data": {
      "text/plain": [
       "7551"
      ]
     },
     "execution_count": 41,
     "metadata": {},
     "output_type": "execute_result"
    }
   ],
   "source": [
    "user_count_old = data['user_id'].nunique()\n",
    "user_count_old"
   ]
  },
  {
   "cell_type": "markdown",
   "id": "4be22855-f4cc-44af-a485-f12b51039052",
   "metadata": {},
   "source": [
    "**Всего в логе представлено 7551 уникальных пользователей**"
   ]
  },
  {
   "cell_type": "markdown",
   "id": "6b03171f-f76f-4a79-8349-1b36e080aa9b",
   "metadata": {},
   "source": [
    "#### Сколько в среднем событий приходится на пользователя?"
   ]
  },
  {
   "cell_type": "code",
   "execution_count": 44,
   "id": "222298c6-7b04-4953-9cba-5ca2e479511b",
   "metadata": {
    "tags": []
   },
   "outputs": [
    {
     "data": {
      "text/plain": [
       "32.0"
      ]
     },
     "execution_count": 44,
     "metadata": {},
     "output_type": "execute_result"
    }
   ],
   "source": [
    "mean_event = data['event_name'].count() / data['user_id'].nunique()\n",
    "mean_event.round()"
   ]
  },
  {
   "cell_type": "code",
   "execution_count": 45,
   "id": "ff6c6a1f-86e3-4ed3-b074-16761caa9c25",
   "metadata": {
    "tags": []
   },
   "outputs": [
    {
     "data": {
      "text/html": [
       "<div>\n",
       "<style scoped>\n",
       "    .dataframe tbody tr th:only-of-type {\n",
       "        vertical-align: middle;\n",
       "    }\n",
       "\n",
       "    .dataframe tbody tr th {\n",
       "        vertical-align: top;\n",
       "    }\n",
       "\n",
       "    .dataframe thead th {\n",
       "        text-align: right;\n",
       "    }\n",
       "</style>\n",
       "<table border=\"1\" class=\"dataframe\">\n",
       "  <thead>\n",
       "    <tr style=\"text-align: right;\">\n",
       "      <th></th>\n",
       "      <th>user_id</th>\n",
       "      <th>event_name</th>\n",
       "    </tr>\n",
       "  </thead>\n",
       "  <tbody>\n",
       "    <tr>\n",
       "      <th>5116</th>\n",
       "      <td>6304868067479728361</td>\n",
       "      <td>2307</td>\n",
       "    </tr>\n",
       "    <tr>\n",
       "      <th>147</th>\n",
       "      <td>197027893265565660</td>\n",
       "      <td>1998</td>\n",
       "    </tr>\n",
       "    <tr>\n",
       "      <th>3714</th>\n",
       "      <td>4623191541214045580</td>\n",
       "      <td>1768</td>\n",
       "    </tr>\n",
       "    <tr>\n",
       "      <th>5590</th>\n",
       "      <td>6932517045703054087</td>\n",
       "      <td>1439</td>\n",
       "    </tr>\n",
       "    <tr>\n",
       "      <th>1391</th>\n",
       "      <td>1754140665440434215</td>\n",
       "      <td>1221</td>\n",
       "    </tr>\n",
       "    <tr>\n",
       "      <th>2641</th>\n",
       "      <td>3337471580007169353</td>\n",
       "      <td>1186</td>\n",
       "    </tr>\n",
       "    <tr>\n",
       "      <th>6294</th>\n",
       "      <td>7738058666231999878</td>\n",
       "      <td>888</td>\n",
       "    </tr>\n",
       "    <tr>\n",
       "      <th>822</th>\n",
       "      <td>1055544042902443290</td>\n",
       "      <td>854</td>\n",
       "    </tr>\n",
       "    <tr>\n",
       "      <th>3801</th>\n",
       "      <td>4713748699910253089</td>\n",
       "      <td>824</td>\n",
       "    </tr>\n",
       "    <tr>\n",
       "      <th>6617</th>\n",
       "      <td>8118046800480174342</td>\n",
       "      <td>755</td>\n",
       "    </tr>\n",
       "  </tbody>\n",
       "</table>\n",
       "</div>"
      ],
      "text/plain": [
       "                  user_id  event_name\n",
       "5116  6304868067479728361        2307\n",
       "147    197027893265565660        1998\n",
       "3714  4623191541214045580        1768\n",
       "5590  6932517045703054087        1439\n",
       "1391  1754140665440434215        1221\n",
       "2641  3337471580007169353        1186\n",
       "6294  7738058666231999878         888\n",
       "822   1055544042902443290         854\n",
       "3801  4713748699910253089         824\n",
       "6617  8118046800480174342         755"
      ]
     },
     "execution_count": 45,
     "metadata": {},
     "output_type": "execute_result"
    }
   ],
   "source": [
    "search = data.pivot_table(index='user_id', values='event_name', aggfunc='count').reset_index()\n",
    "search = search.sort_values(by='event_name', ascending=False)\n",
    "search.head(10)"
   ]
  },
  {
   "cell_type": "markdown",
   "id": "0320fe19-6aee-4d36-b240-21414aa074c5",
   "metadata": {},
   "source": [
    "**В среднем на одного пользователя приходится 32 события**"
   ]
  },
  {
   "cell_type": "markdown",
   "id": "cb1a9a13-1b27-4a40-81e9-602a81846673",
   "metadata": {},
   "source": [
    "#### Данными за какой период вы располагаете? Найдите максимальную и минимальную дату. Изучите, как меняется количество данных: постройте столбчатую диаграмму, которая отобразит количество событий в зависимости от времени в разрезе групп. Можно ли быть уверенным, что у вас одинаково полные данные за весь период? Технически в логи новых дней по некоторым пользователям могут «доезжать» события из прошлого — это может «перекашивать данные». Определите, с какого момента данные полные и отбросьте более старые. Данными за какой период времени вы располагаете на самом деле?"
   ]
  },
  {
   "cell_type": "code",
   "execution_count": 48,
   "id": "d2bcab8d-6762-449e-ac73-0d72b12db0bb",
   "metadata": {
    "tags": []
   },
   "outputs": [
    {
     "name": "stdout",
     "output_type": "stream",
     "text": [
      "Максимальная дата: 2019-08-07 00:00:00, минимальная дата: 2019-07-25 00:00:00. Разница между датами: 13 days 00:00:00\n"
     ]
    }
   ],
   "source": [
    "max_date = data['date'].max()\n",
    "min_date = data['date'].min()\n",
    "print(f'Максимальная дата: {max_date}, минимальная дата: {min_date}. Разница между датами: {max_date - min_date}')"
   ]
  },
  {
   "cell_type": "code",
   "execution_count": 49,
   "id": "64c5a2a2-c4b6-4c34-a288-4074a4a6c195",
   "metadata": {
    "tags": []
   },
   "outputs": [
    {
     "data": {
      "text/html": [
       "<div>\n",
       "<style scoped>\n",
       "    .dataframe tbody tr th:only-of-type {\n",
       "        vertical-align: middle;\n",
       "    }\n",
       "\n",
       "    .dataframe tbody tr th {\n",
       "        vertical-align: top;\n",
       "    }\n",
       "\n",
       "    .dataframe thead th {\n",
       "        text-align: right;\n",
       "    }\n",
       "</style>\n",
       "<table border=\"1\" class=\"dataframe\">\n",
       "  <thead>\n",
       "    <tr style=\"text-align: right;\">\n",
       "      <th></th>\n",
       "      <th>event_name</th>\n",
       "      <th>user_id</th>\n",
       "      <th>event_date_time</th>\n",
       "      <th>group</th>\n",
       "      <th>date</th>\n",
       "    </tr>\n",
       "  </thead>\n",
       "  <tbody>\n",
       "    <tr>\n",
       "      <th>0</th>\n",
       "      <td>MainScreenAppear</td>\n",
       "      <td>4575588528974610257</td>\n",
       "      <td>2019-07-25 04:43:36</td>\n",
       "      <td>246</td>\n",
       "      <td>2019-07-25</td>\n",
       "    </tr>\n",
       "    <tr>\n",
       "      <th>1</th>\n",
       "      <td>MainScreenAppear</td>\n",
       "      <td>7416695313311560658</td>\n",
       "      <td>2019-07-25 11:11:42</td>\n",
       "      <td>246</td>\n",
       "      <td>2019-07-25</td>\n",
       "    </tr>\n",
       "    <tr>\n",
       "      <th>2</th>\n",
       "      <td>PaymentScreenSuccessful</td>\n",
       "      <td>3518123091307005509</td>\n",
       "      <td>2019-07-25 11:28:47</td>\n",
       "      <td>248</td>\n",
       "      <td>2019-07-25</td>\n",
       "    </tr>\n",
       "    <tr>\n",
       "      <th>3</th>\n",
       "      <td>CartScreenAppear</td>\n",
       "      <td>3518123091307005509</td>\n",
       "      <td>2019-07-25 11:28:47</td>\n",
       "      <td>248</td>\n",
       "      <td>2019-07-25</td>\n",
       "    </tr>\n",
       "    <tr>\n",
       "      <th>4</th>\n",
       "      <td>PaymentScreenSuccessful</td>\n",
       "      <td>6217807653094995999</td>\n",
       "      <td>2019-07-25 11:48:42</td>\n",
       "      <td>248</td>\n",
       "      <td>2019-07-25</td>\n",
       "    </tr>\n",
       "  </tbody>\n",
       "</table>\n",
       "</div>"
      ],
      "text/plain": [
       "                event_name              user_id     event_date_time  group  \\\n",
       "0         MainScreenAppear  4575588528974610257 2019-07-25 04:43:36    246   \n",
       "1         MainScreenAppear  7416695313311560658 2019-07-25 11:11:42    246   \n",
       "2  PaymentScreenSuccessful  3518123091307005509 2019-07-25 11:28:47    248   \n",
       "3         CartScreenAppear  3518123091307005509 2019-07-25 11:28:47    248   \n",
       "4  PaymentScreenSuccessful  6217807653094995999 2019-07-25 11:48:42    248   \n",
       "\n",
       "        date  \n",
       "0 2019-07-25  \n",
       "1 2019-07-25  \n",
       "2 2019-07-25  \n",
       "3 2019-07-25  \n",
       "4 2019-07-25  "
      ]
     },
     "execution_count": 49,
     "metadata": {},
     "output_type": "execute_result"
    }
   ],
   "source": [
    "data.head()"
   ]
  },
  {
   "cell_type": "code",
   "execution_count": 50,
   "id": "8cf8b649-378e-48ca-b781-505a976da815",
   "metadata": {
    "tags": []
   },
   "outputs": [
    {
     "data": {
      "text/html": [
       "<div>\n",
       "<style scoped>\n",
       "    .dataframe tbody tr th:only-of-type {\n",
       "        vertical-align: middle;\n",
       "    }\n",
       "\n",
       "    .dataframe tbody tr th {\n",
       "        vertical-align: top;\n",
       "    }\n",
       "\n",
       "    .dataframe thead th {\n",
       "        text-align: right;\n",
       "    }\n",
       "</style>\n",
       "<table border=\"1\" class=\"dataframe\">\n",
       "  <thead>\n",
       "    <tr style=\"text-align: right;\">\n",
       "      <th>group</th>\n",
       "      <th>246</th>\n",
       "      <th>247</th>\n",
       "      <th>248</th>\n",
       "    </tr>\n",
       "    <tr>\n",
       "      <th>date</th>\n",
       "      <th></th>\n",
       "      <th></th>\n",
       "      <th></th>\n",
       "    </tr>\n",
       "  </thead>\n",
       "  <tbody>\n",
       "    <tr>\n",
       "      <th>2019-07-25</th>\n",
       "      <td>4</td>\n",
       "      <td>1</td>\n",
       "      <td>2</td>\n",
       "    </tr>\n",
       "    <tr>\n",
       "      <th>2019-07-26</th>\n",
       "      <td>7</td>\n",
       "      <td>7</td>\n",
       "      <td>8</td>\n",
       "    </tr>\n",
       "    <tr>\n",
       "      <th>2019-07-27</th>\n",
       "      <td>14</td>\n",
       "      <td>17</td>\n",
       "      <td>8</td>\n",
       "    </tr>\n",
       "    <tr>\n",
       "      <th>2019-07-28</th>\n",
       "      <td>26</td>\n",
       "      <td>25</td>\n",
       "      <td>18</td>\n",
       "    </tr>\n",
       "    <tr>\n",
       "      <th>2019-07-29</th>\n",
       "      <td>44</td>\n",
       "      <td>41</td>\n",
       "      <td>50</td>\n",
       "    </tr>\n",
       "    <tr>\n",
       "      <th>2019-07-30</th>\n",
       "      <td>93</td>\n",
       "      <td>96</td>\n",
       "      <td>107</td>\n",
       "    </tr>\n",
       "    <tr>\n",
       "      <th>2019-07-31</th>\n",
       "      <td>285</td>\n",
       "      <td>314</td>\n",
       "      <td>325</td>\n",
       "    </tr>\n",
       "    <tr>\n",
       "      <th>2019-08-01</th>\n",
       "      <td>1191</td>\n",
       "      <td>1282</td>\n",
       "      <td>1230</td>\n",
       "    </tr>\n",
       "    <tr>\n",
       "      <th>2019-08-02</th>\n",
       "      <td>1197</td>\n",
       "      <td>1221</td>\n",
       "      <td>1229</td>\n",
       "    </tr>\n",
       "    <tr>\n",
       "      <th>2019-08-03</th>\n",
       "      <td>1140</td>\n",
       "      <td>1176</td>\n",
       "      <td>1166</td>\n",
       "    </tr>\n",
       "    <tr>\n",
       "      <th>2019-08-04</th>\n",
       "      <td>1170</td>\n",
       "      <td>1169</td>\n",
       "      <td>1188</td>\n",
       "    </tr>\n",
       "    <tr>\n",
       "      <th>2019-08-05</th>\n",
       "      <td>1269</td>\n",
       "      <td>1263</td>\n",
       "      <td>1270</td>\n",
       "    </tr>\n",
       "    <tr>\n",
       "      <th>2019-08-06</th>\n",
       "      <td>1270</td>\n",
       "      <td>1320</td>\n",
       "      <td>1332</td>\n",
       "    </tr>\n",
       "    <tr>\n",
       "      <th>2019-08-07</th>\n",
       "      <td>1198</td>\n",
       "      <td>1212</td>\n",
       "      <td>1241</td>\n",
       "    </tr>\n",
       "  </tbody>\n",
       "</table>\n",
       "</div>"
      ],
      "text/plain": [
       "group        246   247   248\n",
       "date                        \n",
       "2019-07-25     4     1     2\n",
       "2019-07-26     7     7     8\n",
       "2019-07-27    14    17     8\n",
       "2019-07-28    26    25    18\n",
       "2019-07-29    44    41    50\n",
       "2019-07-30    93    96   107\n",
       "2019-07-31   285   314   325\n",
       "2019-08-01  1191  1282  1230\n",
       "2019-08-02  1197  1221  1229\n",
       "2019-08-03  1140  1176  1166\n",
       "2019-08-04  1170  1169  1188\n",
       "2019-08-05  1269  1263  1270\n",
       "2019-08-06  1270  1320  1332\n",
       "2019-08-07  1198  1212  1241"
      ]
     },
     "execution_count": 50,
     "metadata": {},
     "output_type": "execute_result"
    }
   ],
   "source": [
    "table = data.pivot_table(index='date', values='user_id', aggfunc='nunique', columns='group')\n",
    "table"
   ]
  },
  {
   "cell_type": "code",
   "execution_count": 51,
   "id": "6b49f928-f180-457d-9989-1c8336dcd110",
   "metadata": {
    "tags": []
   },
   "outputs": [
    {
     "data": {
      "image/png": "[encoded data removed]",
      "text/plain": [
       "<Figure size 1000x600 with 1 Axes>"
      ]
     },
     "metadata": {},
     "output_type": "display_data"
    }
   ],
   "source": [
    "table.plot(kind='bar',\n",
    "          grid=True,\n",
    "          figsize=(10,6))\n",
    "plt.xlabel('Дата')\n",
    "plt.ylabel('Количество пользователей')\n",
    "plt.title('Количество событий в зависимости от времени в разрезе групп')\n",
    "plt.show()"
   ]
  },
  {
   "cell_type": "markdown",
   "id": "f75b7057-2bca-40f7-9049-299e0639eb65",
   "metadata": {},
   "source": [
    "**Анализируя полученную столбчатую диаграмму \"Количество событий в зависимости от времени в разрезе групп\", видно, что данные не одинаково полные за весь период. Из-за того, что данные неполные, результаты могу получиться \"скошенными\", поэтому необходимо учесть данные только с того момента, когда они стали полными и достаточными для анализа. А нашем случае – это с 01.08.2019 г.** "
   ]
  },
  {
   "cell_type": "code",
   "execution_count": 53,
   "id": "9766feb4-d369-4666-a953-427eb9c0be99",
   "metadata": {
    "tags": []
   },
   "outputs": [
    {
     "name": "stdout",
     "output_type": "stream",
     "text": [
      "<class 'pandas.core.frame.DataFrame'>\n",
      "RangeIndex: 243713 entries, 0 to 243712\n",
      "Data columns (total 5 columns):\n",
      " #   Column           Non-Null Count   Dtype         \n",
      "---  ------           --------------   -----         \n",
      " 0   event_name       243713 non-null  object        \n",
      " 1   user_id          243713 non-null  int64         \n",
      " 2   event_date_time  243713 non-null  datetime64[ns]\n",
      " 3   group            243713 non-null  int64         \n",
      " 4   date             243713 non-null  datetime64[ns]\n",
      "dtypes: datetime64[ns](2), int64(2), object(1)\n",
      "memory usage: 9.3+ MB\n"
     ]
    }
   ],
   "source": [
    "data.info()"
   ]
  },
  {
   "cell_type": "code",
   "execution_count": 54,
   "id": "8fc13b8c-25aa-46c6-96bf-5034f597f803",
   "metadata": {
    "tags": []
   },
   "outputs": [
    {
     "data": {
      "text/plain": [
       "Timestamp('2019-08-01 00:00:00')"
      ]
     },
     "execution_count": 54,
     "metadata": {},
     "output_type": "execute_result"
    }
   ],
   "source": [
    "data = data.query('date >= \"2019-08-01\"') #выполнили срез. Теперь в дальнейшем мы будем учитывать только \"полные\" данные\n",
    "data['date'].min()"
   ]
  },
  {
   "cell_type": "markdown",
   "id": "3331095b-fc22-424e-889c-2dbf798d181d",
   "metadata": {},
   "source": [
    "#### Много ли событий и пользователей вы потеряли, отбросив старые данные?"
   ]
  },
  {
   "cell_type": "code",
   "execution_count": 56,
   "id": "5fa9676e-325f-468a-965f-afbb0e925712",
   "metadata": {
    "tags": []
   },
   "outputs": [
    {
     "name": "stdout",
     "output_type": "stream",
     "text": [
      "Мы потеряли 2826 событий и 17 пользователей после отброса старых данных. Это составляет 1.16% событий и 0.225% пользователей относительно изначальных данных\n"
     ]
    }
   ],
   "source": [
    "event_count_new = data['event_name'].count()\n",
    "event_count_new\n",
    "\n",
    "user_count_new = data['user_id'].nunique()\n",
    "user_count_new\n",
    "\n",
    "print(f'Мы потеряли {event_count_old - event_count_new} событий и {user_count_old - user_count_new} пользователей после отброса старых данных. Это составляет {round((event_count_old - event_count_new)/event_count_old*100, 3)}% событий и {round((user_count_old - user_count_new)/user_count_old*100, 3)}% пользователей относительно изначальных данных')"
   ]
  },
  {
   "cell_type": "markdown",
   "id": "e09fa761-9eaf-415a-b8ed-8043fe99f464",
   "metadata": {},
   "source": [
    "####  Проверьте, что у вас есть пользователи из всех трёх экспериментальных групп"
   ]
  },
  {
   "cell_type": "code",
   "execution_count": 58,
   "id": "28d0f283-018c-47cf-98a3-b64224f5db16",
   "metadata": {
    "tags": []
   },
   "outputs": [
    {
     "data": {
      "text/html": [
       "<div>\n",
       "<style scoped>\n",
       "    .dataframe tbody tr th:only-of-type {\n",
       "        vertical-align: middle;\n",
       "    }\n",
       "\n",
       "    .dataframe tbody tr th {\n",
       "        vertical-align: top;\n",
       "    }\n",
       "\n",
       "    .dataframe thead th {\n",
       "        text-align: right;\n",
       "    }\n",
       "</style>\n",
       "<table border=\"1\" class=\"dataframe\">\n",
       "  <thead>\n",
       "    <tr style=\"text-align: right;\">\n",
       "      <th></th>\n",
       "      <th>user_id</th>\n",
       "    </tr>\n",
       "    <tr>\n",
       "      <th>group</th>\n",
       "      <th></th>\n",
       "    </tr>\n",
       "  </thead>\n",
       "  <tbody>\n",
       "    <tr>\n",
       "      <th>246</th>\n",
       "      <td>2484</td>\n",
       "    </tr>\n",
       "    <tr>\n",
       "      <th>247</th>\n",
       "      <td>2513</td>\n",
       "    </tr>\n",
       "    <tr>\n",
       "      <th>248</th>\n",
       "      <td>2537</td>\n",
       "    </tr>\n",
       "  </tbody>\n",
       "</table>\n",
       "</div>"
      ],
      "text/plain": [
       "       user_id\n",
       "group         \n",
       "246       2484\n",
       "247       2513\n",
       "248       2537"
      ]
     },
     "execution_count": 58,
     "metadata": {},
     "output_type": "execute_result"
    }
   ],
   "source": [
    "data.groupby('group').agg({'user_id': 'nunique'}) #проверка пользователей в каждой группе"
   ]
  },
  {
   "cell_type": "code",
   "execution_count": 59,
   "id": "fc6189b3-c715-4830-b6b5-ef0d9d7dfd98",
   "metadata": {
    "tags": []
   },
   "outputs": [
    {
     "data": {
      "text/html": [
       "<div>\n",
       "<style scoped>\n",
       "    .dataframe tbody tr th:only-of-type {\n",
       "        vertical-align: middle;\n",
       "    }\n",
       "\n",
       "    .dataframe tbody tr th {\n",
       "        vertical-align: top;\n",
       "    }\n",
       "\n",
       "    .dataframe thead th {\n",
       "        text-align: right;\n",
       "    }\n",
       "</style>\n",
       "<table border=\"1\" class=\"dataframe\">\n",
       "  <thead>\n",
       "    <tr style=\"text-align: right;\">\n",
       "      <th></th>\n",
       "      <th>event_name</th>\n",
       "    </tr>\n",
       "    <tr>\n",
       "      <th>group</th>\n",
       "      <th></th>\n",
       "    </tr>\n",
       "  </thead>\n",
       "  <tbody>\n",
       "    <tr>\n",
       "      <th>246</th>\n",
       "      <td>79302</td>\n",
       "    </tr>\n",
       "    <tr>\n",
       "      <th>247</th>\n",
       "      <td>77022</td>\n",
       "    </tr>\n",
       "    <tr>\n",
       "      <th>248</th>\n",
       "      <td>84563</td>\n",
       "    </tr>\n",
       "  </tbody>\n",
       "</table>\n",
       "</div>"
      ],
      "text/plain": [
       "       event_name\n",
       "group            \n",
       "246         79302\n",
       "247         77022\n",
       "248         84563"
      ]
     },
     "execution_count": 59,
     "metadata": {},
     "output_type": "execute_result"
    }
   ],
   "source": [
    "data.groupby('group').agg({'event_name': 'count'}) #проверка событий в каждой группе"
   ]
  },
  {
   "cell_type": "markdown",
   "id": "816fb574-0934-484f-b797-3cbe0a29b5d1",
   "metadata": {},
   "source": [
    "**После удаления части данных пользователи и события во всех трёх экспериментальных групп присутствуют**"
   ]
  },
  {
   "cell_type": "markdown",
   "id": "f61f6221-2f27-48fa-a897-ba345f5e61c3",
   "metadata": {},
   "source": [
    "#### Вывод \"Шаг 3. Изучите и проверьте данные\"\n",
    "- В логе всего 243713 событий. Количество людей, дошедших до определенного события указано выше\n",
    "- Всего в логе представлено 7551 уникальных пользователей\n",
    "- В среднем на одного пользователя приходится 32 события\n",
    "- Максимальная дата: 2019-08-07, минимальная дата: 2019-07-25. Разница между датами: 13 полных дней\n",
    "- Анализируя полученную столбчатую диаграмму \"Количество событий в зависимости от времени в разрезе групп\", видно, что данные не одинаково полные за весь период. Из-за того, что данные неполные, результаты могу получиться \"скошенными\", поэтому необходимо учесть данные только с того момента, когда они стали полными и достаточными для анализа. А нашем случае – это с 01.08.2019 г.\n",
    "- Мы потеряли 2826 событий и 17 пользователей после отброса старых данных. Это составляет 1.16% событий и 0.225% пользователей относительно изначальных данных\n",
    "- После удаления части данных пользователи и события во всех трёх экспериментальных групп присутствуют"
   ]
  },
  {
   "cell_type": "markdown",
   "id": "aa055774-ba32-43dc-84a6-f484cfdbd9b9",
   "metadata": {},
   "source": [
    "### Шаг 4. Изучите воронку событий"
   ]
  },
  {
   "cell_type": "markdown",
   "id": "9abd78c4-7da5-498f-87f5-f5e3f9ac548e",
   "metadata": {},
   "source": [
    "#### Посмотрите, какие события есть в логах, как часто они встречаются. Отсортируйте события по частоте"
   ]
  },
  {
   "cell_type": "code",
   "execution_count": 64,
   "id": "098f53de-4556-4e91-abec-c7e80421744b",
   "metadata": {
    "tags": []
   },
   "outputs": [
    {
     "data": {
      "text/html": [
       "<div>\n",
       "<style scoped>\n",
       "    .dataframe tbody tr th:only-of-type {\n",
       "        vertical-align: middle;\n",
       "    }\n",
       "\n",
       "    .dataframe tbody tr th {\n",
       "        vertical-align: top;\n",
       "    }\n",
       "\n",
       "    .dataframe thead th {\n",
       "        text-align: right;\n",
       "    }\n",
       "</style>\n",
       "<table border=\"1\" class=\"dataframe\">\n",
       "  <thead>\n",
       "    <tr style=\"text-align: right;\">\n",
       "      <th></th>\n",
       "      <th>event_name</th>\n",
       "      <th>count</th>\n",
       "    </tr>\n",
       "  </thead>\n",
       "  <tbody>\n",
       "    <tr>\n",
       "      <th>0</th>\n",
       "      <td>MainScreenAppear</td>\n",
       "      <td>117328</td>\n",
       "    </tr>\n",
       "    <tr>\n",
       "      <th>1</th>\n",
       "      <td>OffersScreenAppear</td>\n",
       "      <td>46333</td>\n",
       "    </tr>\n",
       "    <tr>\n",
       "      <th>2</th>\n",
       "      <td>CartScreenAppear</td>\n",
       "      <td>42303</td>\n",
       "    </tr>\n",
       "    <tr>\n",
       "      <th>3</th>\n",
       "      <td>PaymentScreenSuccessful</td>\n",
       "      <td>33918</td>\n",
       "    </tr>\n",
       "    <tr>\n",
       "      <th>4</th>\n",
       "      <td>Tutorial</td>\n",
       "      <td>1005</td>\n",
       "    </tr>\n",
       "  </tbody>\n",
       "</table>\n",
       "</div>"
      ],
      "text/plain": [
       "                event_name   count\n",
       "0         MainScreenAppear  117328\n",
       "1       OffersScreenAppear   46333\n",
       "2         CartScreenAppear   42303\n",
       "3  PaymentScreenSuccessful   33918\n",
       "4                 Tutorial    1005"
      ]
     },
     "execution_count": 64,
     "metadata": {},
     "output_type": "execute_result"
    }
   ],
   "source": [
    "data['event_name'].value_counts().reset_index()"
   ]
  },
  {
   "cell_type": "markdown",
   "id": "928e7f07-698a-4c70-ac33-c2b2a5ec87a3",
   "metadata": {},
   "source": [
    "**В логах есть следующие события: `MainScreenAppear` , `OffersScreenAppear`, `CartScreenAppear`, `PaymentScreenSuccessful`, `Tutorial`. Чаще всего встречается событие `MainScreenAppear` – 117328 раз, реже всего – событие `Tutorial` – 1005 раз**"
   ]
  },
  {
   "cell_type": "markdown",
   "id": "828d6ec8-f5ef-4709-863e-a07496fee797",
   "metadata": {},
   "source": [
    "#### Посчитайте, сколько пользователей совершали каждое из этих событий. Отсортируйте события по числу пользователей. Посчитайте долю пользователей, которые хоть раз совершали событие"
   ]
  },
  {
   "cell_type": "code",
   "execution_count": 67,
   "id": "ed6139ca-c8b6-4fc1-8cff-243ffbfd9cd3",
   "metadata": {
    "tags": []
   },
   "outputs": [
    {
     "data": {
      "text/html": [
       "<div>\n",
       "<style scoped>\n",
       "    .dataframe tbody tr th:only-of-type {\n",
       "        vertical-align: middle;\n",
       "    }\n",
       "\n",
       "    .dataframe tbody tr th {\n",
       "        vertical-align: top;\n",
       "    }\n",
       "\n",
       "    .dataframe thead th {\n",
       "        text-align: right;\n",
       "    }\n",
       "</style>\n",
       "<table border=\"1\" class=\"dataframe\">\n",
       "  <thead>\n",
       "    <tr style=\"text-align: right;\">\n",
       "      <th></th>\n",
       "      <th>nunique_users</th>\n",
       "      <th>percent_users</th>\n",
       "    </tr>\n",
       "    <tr>\n",
       "      <th>event_name</th>\n",
       "      <th></th>\n",
       "      <th></th>\n",
       "    </tr>\n",
       "  </thead>\n",
       "  <tbody>\n",
       "    <tr>\n",
       "      <th>MainScreenAppear</th>\n",
       "      <td>7419</td>\n",
       "      <td>98.474%</td>\n",
       "    </tr>\n",
       "    <tr>\n",
       "      <th>OffersScreenAppear</th>\n",
       "      <td>4593</td>\n",
       "      <td>60.964%</td>\n",
       "    </tr>\n",
       "    <tr>\n",
       "      <th>CartScreenAppear</th>\n",
       "      <td>3734</td>\n",
       "      <td>49.562%</td>\n",
       "    </tr>\n",
       "    <tr>\n",
       "      <th>PaymentScreenSuccessful</th>\n",
       "      <td>3539</td>\n",
       "      <td>46.974%</td>\n",
       "    </tr>\n",
       "    <tr>\n",
       "      <th>Tutorial</th>\n",
       "      <td>840</td>\n",
       "      <td>11.149%</td>\n",
       "    </tr>\n",
       "  </tbody>\n",
       "</table>\n",
       "</div>"
      ],
      "text/plain": [
       "                         nunique_users percent_users\n",
       "event_name                                          \n",
       "MainScreenAppear                  7419       98.474%\n",
       "OffersScreenAppear                4593       60.964%\n",
       "CartScreenAppear                  3734       49.562%\n",
       "PaymentScreenSuccessful           3539       46.974%\n",
       "Tutorial                           840       11.149%"
      ]
     },
     "execution_count": 67,
     "metadata": {},
     "output_type": "execute_result"
    }
   ],
   "source": [
    "qwerty = data.pivot_table(index='event_name', values='user_id', aggfunc='nunique')\n",
    "qwerty.columns = ['nunique_users']\n",
    "qwerty['percent_users'] = (qwerty['nunique_users'] / data['user_id'].nunique()).apply(lambda x: format(x,'.3%'))\n",
    "qwerty = qwerty.sort_values(by='nunique_users', ascending=False)\n",
    "qwerty"
   ]
  },
  {
   "cell_type": "markdown",
   "id": "48c7991c-9b26-4c23-8d0c-10a0d2cc234b",
   "metadata": {},
   "source": [
    "**Было подсчитано, сколько пользователей совершали каждое событие, отсортированы события по числу пользователей, посчитана доля пользователей, которые хоть раз совершали событие. Лидером является событие `MainScreenAppear`, количество пользователей 7419, в доля пользователей – 98.474%**"
   ]
  },
  {
   "cell_type": "markdown",
   "id": "9698adda-e124-421d-9bbd-8cf23a0d4d00",
   "metadata": {},
   "source": [
    "#### Предположите, в каком порядке происходят события. Все ли они выстраиваются в последовательную цепочку? Их не нужно учитывать при расчёте воронки"
   ]
  },
  {
   "cell_type": "markdown",
   "id": "1e943837-755b-4d79-a65e-d66b93f5db05",
   "metadata": {},
   "source": [
    "Чтобы определить цепочку событий, нужно использовать датафрейм, который мы получили выше при расчете количества пользователей на каждое событие, однако для начала переведем на русский язык события, представленные в таблице: <br>\n",
    "- `MainScreenAppear` – появление главного экрана\n",
    "- `OffersScreenAppear` – появление ленты предложений\n",
    "- `CartScreenAppear` – появление экрана корзины\n",
    "- `PaymentScreenSuccessful` – появление экрана об успешной оплате\n",
    "- `Tutorial` – обучение <br> <br>\n",
    "**Можно смело предположить, что обучение находится во второй позиции цепочки (после появления главного экрана) и является необязательным этапом, который можно пропустить и перейти сразу к просмотру ленты предложений. Именно поэтому цепочка событий выглядит именно так:**\n",
    "1) `MainScreenAppear`\n",
    "2) `Tutorial`\n",
    "3) `OffersScreenAppear`\n",
    "4) `CartScreenAppear`\n",
    "5) `PaymentScreenSuccessful`"
   ]
  },
  {
   "cell_type": "markdown",
   "id": "907b3d59-8b61-44c4-8ebc-4c6004a70112",
   "metadata": {
    "tags": []
   },
   "source": [
    "#### По воронке событий посчитайте, какая доля пользователей проходит на следующий шаг воронки (от числа пользователей на предыдущем). То есть для последовательности событий A → B → C посчитайте отношение числа пользователей с событием B к количеству пользователей с событием A, а также отношение числа пользователей с событием C к количеству пользователей с событием B"
   ]
  },
  {
   "cell_type": "markdown",
   "id": "80ce322f-77b1-474e-b419-c73a6712a4b1",
   "metadata": {},
   "source": [
    "Так как обучение на платформе является необязательным шагом, исключим его из воронки событий, чтобы оно не сбивало цепочку и не искажало показатели"
   ]
  },
  {
   "cell_type": "code",
   "execution_count": 73,
   "id": "15828300-2d9a-4b44-87f8-1e450f990851",
   "metadata": {
    "tags": []
   },
   "outputs": [
    {
     "data": {
      "text/html": [
       "<div>\n",
       "<style scoped>\n",
       "    .dataframe tbody tr th:only-of-type {\n",
       "        vertical-align: middle;\n",
       "    }\n",
       "\n",
       "    .dataframe tbody tr th {\n",
       "        vertical-align: top;\n",
       "    }\n",
       "\n",
       "    .dataframe thead th {\n",
       "        text-align: right;\n",
       "    }\n",
       "</style>\n",
       "<table border=\"1\" class=\"dataframe\">\n",
       "  <thead>\n",
       "    <tr style=\"text-align: right;\">\n",
       "      <th></th>\n",
       "      <th>event_name</th>\n",
       "      <th>nunique_users</th>\n",
       "      <th>percent_users</th>\n",
       "    </tr>\n",
       "  </thead>\n",
       "  <tbody>\n",
       "    <tr>\n",
       "      <th>0</th>\n",
       "      <td>MainScreenAppear</td>\n",
       "      <td>7419</td>\n",
       "      <td>98.474%</td>\n",
       "    </tr>\n",
       "    <tr>\n",
       "      <th>1</th>\n",
       "      <td>OffersScreenAppear</td>\n",
       "      <td>4593</td>\n",
       "      <td>60.964%</td>\n",
       "    </tr>\n",
       "    <tr>\n",
       "      <th>2</th>\n",
       "      <td>CartScreenAppear</td>\n",
       "      <td>3734</td>\n",
       "      <td>49.562%</td>\n",
       "    </tr>\n",
       "    <tr>\n",
       "      <th>3</th>\n",
       "      <td>PaymentScreenSuccessful</td>\n",
       "      <td>3539</td>\n",
       "      <td>46.974%</td>\n",
       "    </tr>\n",
       "  </tbody>\n",
       "</table>\n",
       "</div>"
      ],
      "text/plain": [
       "                event_name  nunique_users percent_users\n",
       "0         MainScreenAppear           7419       98.474%\n",
       "1       OffersScreenAppear           4593       60.964%\n",
       "2         CartScreenAppear           3734       49.562%\n",
       "3  PaymentScreenSuccessful           3539       46.974%"
      ]
     },
     "execution_count": 73,
     "metadata": {},
     "output_type": "execute_result"
    }
   ],
   "source": [
    "qwerty = qwerty.query('event_name != \"Tutorial\"')\n",
    "qwerty = qwerty.reset_index()\n",
    "qwerty"
   ]
  },
  {
   "cell_type": "code",
   "execution_count": 74,
   "id": "73487bac",
   "metadata": {
    "tags": []
   },
   "outputs": [
    {
     "name": "stderr",
     "output_type": "stream",
     "text": [
      "C:\\Users\\HP\\AppData\\Local\\Temp\\ipykernel_18932\\2645773948.py:4: FutureWarning: Setting an item of incompatible dtype is deprecated and will raise an error in a future version of pandas. Value '0.6190861302062273' has dtype incompatible with int64, please explicitly cast to a compatible dtype first.\n",
      "  qwerty.loc[i, 'conversion_rate'] = qwerty.loc[i, 'nunique_users'] / qwerty.loc[i-1, 'nunique_users']\n"
     ]
    },
    {
     "data": {
      "text/html": [
       "<div>\n",
       "<style scoped>\n",
       "    .dataframe tbody tr th:only-of-type {\n",
       "        vertical-align: middle;\n",
       "    }\n",
       "\n",
       "    .dataframe tbody tr th {\n",
       "        vertical-align: top;\n",
       "    }\n",
       "\n",
       "    .dataframe thead th {\n",
       "        text-align: right;\n",
       "    }\n",
       "</style>\n",
       "<table border=\"1\" class=\"dataframe\">\n",
       "  <thead>\n",
       "    <tr style=\"text-align: right;\">\n",
       "      <th></th>\n",
       "      <th>event_name</th>\n",
       "      <th>nunique_users</th>\n",
       "      <th>percent_users</th>\n",
       "      <th>conversion_rate</th>\n",
       "    </tr>\n",
       "  </thead>\n",
       "  <tbody>\n",
       "    <tr>\n",
       "      <th>0</th>\n",
       "      <td>MainScreenAppear</td>\n",
       "      <td>7419</td>\n",
       "      <td>98.474%</td>\n",
       "      <td>100.00%</td>\n",
       "    </tr>\n",
       "    <tr>\n",
       "      <th>1</th>\n",
       "      <td>OffersScreenAppear</td>\n",
       "      <td>4593</td>\n",
       "      <td>60.964%</td>\n",
       "      <td>61.91%</td>\n",
       "    </tr>\n",
       "    <tr>\n",
       "      <th>2</th>\n",
       "      <td>CartScreenAppear</td>\n",
       "      <td>3734</td>\n",
       "      <td>49.562%</td>\n",
       "      <td>81.30%</td>\n",
       "    </tr>\n",
       "    <tr>\n",
       "      <th>3</th>\n",
       "      <td>PaymentScreenSuccessful</td>\n",
       "      <td>3539</td>\n",
       "      <td>46.974%</td>\n",
       "      <td>94.78%</td>\n",
       "    </tr>\n",
       "  </tbody>\n",
       "</table>\n",
       "</div>"
      ],
      "text/plain": [
       "                event_name  nunique_users percent_users conversion_rate\n",
       "0         MainScreenAppear           7419       98.474%         100.00%\n",
       "1       OffersScreenAppear           4593       60.964%          61.91%\n",
       "2         CartScreenAppear           3734       49.562%          81.30%\n",
       "3  PaymentScreenSuccessful           3539       46.974%          94.78%"
      ]
     },
     "execution_count": 74,
     "metadata": {},
     "output_type": "execute_result"
    }
   ],
   "source": [
    "qwerty['conversion_rate'] = 1\n",
    "\n",
    "for i in range(1, len(qwerty)):\n",
    "    qwerty.loc[i, 'conversion_rate'] = qwerty.loc[i, 'nunique_users'] / qwerty.loc[i-1, 'nunique_users']\n",
    "qwerty['conversion_rate'] = qwerty['conversion_rate'].apply(lambda x: format(x, '.2%'))\n",
    "qwerty"
   ]
  },
  {
   "cell_type": "markdown",
   "id": "6cf072a6-22cd-452d-b9e2-34b283464649",
   "metadata": {},
   "source": [
    "**Доли пользователей, которые проходит на следующий шаг воронки, расчитаны выше**"
   ]
  },
  {
   "cell_type": "markdown",
   "id": "25f495f2-9e9a-4af4-83e2-102c5eb30e92",
   "metadata": {},
   "source": [
    "#### На каком шаге теряете больше всего пользователей?"
   ]
  },
  {
   "cell_type": "code",
   "execution_count": 77,
   "id": "c073d814-ba12-45a2-8a81-3a97e2529780",
   "metadata": {
    "tags": []
   },
   "outputs": [
    {
     "data": {
      "image/png": "[encoded data removed]",
      "text/plain": [
       "<Figure size 1000x600 with 1 Axes>"
      ]
     },
     "metadata": {},
     "output_type": "display_data"
    }
   ],
   "source": [
    "qwerty.plot(kind='bar',\n",
    "           x='event_name',\n",
    "           y='nunique_users',\n",
    "            figsize=(10,6),\n",
    "            xlabel = 'Название события',\n",
    "            ylabel = 'Количество уникальных пользователей',\n",
    "            title = 'Столбчатая диаграмма перехода уникальных пользователей на следующее событие',\n",
    "            legend=False)\n",
    "plt.xticks(rotation=45)\n",
    "plt.show()"
   ]
  },
  {
   "cell_type": "markdown",
   "id": "5500625a-15c1-49c6-9592-8ac928a1515a",
   "metadata": {},
   "source": [
    "**Исходя из расчетов доли уникальных пользователей для перехода от одного события к другому и Столбчатой диаграммы перехода уникальных пользователей на следующее событие, видно, что наибольший отток пользователей (на 38,09% относительно предыдущего события) происходит именно после этапа с появлением главного экрана. Возможно, это связано с тем, что люди, увидев обучение в приложении, закрывают его – причинами того может быть зависание окна обучения, связанная с конкретным типом девайса или тому подобное – с этим нужно разбираться отдельно, но об этом не в данном исследовании**"
   ]
  },
  {
   "cell_type": "markdown",
   "id": "c151aea0-1f44-4cfa-bffe-8edf0e98a411",
   "metadata": {},
   "source": [
    "#### Какая доля пользователей доходит от первого события до оплаты?"
   ]
  },
  {
   "cell_type": "code",
   "execution_count": 80,
   "id": "3452ab54-91d3-44ae-991e-44118c98cf7c",
   "metadata": {
    "tags": []
   },
   "outputs": [
    {
     "data": {
      "text/html": [
       "<div>\n",
       "<style scoped>\n",
       "    .dataframe tbody tr th:only-of-type {\n",
       "        vertical-align: middle;\n",
       "    }\n",
       "\n",
       "    .dataframe tbody tr th {\n",
       "        vertical-align: top;\n",
       "    }\n",
       "\n",
       "    .dataframe thead th {\n",
       "        text-align: right;\n",
       "    }\n",
       "</style>\n",
       "<table border=\"1\" class=\"dataframe\">\n",
       "  <thead>\n",
       "    <tr style=\"text-align: right;\">\n",
       "      <th></th>\n",
       "      <th>event_name</th>\n",
       "      <th>nunique_users</th>\n",
       "      <th>percent_users</th>\n",
       "      <th>conversion_rate</th>\n",
       "    </tr>\n",
       "  </thead>\n",
       "  <tbody>\n",
       "    <tr>\n",
       "      <th>0</th>\n",
       "      <td>MainScreenAppear</td>\n",
       "      <td>7419</td>\n",
       "      <td>98.474%</td>\n",
       "      <td>100.00%</td>\n",
       "    </tr>\n",
       "    <tr>\n",
       "      <th>1</th>\n",
       "      <td>OffersScreenAppear</td>\n",
       "      <td>4593</td>\n",
       "      <td>60.964%</td>\n",
       "      <td>61.91%</td>\n",
       "    </tr>\n",
       "    <tr>\n",
       "      <th>2</th>\n",
       "      <td>CartScreenAppear</td>\n",
       "      <td>3734</td>\n",
       "      <td>49.562%</td>\n",
       "      <td>81.30%</td>\n",
       "    </tr>\n",
       "    <tr>\n",
       "      <th>3</th>\n",
       "      <td>PaymentScreenSuccessful</td>\n",
       "      <td>3539</td>\n",
       "      <td>46.974%</td>\n",
       "      <td>94.78%</td>\n",
       "    </tr>\n",
       "  </tbody>\n",
       "</table>\n",
       "</div>"
      ],
      "text/plain": [
       "                event_name  nunique_users percent_users conversion_rate\n",
       "0         MainScreenAppear           7419       98.474%         100.00%\n",
       "1       OffersScreenAppear           4593       60.964%          61.91%\n",
       "2         CartScreenAppear           3734       49.562%          81.30%\n",
       "3  PaymentScreenSuccessful           3539       46.974%          94.78%"
      ]
     },
     "execution_count": 80,
     "metadata": {},
     "output_type": "execute_result"
    }
   ],
   "source": [
    "qwerty"
   ]
  },
  {
   "cell_type": "code",
   "execution_count": 81,
   "id": "74b639e8-c499-4688-a98e-06be796b2969",
   "metadata": {
    "tags": []
   },
   "outputs": [
    {
     "data": {
      "text/plain": [
       "47.702"
      ]
     },
     "execution_count": 81,
     "metadata": {},
     "output_type": "execute_result"
    }
   ],
   "source": [
    "(qwerty.loc[3, 'nunique_users'] / qwerty.loc[0, 'nunique_users']*100).round(3)"
   ]
  },
  {
   "cell_type": "markdown",
   "id": "abd717df-43f0-4ed9-8cdd-d081806f6154",
   "metadata": {},
   "source": [
    "**От первого события до оплаты доходит 47.702% (менее половины) пользователей**"
   ]
  },
  {
   "cell_type": "markdown",
   "id": "24bd74df-34b9-4b6c-93ec-c11b7f66c025",
   "metadata": {},
   "source": [
    "#### Вывод \"Шаг 4. Изучите воронку событий\"\n",
    "- В логах есть следующие события: `MainScreenAppear` , `OffersScreenAppear`, `CartScreenAppear`, `PaymentScreenSuccessful`, `Tutorial`. Чаще всего встречается событие `MainScreenAppear` – 117328 раз, реже всего – событие `Tutorial` – 1005 раз\n",
    "- Было подсчитано, сколько пользователей совершали каждое событие, отсортированы события по числу пользователей, посчитана доля пользователей, которые хоть раз совершали событие. Лидером является событие MainScreenAppear, количество пользователей 7419, в доля пользователей – 98.474%\n",
    "- Можно смело предположить, что обучение находится во второй позиции цепочки (после появления главного экрана) и является необязательным этапом, который можно пропустить и перейти сразу к просмотру ленты предложений. Именно поэтому цепочка событий выглядит именно так:\n",
    "1) `MainScreenAppear`\n",
    "2) `Tutorial`\n",
    "3) `OffersScreenAppear`\n",
    "4) `CartScreenAppear`\n",
    "5) `PaymentScreenSuccessful`\n",
    "- Доли пользователей, которые проходит на следующий шаг воронки, расчитаны выше\n",
    "- Исходя из расчетов доли уникальных пользователей для перехода от одного события к другому и Столбчатой диаграммы перехода уникальных пользователей на следующее событие, видно, что наибольший отток пользователей (на 38,09% относительно предыдущего события) происходит именно после этапа с появлением главного экрана. Возможно, это связано с тем, что люди, увидев обучение в приложении, закрывают его – причинами того может быть зависание окна обучения, связанная с конкретным типом девайса или тому подобное – с этим нужно разбираться отдельно, но об этом не в данном исследовании\n",
    "- От первого события до оплаты доходит 47.702% (менее половины) пользователей"
   ]
  },
  {
   "cell_type": "markdown",
   "id": "1e64447c-0cab-4764-a3b6-0bcc26e98805",
   "metadata": {},
   "source": [
    "### Шаг 5. Изучите результаты эксперимента"
   ]
  },
  {
   "cell_type": "markdown",
   "id": "69f57552-e3b7-4b86-8914-e94b9dd16177",
   "metadata": {},
   "source": [
    "#### Сколько пользователей в каждой экспериментальной группе?"
   ]
  },
  {
   "cell_type": "code",
   "execution_count": 86,
   "id": "63c9aca2-bbab-49d4-bc7c-12300aaf10b6",
   "metadata": {
    "tags": []
   },
   "outputs": [],
   "source": [
    "data = data.query('event_name != \"Tutorial\"')"
   ]
  },
  {
   "cell_type": "code",
   "execution_count": 87,
   "id": "7dd6599e-ce65-4173-ae5d-d16039e85f89",
   "metadata": {
    "tags": []
   },
   "outputs": [
    {
     "data": {
      "text/plain": [
       "group\n",
       "246    2483\n",
       "247    2512\n",
       "248    2535\n",
       "Name: user_id, dtype: int64"
      ]
     },
     "execution_count": 87,
     "metadata": {},
     "output_type": "execute_result"
    }
   ],
   "source": [
    "count_users = data.groupby('group')['user_id'].nunique()\n",
    "count_users"
   ]
  },
  {
   "cell_type": "markdown",
   "id": "2eb4ef7d-b7f7-446f-9a76-6d1196006c20",
   "metadata": {},
   "source": [
    "**Есть 2 контрольные группы для А/А-эксперимента, чтобы проверить корректность всех механизмов и расчётов. Проверьте, находят ли статистические критерии разницу между выборками 246 и 247**"
   ]
  },
  {
   "cell_type": "markdown",
   "id": "13384719-2d6b-4434-a27e-d4b305da5599",
   "metadata": {},
   "source": [
    "Для успешного A/A теста нужно проанализировать, на сколько процентов отличаются выборки 246 и 247"
   ]
  },
  {
   "cell_type": "code",
   "execution_count": 90,
   "id": "6db0a673-ad52-4796-882e-edb601270002",
   "metadata": {
    "tags": []
   },
   "outputs": [
    {
     "data": {
      "text/plain": [
       "1.168"
      ]
     },
     "execution_count": 90,
     "metadata": {},
     "output_type": "execute_result"
    }
   ],
   "source": [
    "round(((data[data['group'] == 247]['user_id'].nunique() / data[data['group'] == 246]['user_id'].nunique() * 100) - 100), 3)"
   ]
  },
  {
   "cell_type": "markdown",
   "id": "cda12c02-5c33-4c0a-8b5f-710c2735f2fe",
   "metadata": {},
   "source": [
    "**Разница между выборками составляется около 1%, что, с одной стороны, не так много, однако посмотрим, является ли данный показатель статистически важным**"
   ]
  },
  {
   "cell_type": "markdown",
   "id": "3f3e2453-c1c3-4af6-8c46-2b8f8085bfeb",
   "metadata": {},
   "source": [
    "#### Выберите самое популярное событие. Посчитайте число пользователей, совершивших это событие в каждой из контрольных групп. Посчитайте долю пользователей, совершивших это событие. Проверьте, будет ли отличие между группами статистически достоверным. Проделайте то же самое для всех других событий (удобно обернуть проверку в отдельную функцию). Можно ли сказать, что разбиение на группы работает корректно?"
   ]
  },
  {
   "cell_type": "code",
   "execution_count": 93,
   "id": "77e59763-e458-43cc-bfd9-7bc6fb00638f",
   "metadata": {
    "scrolled": true,
    "tags": []
   },
   "outputs": [
    {
     "data": {
      "text/html": [
       "<div>\n",
       "<style scoped>\n",
       "    .dataframe tbody tr th:only-of-type {\n",
       "        vertical-align: middle;\n",
       "    }\n",
       "\n",
       "    .dataframe tbody tr th {\n",
       "        vertical-align: top;\n",
       "    }\n",
       "\n",
       "    .dataframe thead th {\n",
       "        text-align: right;\n",
       "    }\n",
       "</style>\n",
       "<table border=\"1\" class=\"dataframe\">\n",
       "  <thead>\n",
       "    <tr style=\"text-align: right;\">\n",
       "      <th></th>\n",
       "      <th>event_name</th>\n",
       "      <th>A1</th>\n",
       "      <th>A2</th>\n",
       "      <th>B</th>\n",
       "      <th>A1+A2</th>\n",
       "    </tr>\n",
       "  </thead>\n",
       "  <tbody>\n",
       "    <tr>\n",
       "      <th>0</th>\n",
       "      <td>MainScreenAppear</td>\n",
       "      <td>2450</td>\n",
       "      <td>2476</td>\n",
       "      <td>2493</td>\n",
       "      <td>4926</td>\n",
       "    </tr>\n",
       "    <tr>\n",
       "      <th>1</th>\n",
       "      <td>OffersScreenAppear</td>\n",
       "      <td>1542</td>\n",
       "      <td>1520</td>\n",
       "      <td>1531</td>\n",
       "      <td>3062</td>\n",
       "    </tr>\n",
       "    <tr>\n",
       "      <th>2</th>\n",
       "      <td>CartScreenAppear</td>\n",
       "      <td>1266</td>\n",
       "      <td>1238</td>\n",
       "      <td>1230</td>\n",
       "      <td>2504</td>\n",
       "    </tr>\n",
       "    <tr>\n",
       "      <th>3</th>\n",
       "      <td>PaymentScreenSuccessful</td>\n",
       "      <td>1200</td>\n",
       "      <td>1158</td>\n",
       "      <td>1181</td>\n",
       "      <td>2358</td>\n",
       "    </tr>\n",
       "  </tbody>\n",
       "</table>\n",
       "</div>"
      ],
      "text/plain": [
       "                event_name    A1    A2     B  A1+A2\n",
       "0         MainScreenAppear  2450  2476  2493   4926\n",
       "1       OffersScreenAppear  1542  1520  1531   3062\n",
       "2         CartScreenAppear  1266  1238  1230   2504\n",
       "3  PaymentScreenSuccessful  1200  1158  1181   2358"
      ]
     },
     "execution_count": 93,
     "metadata": {},
     "output_type": "execute_result"
    }
   ],
   "source": [
    "data_for_new = data.pivot_table(index='event_name', columns='group', values='user_id', aggfunc='nunique')\n",
    "data_for_new.columns = ['A1', 'A2', 'B']\n",
    "data_for_new = data_for_new.sort_values(by='A1', ascending=False).reset_index()\n",
    "data_for_new['A1+A2'] = data_for_new['A1'] + data_for_new['A2']\n",
    "data_for_new"
   ]
  },
  {
   "cell_type": "markdown",
   "id": "62c87007-adc9-4226-b4b8-a13708a54bd7",
   "metadata": {},
   "source": [
    "Рассчитаем теперь долю пользователей, совершивших каждое событие, чтобы определить самое популярное"
   ]
  },
  {
   "cell_type": "code",
   "execution_count": 95,
   "id": "05f4dab9-9d65-49fa-800a-8c3e6cebd496",
   "metadata": {
    "tags": []
   },
   "outputs": [
    {
     "data": {
      "text/plain": [
       "group\n",
       "246    2483\n",
       "247    2512\n",
       "248    2535\n",
       "Name: user_id, dtype: int64"
      ]
     },
     "execution_count": 95,
     "metadata": {},
     "output_type": "execute_result"
    }
   ],
   "source": [
    "count_users"
   ]
  },
  {
   "cell_type": "code",
   "execution_count": 96,
   "id": "1d761a1a-484c-475e-b568-913c49a96d25",
   "metadata": {
    "tags": []
   },
   "outputs": [
    {
     "data": {
      "text/html": [
       "<div>\n",
       "<style scoped>\n",
       "    .dataframe tbody tr th:only-of-type {\n",
       "        vertical-align: middle;\n",
       "    }\n",
       "\n",
       "    .dataframe tbody tr th {\n",
       "        vertical-align: top;\n",
       "    }\n",
       "\n",
       "    .dataframe thead th {\n",
       "        text-align: right;\n",
       "    }\n",
       "</style>\n",
       "<table border=\"1\" class=\"dataframe\">\n",
       "  <thead>\n",
       "    <tr style=\"text-align: right;\">\n",
       "      <th></th>\n",
       "      <th>event_name</th>\n",
       "      <th>A1</th>\n",
       "      <th>A2</th>\n",
       "      <th>B</th>\n",
       "      <th>A1+A2</th>\n",
       "      <th>perc_A1</th>\n",
       "      <th>perc_A2</th>\n",
       "      <th>perc_A1+A2</th>\n",
       "      <th>perc_B</th>\n",
       "    </tr>\n",
       "  </thead>\n",
       "  <tbody>\n",
       "    <tr>\n",
       "      <th>0</th>\n",
       "      <td>MainScreenAppear</td>\n",
       "      <td>2450</td>\n",
       "      <td>2476</td>\n",
       "      <td>2493</td>\n",
       "      <td>4926</td>\n",
       "      <td>98.67</td>\n",
       "      <td>98.57</td>\n",
       "      <td>98.62</td>\n",
       "      <td>98.34</td>\n",
       "    </tr>\n",
       "    <tr>\n",
       "      <th>1</th>\n",
       "      <td>OffersScreenAppear</td>\n",
       "      <td>1542</td>\n",
       "      <td>1520</td>\n",
       "      <td>1531</td>\n",
       "      <td>3062</td>\n",
       "      <td>62.10</td>\n",
       "      <td>60.51</td>\n",
       "      <td>61.30</td>\n",
       "      <td>60.39</td>\n",
       "    </tr>\n",
       "    <tr>\n",
       "      <th>2</th>\n",
       "      <td>CartScreenAppear</td>\n",
       "      <td>1266</td>\n",
       "      <td>1238</td>\n",
       "      <td>1230</td>\n",
       "      <td>2504</td>\n",
       "      <td>50.99</td>\n",
       "      <td>49.28</td>\n",
       "      <td>50.13</td>\n",
       "      <td>48.52</td>\n",
       "    </tr>\n",
       "    <tr>\n",
       "      <th>3</th>\n",
       "      <td>PaymentScreenSuccessful</td>\n",
       "      <td>1200</td>\n",
       "      <td>1158</td>\n",
       "      <td>1181</td>\n",
       "      <td>2358</td>\n",
       "      <td>48.33</td>\n",
       "      <td>46.10</td>\n",
       "      <td>47.21</td>\n",
       "      <td>46.59</td>\n",
       "    </tr>\n",
       "  </tbody>\n",
       "</table>\n",
       "</div>"
      ],
      "text/plain": [
       "                event_name    A1    A2     B  A1+A2  perc_A1  perc_A2  \\\n",
       "0         MainScreenAppear  2450  2476  2493   4926    98.67    98.57   \n",
       "1       OffersScreenAppear  1542  1520  1531   3062    62.10    60.51   \n",
       "2         CartScreenAppear  1266  1238  1230   2504    50.99    49.28   \n",
       "3  PaymentScreenSuccessful  1200  1158  1181   2358    48.33    46.10   \n",
       "\n",
       "   perc_A1+A2  perc_B  \n",
       "0       98.62   98.34  \n",
       "1       61.30   60.39  \n",
       "2       50.13   48.52  \n",
       "3       47.21   46.59  "
      ]
     },
     "execution_count": 96,
     "metadata": {},
     "output_type": "execute_result"
    }
   ],
   "source": [
    "data_for_new['perc_A1'] = round(data_for_new['A1'] / count_users[246] * 100, 2) \n",
    "data_for_new['perc_A2'] = round(data_for_new['A2'] / count_users[247] * 100, 2) \n",
    "data_for_new['perc_A1+A2'] = round((data_for_new['A1'] + data_for_new['A2'] )  / (count_users[246] + count_users[247])  * 100, 2)\n",
    "data_for_new['perc_B'] = round(data_for_new['B'] / count_users[248] * 100, 2)  \n",
    "data_for_new"
   ]
  },
  {
   "cell_type": "markdown",
   "id": "e4e24abf-4ea4-4d6b-8375-12d4159ad886",
   "metadata": {},
   "source": [
    "Получилось, что на главный экран перешли изначально не все пользователи (не 100%) – возможно, это связано с тем, что мы удалили \"лишние\" данные до 1 августа, но так дальнейшие показатели будут выглядеть гораздо правильнее"
   ]
  },
  {
   "cell_type": "markdown",
   "id": "629d9105-5394-4d6a-904d-d9c2069d446d",
   "metadata": {},
   "source": [
    "Сформулируем гипотезы <br>\n",
    "**Н0** - доли уникальных пользователей, совершивших событие, одинаковы <br>\n",
    "**Н1** - между долями уникальных пользователей, совершивших событие, есть значимая разница"
   ]
  },
  {
   "cell_type": "markdown",
   "id": "7b353c60-233b-45bd-b666-80e379155370",
   "metadata": {},
   "source": [
    "*Важно заметить: нам необходимо, чтобы группы A1, A2 были одинаковыми и чтобы ошибка была минимальной для групп A1, A2, поэтому нужно задать минимальный уровень значимости в 1%. В случае с проведением A/B тестов настолько высокая точность не нужна, поэтому будет достаточно 5% точности для каждого теста*"
   ]
  },
  {
   "cell_type": "markdown",
   "id": "d52b229a-5c67-4efb-b684-c7d9178426b9",
   "metadata": {},
   "source": [
    "*Для проверки гипотезы будем использовать Z-тест для пропорций, который применяется для проверки гипотезы о равенстве пропорций успехов между двумя независимыми группами <br>\n",
    "Если `p_value` меньше уровня значимости `alpha_level` (например, 0.05), то нулевая гипотеза отвергается, и делается вывод о значимом различии между пропорциями успехов в группах <br>\n",
    "Если `p_value` больше уровня значимости, то нет оснований отвергать нулевую гипотезу*"
   ]
  },
  {
   "cell_type": "markdown",
   "id": "f43ee565-9e00-40ba-a0c8-e17302765434",
   "metadata": {},
   "source": [
    "Запишем функцию для дальнейшего удобства"
   ]
  },
  {
   "cell_type": "code",
   "execution_count": 102,
   "id": "1da1f7d4-6ca5-4e54-8e50-535d2bb71fce",
   "metadata": {
    "tags": []
   },
   "outputs": [
    {
     "data": {
      "text/html": [
       "<div>\n",
       "<style scoped>\n",
       "    .dataframe tbody tr th:only-of-type {\n",
       "        vertical-align: middle;\n",
       "    }\n",
       "\n",
       "    .dataframe tbody tr th {\n",
       "        vertical-align: top;\n",
       "    }\n",
       "\n",
       "    .dataframe thead th {\n",
       "        text-align: right;\n",
       "    }\n",
       "</style>\n",
       "<table border=\"1\" class=\"dataframe\">\n",
       "  <thead>\n",
       "    <tr style=\"text-align: right;\">\n",
       "      <th></th>\n",
       "      <th>user_id</th>\n",
       "    </tr>\n",
       "    <tr>\n",
       "      <th>group</th>\n",
       "      <th></th>\n",
       "    </tr>\n",
       "  </thead>\n",
       "  <tbody>\n",
       "    <tr>\n",
       "      <th>246</th>\n",
       "      <td>2483</td>\n",
       "    </tr>\n",
       "    <tr>\n",
       "      <th>247</th>\n",
       "      <td>2512</td>\n",
       "    </tr>\n",
       "    <tr>\n",
       "      <th>248</th>\n",
       "      <td>2535</td>\n",
       "    </tr>\n",
       "  </tbody>\n",
       "</table>\n",
       "</div>"
      ],
      "text/plain": [
       "       user_id\n",
       "group         \n",
       "246       2483\n",
       "247       2512\n",
       "248       2535"
      ]
     },
     "execution_count": 102,
     "metadata": {},
     "output_type": "execute_result"
    }
   ],
   "source": [
    "count_users = pd.DataFrame(count_users)\n",
    "count_users"
   ]
  },
  {
   "cell_type": "code",
   "execution_count": 103,
   "id": "61206e5f-8abf-4aa8-95c3-e35b893e0993",
   "metadata": {
    "tags": []
   },
   "outputs": [
    {
     "data": {
      "text/html": [
       "<div>\n",
       "<style scoped>\n",
       "    .dataframe tbody tr th:only-of-type {\n",
       "        vertical-align: middle;\n",
       "    }\n",
       "\n",
       "    .dataframe tbody tr th {\n",
       "        vertical-align: top;\n",
       "    }\n",
       "\n",
       "    .dataframe thead th {\n",
       "        text-align: right;\n",
       "    }\n",
       "</style>\n",
       "<table border=\"1\" class=\"dataframe\">\n",
       "  <thead>\n",
       "    <tr style=\"text-align: right;\">\n",
       "      <th></th>\n",
       "      <th>count_users</th>\n",
       "    </tr>\n",
       "  </thead>\n",
       "  <tbody>\n",
       "    <tr>\n",
       "      <th>A1</th>\n",
       "      <td>2483</td>\n",
       "    </tr>\n",
       "    <tr>\n",
       "      <th>A2</th>\n",
       "      <td>2512</td>\n",
       "    </tr>\n",
       "    <tr>\n",
       "      <th>B</th>\n",
       "      <td>2535</td>\n",
       "    </tr>\n",
       "    <tr>\n",
       "      <th>A1+A2</th>\n",
       "      <td>4995</td>\n",
       "    </tr>\n",
       "  </tbody>\n",
       "</table>\n",
       "</div>"
      ],
      "text/plain": [
       "       count_users\n",
       "A1            2483\n",
       "A2            2512\n",
       "B             2535\n",
       "A1+A2         4995"
      ]
     },
     "execution_count": 103,
     "metadata": {},
     "output_type": "execute_result"
    }
   ],
   "source": [
    "count_users.index = ['A1', 'A2', 'B']\n",
    "count_users.columns = ['count_users']\n",
    "count_users.loc['A1+A2'] = count_users.loc['A1'] + count_users.loc['A2']\n",
    "count_users"
   ]
  },
  {
   "cell_type": "code",
   "execution_count": 104,
   "id": "3bb886e6-6023-4984-9591-f2fe2052528c",
   "metadata": {
    "tags": []
   },
   "outputs": [],
   "source": [
    "def proportion_z_test(group_a, group_b, alpha_level):\n",
    "    for index in data_for_new.index:\n",
    "        # пропорция успехов в первой группе\n",
    "        proportion_a = data_for_new[group_a][index] / count_users.loc[group_a, 'count_users']\n",
    "        # пропорция успехов во второй группе\n",
    "        proportion_b = data_for_new[group_b][index] / count_users.loc[group_b, 'count_users']\n",
    "        # общая пропорция успехов\n",
    "        combined_proportion = (data_for_new[group_a][index] + data_for_new[group_b][index]) / (count_users.loc[group_a, 'count_users'] + count_users.loc[group_b, 'count_users'])\n",
    "        # стандартная ошибка\n",
    "        se = np.sqrt(combined_proportion * (1 - combined_proportion) * (1/count_users.loc[group_a, 'count_users'] + 1/count_users.loc[group_b, 'count_users']))\n",
    "        # Z-статистика\n",
    "        z_stat = (proportion_a - proportion_b) / se\n",
    "        # p-value\n",
    "        p_value = 2 * (1 - stats.norm.cdf(abs(z_stat)))\n",
    "        print(f'Z-статистика: {z_stat:.4f}, p-value: {p_value:.4f}')\n",
    "        if p_value < alpha_level:\n",
    "            print('Отклоняем нулевую гипотезу')\n",
    "        else:\n",
    "            print('Не отклоняем нулевую гипотезу')"
   ]
  },
  {
   "cell_type": "code",
   "execution_count": 105,
   "id": "60d1d030-adf0-4d23-8483-aa08ad82ef36",
   "metadata": {
    "tags": []
   },
   "outputs": [
    {
     "name": "stdout",
     "output_type": "stream",
     "text": [
      "Z-статистика: 0.3151, p-value: 0.7527\n",
      "Не отклоняем нулевую гипотезу\n",
      "Z-статистика: 1.1556, p-value: 0.2479\n",
      "Не отклоняем нулевую гипотезу\n",
      "Z-статистика: 1.2038, p-value: 0.2287\n",
      "Не отклоняем нулевую гипотезу\n",
      "Z-статистика: 1.5784, p-value: 0.1145\n",
      "Не отклоняем нулевую гипотезу\n"
     ]
    }
   ],
   "source": [
    "# рассмотрим группы A1 и A2\n",
    "proportion_z_test('A1', 'A2', 0.01)"
   ]
  },
  {
   "cell_type": "markdown",
   "id": "5210869f-e549-440a-911f-736ae6d2996f",
   "metadata": {},
   "source": [
    "**Нет статистически значимой разницы для всех событий воронки продаж в группах – доли уникальных пользователей, совершивших событие, одинаковы**"
   ]
  },
  {
   "cell_type": "markdown",
   "id": "124ca46e-8bc4-4b02-bc23-d48eaa35981b",
   "metadata": {},
   "source": [
    "#### Аналогично поступите с группой с изменённым шрифтом. Сравните результаты с каждой из контрольных групп в отдельности по каждому событию. Сравните результаты с объединённой контрольной группой. Какие выводы из эксперимента можно сделать?"
   ]
  },
  {
   "cell_type": "code",
   "execution_count": 108,
   "id": "a70d788a-b99b-41eb-a1f6-c0ef66710c51",
   "metadata": {
    "tags": []
   },
   "outputs": [
    {
     "name": "stdout",
     "output_type": "stream",
     "text": [
      "Z-статистика: 0.9567, p-value: 0.3387\n",
      "Не отклоняем нулевую гипотезу\n",
      "Z-статистика: 1.2415, p-value: 0.2144\n",
      "Не отклоняем нулевую гипотезу\n",
      "Z-статистика: 1.7468, p-value: 0.0807\n",
      "Не отклоняем нулевую гипотезу\n",
      "Z-статистика: 1.2347, p-value: 0.2169\n",
      "Не отклоняем нулевую гипотезу\n"
     ]
    }
   ],
   "source": [
    "# рассмотрим группы A1 и B\n",
    "proportion_z_test('A1', 'B', 0.05)"
   ]
  },
  {
   "cell_type": "markdown",
   "id": "a196fe1e-e901-42e2-905f-fdddb8af803d",
   "metadata": {},
   "source": [
    "Нет статистически значимой разницы для всех событий воронки продаж в группах – доли уникальных пользователей, совершивших событие, одинаковы"
   ]
  },
  {
   "cell_type": "code",
   "execution_count": 110,
   "id": "ab6c3311-439b-4e05-ae49-030affa3cc7c",
   "metadata": {
    "tags": []
   },
   "outputs": [
    {
     "name": "stdout",
     "output_type": "stream",
     "text": [
      "Z-статистика: 0.6441, p-value: 0.5195\n",
      "Не отклоняем нулевую гипотезу\n",
      "Z-статистика: 0.0836, p-value: 0.9334\n",
      "Не отклоняем нулевую гипотезу\n",
      "Z-статистика: 0.5420, p-value: 0.5878\n",
      "Не отклоняем нулевую гипотезу\n",
      "Z-статистика: -0.3484, p-value: 0.7276\n",
      "Не отклоняем нулевую гипотезу\n"
     ]
    }
   ],
   "source": [
    "# рассмотрим группы A2 и B\n",
    "proportion_z_test('A2', 'B', 0.05)"
   ]
  },
  {
   "cell_type": "markdown",
   "id": "dfb78e59-576a-4dea-8eec-d49b046cafd3",
   "metadata": {},
   "source": [
    "Нет статистически значимой разницы для всех событий воронки продаж в группах – доли уникальных пользователей, совершивших событие, одинаковы"
   ]
  },
  {
   "cell_type": "code",
   "execution_count": 112,
   "id": "34a88097-b671-4944-acb4-602525f194cb",
   "metadata": {
    "tags": []
   },
   "outputs": [
    {
     "name": "stdout",
     "output_type": "stream",
     "text": [
      "Z-статистика: 0.9372, p-value: 0.3487\n",
      "Не отклоняем нулевую гипотезу\n",
      "Z-статистика: 0.7624, p-value: 0.4458\n",
      "Не отклоняем нулевую гипотезу\n",
      "Z-статистика: 1.3200, p-value: 0.1868\n",
      "Не отклоняем нулевую гипотезу\n",
      "Z-статистика: 0.5089, p-value: 0.6108\n",
      "Не отклоняем нулевую гипотезу\n"
     ]
    }
   ],
   "source": [
    "# рассмотрим группы A1+A2 и B\n",
    "proportion_z_test('A1+A2', 'B', 0.05)"
   ]
  },
  {
   "cell_type": "markdown",
   "id": "477b445f-94d7-4935-adc0-dbe8e119a8d5",
   "metadata": {},
   "source": [
    "Нет статистически значимой разницы для всех событий воронки продаж в группах – доли уникальных пользователей, совершивших событие, одинаковы"
   ]
  },
  {
   "cell_type": "markdown",
   "id": "d3193871-7be0-498e-a822-378bba4df438",
   "metadata": {},
   "source": [
    "**Рассмотрев все 16 случаев с 4 группами (одна из которых объединенная), по всем тестам видно, что нет статистически значимой разницы для всех событий воронки продаж в группах – доли уникальных пользователей, совершивших событие, одинаковы. Это означает, что изменение шрифта не оказало статистически важной разницы между группами A и B, следовательно, тест можно считать успешным – изменение шрифта не повлияло на поведение пользователей**"
   ]
  },
  {
   "cell_type": "markdown",
   "id": "57136009-bd0d-4a59-80b0-6e455303edc5",
   "metadata": {},
   "source": [
    "#### Вывод \"Шаг 5. Изучите результаты эксперимента\"\n",
    "- Есть 2 контрольные группы для А/А-эксперимента, чтобы проверить корректность всех механизмов и расчётов. Проверьте, находят ли статистические критерии разницу между выборками 246 и 247\n",
    "- Разница между выборками составляется около 1%, что, с одной стороны, не так много, однако посмотрим, является ли данный показатель статистически важным\n",
    "- Нет статистически значимой разницы для всех событий воронки продаж в группах – доли уникальных пользователей, совершивших событие, одинаковы\n",
    "- Рассмотрев все 16 случаев с 4 группами (одна из которых объединенная), по всем тестам видно, что нет статистически значимой разницы для всех событий воронки продаж в группах – доли уникальных пользователей, совершивших событие, одинаковы. Это означает, что изменение шрифта не оказало статистически важной разницы между группами A и B, следовательно, тест можно считать успешным – изменение шрифта не повлияло на поведение пользователей"
   ]
  },
  {
   "cell_type": "markdown",
   "id": "71f002d7-a833-4881-bce9-635362ba64fb",
   "metadata": {},
   "source": [
    "## Вывод по Сборному проекту №2\n",
    "#### Вывод \"Шаг 1. Откройте файл с данными и изучите общую информацию\"\n",
    "Датафрейм представлен 4 столбцами, 244126 записей, пропусков нет. Необходимо для начала выполнить Предобработку данных\n",
    "\n",
    "#### Вывод \"Шаг 2. Подготовьте данные\"\n",
    "В ходе Предобработки и подготовки данных были осуществлены следующие действия:\n",
    "- изменены названия столбцов, записаны в правильном варианте\n",
    "- изменен тип данных столбца с датой и временем на правильный, добавлен отдельный столбец только с датой\n",
    "- проверены явные и неявные дубликаты. Явные удалены (их было 413), неявные отсутствуют\n",
    "- проверены уникальные пользователи, которые совпадают в тесте групп A (246) и B (248), AA (247) и B (248) – повторяющихся нет, это отличный знак, тк данные искажаться не будут\n",
    "\n",
    "#### Вывод \"Шаг 3. Изучите и проверьте данные\"\n",
    "- В логе всего 243713 событий. Количество людей, дошедших до определенного события указано выше\n",
    "- Всего в логе представлено 7551 уникальных пользователей\n",
    "- В среднем на одного пользователя приходится 32 события\n",
    "- Максимальная дата: 2019-08-07, минимальная дата: 2019-07-25. Разница между датами: 13 полных дней\n",
    "- Анализируя полученную столбчатую диаграмму \"Количество событий в зависимости от времени в разрезе групп\", видно, что данные не одинаково полные за весь период. Из-за того, что данные неполные, результаты могу получиться \"скошенными\", поэтому необходимо учесть данные только с того момента, когда они стали полными и достаточными для анализа. А нашем случае – это с 01.08.2019 г.\n",
    "- Мы потеряли 2826 событий и 17 пользователей после отброса старых данных. Это составляет 1.16% событий и 0.225% пользователей относительно изначальных данных\n",
    "- После удаления части данных пользователи и события во всех трёх экспериментальных групп присутствуют\n",
    "\n",
    "#### Вывод \"Шаг 4. Изучите воронку событий\"\n",
    "- В логах есть следующие события: `MainScreenAppear` , `OffersScreenAppear`, `CartScreenAppear`, `PaymentScreenSuccessful`, `Tutorial`. Чаще всего встречается событие `MainScreenAppear` – 117328 раз, реже всего – событие `Tutorial` – 1005 раз\n",
    "- Было подсчитано, сколько пользователей совершали каждое событие, отсортированы события по числу пользователей, посчитана доля пользователей, которые хоть раз совершали событие. Лидером является событие MainScreenAppear, количество пользователей 7419, в доля пользователей – 98.474%\n",
    "- Можно смело предположить, что обучение находится во второй позиции цепочки (после появления главного экрана) и является необязательным этапом, который можно пропустить и перейти сразу к просмотру ленты предложений. Именно поэтому цепочка событий выглядит именно так:\n",
    "1) `MainScreenAppear`\n",
    "2) `Tutorial`\n",
    "3) `OffersScreenAppear`\n",
    "4) `CartScreenAppear`\n",
    "5) `PaymentScreenSuccessful`\n",
    "- Доли пользователей, которые проходит на следующий шаг воронки, расчитаны выше\n",
    "- Исходя из расчетов доли уникальных пользователей для перехода от одного события к другому и Столбчатой диаграммы перехода уникальных пользователей на следующее событие, видно, что наибольший отток пользователей (на 38,09% относительно предыдущего события) происходит именно после этапа с появлением главного экрана. Возможно, это связано с тем, что люди, увидев обучение в приложении, закрывают его – причинами того может быть зависание окна обучения, связанная с конкретным типом девайса или тому подобное – с этим нужно разбираться отдельно, но об этом не в данном исследовании\n",
    "- От первого события до оплаты доходит 47.702% (менее половины) пользователей\n",
    "\n",
    "#### Вывод \"Шаг 5. Изучите результаты эксперимента\"\n",
    "- Есть 2 контрольные группы для А/А-эксперимента, чтобы проверить корректность всех механизмов и расчётов. Проверьте, находят ли статистические критерии разницу между выборками 246 и 247\n",
    "- Разница между выборками составляется около 1%, что, с одной стороны, не так много, однако посмотрим, является ли данный показатель статистически важным\n",
    "- Нет статистически значимой разницы для всех событий воронки продаж в группах – доли уникальных пользователей, совершивших событие, одинаковы\n",
    "- Рассмотрев все 16 случаев с 4 группами (одна из которых объединенная), по всем тестам видно, что нет статистически значимой разницы для всех событий воронки продаж в группах – доли уникальных пользователей, совершивших событие, одинаковы. Это означает, что изменение шрифта не оказало статистически важной разницы между группами A и B, следовательно, тест можно считать успешным – изменение шрифта не повлияло на поведение пользователей"
   ]
  }
 ],
 "metadata": {
  "ExecuteTimeLog": [
   {
    "duration": 52,
    "start_time": "2024-09-27T08:41:01.978Z"
   },
   {
    "duration": 1364,
    "start_time": "2024-09-27T08:41:18.853Z"
   },
   {
    "duration": 734,
    "start_time": "2024-09-27T08:41:20.219Z"
   },
   {
    "duration": 12,
    "start_time": "2024-09-27T08:41:20.955Z"
   },
   {
    "duration": 13,
    "start_time": "2024-09-27T08:41:20.968Z"
   },
   {
    "duration": 30,
    "start_time": "2024-09-27T08:41:20.983Z"
   },
   {
    "duration": 7,
    "start_time": "2024-09-27T08:41:21.015Z"
   },
   {
    "duration": 7,
    "start_time": "2024-09-27T08:41:21.024Z"
   },
   {
    "duration": 10,
    "start_time": "2024-09-27T08:41:21.033Z"
   },
   {
    "duration": 17,
    "start_time": "2024-09-27T08:41:21.044Z"
   },
   {
    "duration": 43,
    "start_time": "2024-09-27T08:41:21.063Z"
   },
   {
    "duration": 18,
    "start_time": "2024-09-27T08:41:21.108Z"
   },
   {
    "duration": 93,
    "start_time": "2024-09-27T08:41:21.128Z"
   },
   {
    "duration": 66,
    "start_time": "2024-09-27T08:41:21.223Z"
   },
   {
    "duration": 73,
    "start_time": "2024-09-27T08:41:21.304Z"
   },
   {
    "duration": 106,
    "start_time": "2024-09-27T08:41:21.379Z"
   },
   {
    "duration": 28,
    "start_time": "2024-09-27T08:41:21.487Z"
   },
   {
    "duration": 6,
    "start_time": "2024-09-27T08:41:21.516Z"
   },
   {
    "duration": 7,
    "start_time": "2024-09-27T08:41:21.523Z"
   },
   {
    "duration": 22,
    "start_time": "2024-09-27T08:41:21.531Z"
   },
   {
    "duration": 15,
    "start_time": "2024-09-27T08:41:21.554Z"
   },
   {
    "duration": 55,
    "start_time": "2024-09-27T08:41:21.571Z"
   },
   {
    "duration": 74,
    "start_time": "2024-09-27T08:41:21.628Z"
   },
   {
    "duration": 27,
    "start_time": "2024-09-27T08:41:21.703Z"
   },
   {
    "duration": 12,
    "start_time": "2024-09-27T08:41:21.731Z"
   },
   {
    "duration": 22,
    "start_time": "2024-09-27T08:41:21.745Z"
   },
   {
    "duration": 7,
    "start_time": "2024-09-27T08:41:21.768Z"
   },
   {
    "duration": 34,
    "start_time": "2024-09-27T08:41:21.776Z"
   },
   {
    "duration": 73,
    "start_time": "2024-09-27T08:41:21.812Z"
   },
   {
    "duration": 330,
    "start_time": "2024-09-27T08:41:21.887Z"
   },
   {
    "duration": 22,
    "start_time": "2024-09-27T08:41:22.218Z"
   },
   {
    "duration": 13,
    "start_time": "2024-09-27T08:41:22.242Z"
   },
   {
    "duration": 17,
    "start_time": "2024-09-27T08:41:22.257Z"
   },
   {
    "duration": 62,
    "start_time": "2024-09-27T08:41:22.275Z"
   },
   {
    "duration": 19,
    "start_time": "2024-09-27T08:41:22.339Z"
   },
   {
    "duration": 47,
    "start_time": "2024-09-27T08:41:22.359Z"
   },
   {
    "duration": 90,
    "start_time": "2024-09-27T08:41:22.407Z"
   },
   {
    "duration": 9,
    "start_time": "2024-09-27T08:41:22.499Z"
   },
   {
    "duration": 24,
    "start_time": "2024-09-27T08:41:22.509Z"
   },
   {
    "duration": 180,
    "start_time": "2024-09-27T08:41:22.534Z"
   },
   {
    "duration": 7,
    "start_time": "2024-09-27T08:41:22.716Z"
   },
   {
    "duration": 4,
    "start_time": "2024-09-27T08:41:22.727Z"
   },
   {
    "duration": 21,
    "start_time": "2024-09-27T08:41:22.732Z"
   },
   {
    "duration": 31,
    "start_time": "2024-09-27T08:41:22.755Z"
   },
   {
    "duration": 16,
    "start_time": "2024-09-27T08:41:22.804Z"
   },
   {
    "duration": 103,
    "start_time": "2024-09-27T08:41:22.822Z"
   },
   {
    "duration": 5,
    "start_time": "2024-09-27T08:41:22.926Z"
   },
   {
    "duration": 26,
    "start_time": "2024-09-27T08:41:22.933Z"
   },
   {
    "duration": 13,
    "start_time": "2024-09-27T08:41:22.961Z"
   },
   {
    "duration": 29,
    "start_time": "2024-09-27T08:41:22.976Z"
   },
   {
    "duration": 14,
    "start_time": "2024-09-27T08:41:23.007Z"
   },
   {
    "duration": 7,
    "start_time": "2024-09-27T08:41:23.022Z"
   },
   {
    "duration": 5,
    "start_time": "2024-09-27T08:41:23.031Z"
   },
   {
    "duration": 6,
    "start_time": "2024-09-27T08:41:23.037Z"
   },
   {
    "duration": 1238,
    "start_time": "2024-09-27T08:49:38.039Z"
   },
   {
    "duration": 220,
    "start_time": "2024-09-27T08:49:39.279Z"
   },
   {
    "duration": 13,
    "start_time": "2024-09-27T08:49:39.501Z"
   },
   {
    "duration": 3,
    "start_time": "2024-09-27T08:49:39.517Z"
   },
   {
    "duration": 36,
    "start_time": "2024-09-27T08:49:39.522Z"
   },
   {
    "duration": 8,
    "start_time": "2024-09-27T08:49:39.560Z"
   },
   {
    "duration": 42,
    "start_time": "2024-09-27T08:49:39.569Z"
   },
   {
    "duration": 42,
    "start_time": "2024-09-27T08:49:39.613Z"
   },
   {
    "duration": 43,
    "start_time": "2024-09-27T08:49:39.656Z"
   },
   {
    "duration": 59,
    "start_time": "2024-09-27T08:49:39.702Z"
   },
   {
    "duration": 18,
    "start_time": "2024-09-27T08:49:39.762Z"
   },
   {
    "duration": 96,
    "start_time": "2024-09-27T08:49:39.782Z"
   },
   {
    "duration": 63,
    "start_time": "2024-09-27T08:49:39.880Z"
   },
   {
    "duration": 96,
    "start_time": "2024-09-27T08:49:39.945Z"
   },
   {
    "duration": 112,
    "start_time": "2024-09-27T08:49:40.042Z"
   },
   {
    "duration": 20,
    "start_time": "2024-09-27T08:49:40.156Z"
   },
   {
    "duration": 5,
    "start_time": "2024-09-27T08:49:40.178Z"
   },
   {
    "duration": 24,
    "start_time": "2024-09-27T08:49:40.184Z"
   },
   {
    "duration": 21,
    "start_time": "2024-09-27T08:49:40.209Z"
   },
   {
    "duration": 16,
    "start_time": "2024-09-27T08:49:40.232Z"
   },
   {
    "duration": 16,
    "start_time": "2024-09-27T08:49:40.250Z"
   },
   {
    "duration": 43,
    "start_time": "2024-09-27T08:49:40.268Z"
   },
   {
    "duration": 27,
    "start_time": "2024-09-27T08:49:40.313Z"
   },
   {
    "duration": 12,
    "start_time": "2024-09-27T08:49:40.342Z"
   },
   {
    "duration": 19,
    "start_time": "2024-09-27T08:49:40.355Z"
   },
   {
    "duration": 32,
    "start_time": "2024-09-27T08:49:40.376Z"
   },
   {
    "duration": 45,
    "start_time": "2024-09-27T08:49:40.410Z"
   },
   {
    "duration": 66,
    "start_time": "2024-09-27T08:49:40.458Z"
   },
   {
    "duration": 330,
    "start_time": "2024-09-27T08:49:40.525Z"
   },
   {
    "duration": 23,
    "start_time": "2024-09-27T08:49:40.856Z"
   },
   {
    "duration": 43,
    "start_time": "2024-09-27T08:49:40.881Z"
   },
   {
    "duration": 29,
    "start_time": "2024-09-27T08:49:40.927Z"
   },
   {
    "duration": 54,
    "start_time": "2024-09-27T08:49:40.958Z"
   },
   {
    "duration": 22,
    "start_time": "2024-09-27T08:49:41.014Z"
   },
   {
    "duration": 31,
    "start_time": "2024-09-27T08:49:41.037Z"
   },
   {
    "duration": 111,
    "start_time": "2024-09-27T08:49:41.070Z"
   },
   {
    "duration": 10,
    "start_time": "2024-09-27T08:49:41.183Z"
   },
   {
    "duration": 12,
    "start_time": "2024-09-27T08:49:41.205Z"
   },
   {
    "duration": 191,
    "start_time": "2024-09-27T08:49:41.219Z"
   },
   {
    "duration": 8,
    "start_time": "2024-09-27T08:49:41.411Z"
   },
   {
    "duration": 6,
    "start_time": "2024-09-27T08:49:41.421Z"
   },
   {
    "duration": 23,
    "start_time": "2024-09-27T08:49:41.429Z"
   },
   {
    "duration": 55,
    "start_time": "2024-09-27T08:49:41.454Z"
   },
   {
    "duration": 17,
    "start_time": "2024-09-27T08:49:41.511Z"
   },
   {
    "duration": 101,
    "start_time": "2024-09-27T08:49:41.530Z"
   },
   {
    "duration": 5,
    "start_time": "2024-09-27T08:49:41.633Z"
   },
   {
    "duration": 106,
    "start_time": "2024-09-27T08:49:41.639Z"
   },
   {
    "duration": 12,
    "start_time": "2024-09-27T08:49:41.747Z"
   },
   {
    "duration": 11,
    "start_time": "2024-09-27T08:49:41.761Z"
   },
   {
    "duration": 9,
    "start_time": "2024-09-27T08:49:41.774Z"
   },
   {
    "duration": 5,
    "start_time": "2024-09-27T08:49:41.785Z"
   },
   {
    "duration": 22,
    "start_time": "2024-09-27T08:49:41.792Z"
   },
   {
    "duration": 6,
    "start_time": "2024-09-27T08:49:41.816Z"
   },
   {
    "duration": 1420,
    "start_time": "2024-09-28T17:17:32.746Z"
   },
   {
    "duration": 249,
    "start_time": "2024-09-28T17:17:34.168Z"
   },
   {
    "duration": 15,
    "start_time": "2024-09-28T17:17:34.419Z"
   },
   {
    "duration": 5,
    "start_time": "2024-09-28T17:17:34.436Z"
   },
   {
    "duration": 30,
    "start_time": "2024-09-28T17:17:34.444Z"
   },
   {
    "duration": 8,
    "start_time": "2024-09-28T17:17:34.476Z"
   },
   {
    "duration": 21,
    "start_time": "2024-09-28T17:17:34.506Z"
   },
   {
    "duration": 20,
    "start_time": "2024-09-28T17:17:34.529Z"
   },
   {
    "duration": 38,
    "start_time": "2024-09-28T17:17:34.551Z"
   },
   {
    "duration": 44,
    "start_time": "2024-09-28T17:17:34.591Z"
   },
   {
    "duration": 26,
    "start_time": "2024-09-28T17:17:34.636Z"
   },
   {
    "duration": 86,
    "start_time": "2024-09-28T17:17:34.664Z"
   },
   {
    "duration": 84,
    "start_time": "2024-09-28T17:17:34.756Z"
   },
   {
    "duration": 140,
    "start_time": "2024-09-28T17:17:34.844Z"
   },
   {
    "duration": 143,
    "start_time": "2024-09-28T17:17:34.986Z"
   },
   {
    "duration": 25,
    "start_time": "2024-09-28T17:17:35.131Z"
   },
   {
    "duration": 18,
    "start_time": "2024-09-28T17:17:35.158Z"
   },
   {
    "duration": 32,
    "start_time": "2024-09-28T17:17:35.178Z"
   },
   {
    "duration": 26,
    "start_time": "2024-09-28T17:17:35.213Z"
   },
   {
    "duration": 51,
    "start_time": "2024-09-28T17:17:35.241Z"
   },
   {
    "duration": 26,
    "start_time": "2024-09-28T17:17:35.294Z"
   },
   {
    "duration": 29,
    "start_time": "2024-09-28T17:17:35.323Z"
   },
   {
    "duration": 68,
    "start_time": "2024-09-28T17:17:35.354Z"
   },
   {
    "duration": 37,
    "start_time": "2024-09-28T17:17:35.424Z"
   },
   {
    "duration": 80,
    "start_time": "2024-09-28T17:17:35.464Z"
   },
   {
    "duration": 60,
    "start_time": "2024-09-28T17:17:35.546Z"
   },
   {
    "duration": 6,
    "start_time": "2024-09-28T17:17:35.608Z"
   },
   {
    "duration": 35,
    "start_time": "2024-09-28T17:17:35.617Z"
   },
   {
    "duration": 88,
    "start_time": "2024-09-28T17:17:35.654Z"
   },
   {
    "duration": 480,
    "start_time": "2024-09-28T17:17:35.745Z"
   },
   {
    "duration": 37,
    "start_time": "2024-09-28T17:17:36.228Z"
   },
   {
    "duration": 41,
    "start_time": "2024-09-28T17:17:36.268Z"
   },
   {
    "duration": 34,
    "start_time": "2024-09-28T17:17:36.311Z"
   },
   {
    "duration": 124,
    "start_time": "2024-09-28T17:17:36.347Z"
   },
   {
    "duration": 37,
    "start_time": "2024-09-28T17:17:36.473Z"
   },
   {
    "duration": 55,
    "start_time": "2024-09-28T17:17:36.512Z"
   },
   {
    "duration": 130,
    "start_time": "2024-09-28T17:17:36.569Z"
   },
   {
    "duration": 16,
    "start_time": "2024-09-28T17:17:36.706Z"
   },
   {
    "duration": 66,
    "start_time": "2024-09-28T17:17:36.725Z"
   },
   {
    "duration": 262,
    "start_time": "2024-09-28T17:17:36.794Z"
   },
   {
    "duration": 11,
    "start_time": "2024-09-28T17:17:37.062Z"
   },
   {
    "duration": 9,
    "start_time": "2024-09-28T17:17:37.075Z"
   },
   {
    "duration": 44,
    "start_time": "2024-09-28T17:17:37.086Z"
   },
   {
    "duration": 31,
    "start_time": "2024-09-28T17:17:37.132Z"
   },
   {
    "duration": 15,
    "start_time": "2024-09-28T17:17:37.165Z"
   },
   {
    "duration": 151,
    "start_time": "2024-09-28T17:17:37.182Z"
   },
   {
    "duration": 6,
    "start_time": "2024-09-28T17:17:37.335Z"
   },
   {
    "duration": 42,
    "start_time": "2024-09-28T17:17:37.343Z"
   },
   {
    "duration": 29,
    "start_time": "2024-09-28T17:17:37.387Z"
   },
   {
    "duration": 18,
    "start_time": "2024-09-28T17:17:37.418Z"
   },
   {
    "duration": 8,
    "start_time": "2024-09-28T17:17:37.438Z"
   },
   {
    "duration": 16,
    "start_time": "2024-09-28T17:17:37.448Z"
   },
   {
    "duration": 10,
    "start_time": "2024-09-28T17:17:37.465Z"
   },
   {
    "duration": 27,
    "start_time": "2024-09-28T17:17:37.478Z"
   },
   {
    "duration": 8,
    "start_time": "2024-09-28T17:17:37.507Z"
   },
   {
    "duration": 1574,
    "start_time": "2024-09-28T17:21:21.942Z"
   },
   {
    "duration": 230,
    "start_time": "2024-09-28T17:21:23.518Z"
   },
   {
    "duration": 15,
    "start_time": "2024-09-28T17:21:23.750Z"
   },
   {
    "duration": 4,
    "start_time": "2024-09-28T17:21:23.768Z"
   },
   {
    "duration": 57,
    "start_time": "2024-09-28T17:21:23.773Z"
   },
   {
    "duration": 11,
    "start_time": "2024-09-28T17:21:23.832Z"
   },
   {
    "duration": 7,
    "start_time": "2024-09-28T17:21:23.845Z"
   },
   {
    "duration": 8,
    "start_time": "2024-09-28T17:21:23.854Z"
   },
   {
    "duration": 65,
    "start_time": "2024-09-28T17:21:23.864Z"
   },
   {
    "duration": 37,
    "start_time": "2024-09-28T17:21:23.934Z"
   },
   {
    "duration": 46,
    "start_time": "2024-09-28T17:21:23.974Z"
   },
   {
    "duration": 157,
    "start_time": "2024-09-28T17:21:24.023Z"
   },
   {
    "duration": 109,
    "start_time": "2024-09-28T17:21:24.183Z"
   },
   {
    "duration": 132,
    "start_time": "2024-09-28T17:21:24.295Z"
   },
   {
    "duration": 125,
    "start_time": "2024-09-28T17:21:24.429Z"
   },
   {
    "duration": 30,
    "start_time": "2024-09-28T17:21:24.556Z"
   },
   {
    "duration": 18,
    "start_time": "2024-09-28T17:21:24.587Z"
   },
   {
    "duration": 9,
    "start_time": "2024-09-28T17:21:24.608Z"
   },
   {
    "duration": 28,
    "start_time": "2024-09-28T17:21:24.619Z"
   },
   {
    "duration": 32,
    "start_time": "2024-09-28T17:21:24.649Z"
   },
   {
    "duration": 25,
    "start_time": "2024-09-28T17:21:24.706Z"
   },
   {
    "duration": 32,
    "start_time": "2024-09-28T17:21:24.733Z"
   },
   {
    "duration": 60,
    "start_time": "2024-09-28T17:21:24.771Z"
   },
   {
    "duration": 14,
    "start_time": "2024-09-28T17:21:24.834Z"
   },
   {
    "duration": 31,
    "start_time": "2024-09-28T17:21:24.851Z"
   },
   {
    "duration": 74,
    "start_time": "2024-09-28T17:21:24.905Z"
   },
   {
    "duration": 6,
    "start_time": "2024-09-28T17:21:24.981Z"
   },
   {
    "duration": 15,
    "start_time": "2024-09-28T17:21:24.991Z"
   },
   {
    "duration": 128,
    "start_time": "2024-09-28T17:21:25.010Z"
   },
   {
    "duration": 428,
    "start_time": "2024-09-28T17:21:25.140Z"
   },
   {
    "duration": 36,
    "start_time": "2024-09-28T17:21:25.570Z"
   },
   {
    "duration": 20,
    "start_time": "2024-09-28T17:21:25.608Z"
   },
   {
    "duration": 33,
    "start_time": "2024-09-28T17:21:25.630Z"
   },
   {
    "duration": 83,
    "start_time": "2024-09-28T17:21:25.665Z"
   },
   {
    "duration": 35,
    "start_time": "2024-09-28T17:21:25.750Z"
   },
   {
    "duration": 65,
    "start_time": "2024-09-28T17:21:25.787Z"
   },
   {
    "duration": 128,
    "start_time": "2024-09-28T17:21:25.854Z"
   },
   {
    "duration": 21,
    "start_time": "2024-09-28T17:21:25.985Z"
   },
   {
    "duration": 54,
    "start_time": "2024-09-28T17:21:26.008Z"
   },
   {
    "duration": 257,
    "start_time": "2024-09-28T17:21:26.065Z"
   },
   {
    "duration": 12,
    "start_time": "2024-09-28T17:21:26.324Z"
   },
   {
    "duration": 6,
    "start_time": "2024-09-28T17:21:26.338Z"
   },
   {
    "duration": 19,
    "start_time": "2024-09-28T17:21:26.346Z"
   },
   {
    "duration": 75,
    "start_time": "2024-09-28T17:21:26.367Z"
   },
   {
    "duration": 21,
    "start_time": "2024-09-28T17:21:26.444Z"
   },
   {
    "duration": 119,
    "start_time": "2024-09-28T17:21:26.467Z"
   },
   {
    "duration": 17,
    "start_time": "2024-09-28T17:21:26.588Z"
   },
   {
    "duration": 21,
    "start_time": "2024-09-28T17:21:26.607Z"
   },
   {
    "duration": 9,
    "start_time": "2024-09-28T17:21:26.630Z"
   },
   {
    "duration": 13,
    "start_time": "2024-09-28T17:21:26.641Z"
   },
   {
    "duration": 6,
    "start_time": "2024-09-28T17:21:26.656Z"
   },
   {
    "duration": 45,
    "start_time": "2024-09-28T17:21:26.663Z"
   },
   {
    "duration": 7,
    "start_time": "2024-09-28T17:21:26.711Z"
   },
   {
    "duration": 7,
    "start_time": "2024-09-28T17:21:26.720Z"
   },
   {
    "duration": 9,
    "start_time": "2024-09-28T17:21:26.730Z"
   }
  ],
  "kernelspec": {
   "display_name": "Python [conda env:base] *",
   "language": "python",
   "name": "conda-base-py"
  },
  "language_info": {
   "codemirror_mode": {
    "name": "ipython",
    "version": 3
   },
   "file_extension": ".py",
   "mimetype": "text/x-python",
   "name": "python",
   "nbconvert_exporter": "python",
   "pygments_lexer": "ipython3",
   "version": "3.11.10"
  },
  "toc": {
   "base_numbering": 1,
   "nav_menu": {},
   "number_sections": false,
   "sideBar": true,
   "skip_h1_title": true,
   "title_cell": "Table of Contents",
   "title_sidebar": "Contents",
   "toc_cell": false,
   "toc_position": {},
   "toc_section_display": true,
   "toc_window_display": true
  }
 },
 "nbformat": 4,
 "nbformat_minor": 5
}
